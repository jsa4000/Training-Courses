{
 "cells": [
  {
   "cell_type": "markdown",
   "metadata": {},
   "source": [
    "---\n",
    "\n",
    "_You are currently looking at **version 1.1** of this notebook. To download notebooks and datafiles, as well as get help on Jupyter notebooks in the Coursera platform, visit the [Jupyter Notebook FAQ](https://www.coursera.org/learn/python-data-analysis/resources/0dhYG) course resource._\n",
    "\n",
    "---"
   ]
  },
  {
   "cell_type": "code",
   "execution_count": 6,
   "metadata": {
    "collapsed": true
   },
   "outputs": [],
   "source": [
    "import pandas as pd\n",
    "import numpy as np\n",
    "from scipy.stats import ttest_ind"
   ]
  },
  {
   "cell_type": "markdown",
   "metadata": {},
   "source": [
    "# Assignment 4 - Hypothesis Testing\n",
    "This assignment requires more individual learning than previous assignments - you are encouraged to check out the [pandas documentation](http://pandas.pydata.org/pandas-docs/stable/) to find functions or methods you might not have used yet, or ask questions on [Stack Overflow](http://stackoverflow.com/) and tag them as pandas and python related. And of course, the discussion forums are open for interaction with your peers and the course staff.\n",
    "\n",
    "Definitions:\n",
    "* A _quarter_ is a specific three month period, Q1 is January through March, Q2 is April through June, Q3 is July through September, Q4 is October through December.\n",
    "* A _recession_ is defined as starting with two consecutive quarters of GDP decline, and ending with two consecutive quarters of GDP growth.\n",
    "* A _recession bottom_ is the quarter within a recession which had the lowest GDP.\n",
    "* A _university town_ is a city which has a high percentage of university students compared to the total population of the city.\n",
    "\n",
    "**Hypothesis**: University towns have their mean housing prices less effected by recessions. Run a t-test to compare the ratio of the mean price of houses in university towns the quarter before the recession starts compared to the recession bottom. (`price_ratio=quarter_before_recession/recession_bottom`)\n",
    "\n",
    "The following data files are available for this assignment:\n",
    "* From the [Zillow research data site](http://www.zillow.com/research/data/) there is housing data for the United States. In particular the datafile for [all homes at a city level](http://files.zillowstatic.com/research/public/City/City_Zhvi_AllHomes.csv), ```City_Zhvi_AllHomes.csv```, has median home sale prices at a fine grained level.\n",
    "* From the Wikipedia page on college towns is a list of [university towns in the United States](https://en.wikipedia.org/wiki/List_of_college_towns#College_towns_in_the_United_States) which has been copy and pasted into the file ```university_towns.txt```.\n",
    "* From Bureau of Economic Analysis, US Department of Commerce, the [GDP over time](http://www.bea.gov/national/index.htm#gdp) of the United States in current dollars (use the chained value in 2009 dollars), in quarterly intervals, in the file ```gdplev.xls```. For this assignment, only look at GDP data from the first quarter of 2000 onward.\n",
    "\n",
    "Each function in this assignment below is worth 10%, with the exception of ```run_ttest()```, which is worth 50%."
   ]
  },
  {
   "cell_type": "code",
   "execution_count": 7,
   "metadata": {
    "collapsed": false
   },
   "outputs": [],
   "source": [
    "# Use this dictionary to map state names to two letter acronyms\n",
    "states = {'OH': 'Ohio', 'KY': 'Kentucky', 'AS': 'American Samoa', 'NV': 'Nevada', 'WY': 'Wyoming', 'NA': 'National', 'AL': 'Alabama', 'MD': 'Maryland', 'AK': 'Alaska', 'UT': 'Utah', 'OR': 'Oregon', 'MT': 'Montana', 'IL': 'Illinois', 'TN': 'Tennessee', 'DC': 'District of Columbia', 'VT': 'Vermont', 'ID': 'Idaho', 'AR': 'Arkansas', 'ME': 'Maine', 'WA': 'Washington', 'HI': 'Hawaii', 'WI': 'Wisconsin', 'MI': 'Michigan', 'IN': 'Indiana', 'NJ': 'New Jersey', 'AZ': 'Arizona', 'GU': 'Guam', 'MS': 'Mississippi', 'PR': 'Puerto Rico', 'NC': 'North Carolina', 'TX': 'Texas', 'SD': 'South Dakota', 'MP': 'Northern Mariana Islands', 'IA': 'Iowa', 'MO': 'Missouri', 'CT': 'Connecticut', 'WV': 'West Virginia', 'SC': 'South Carolina', 'LA': 'Louisiana', 'KS': 'Kansas', 'NY': 'New York', 'NE': 'Nebraska', 'OK': 'Oklahoma', 'FL': 'Florida', 'CA': 'California', 'CO': 'Colorado', 'PA': 'Pennsylvania', 'DE': 'Delaware', 'NM': 'New Mexico', 'RI': 'Rhode Island', 'MN': 'Minnesota', 'VI': 'Virgin Islands', 'NH': 'New Hampshire', 'MA': 'Massachusetts', 'GA': 'Georgia', 'ND': 'North Dakota', 'VA': 'Virginia'}"
   ]
  },
  {
   "cell_type": "code",
   "execution_count": 8,
   "metadata": {
    "collapsed": false
   },
   "outputs": [],
   "source": [
    "def get_list_of_university_towns():\n",
    "    # Let's create a new variable for all the values\n",
    "    towns = []\n",
    "    # Read the file\n",
    "    with open('university_towns.txt', 'r+') as file:\n",
    "        state = \"Unknown\"\n",
    "        # Read the \n",
    "        for line in file:\n",
    "            if \"[edit]\" in line:\n",
    "                state = line.split(\"[\")[0].strip()\n",
    "            else:\n",
    "                # Get the country and store into the Dictionary for the dataframe\n",
    "                towns.append([state, line.split(\"(\")[0].strip()])\n",
    "    # Create a dataframe using the data read\n",
    "    return pd.DataFrame(towns, columns=[\"State\", \"RegionName\"])"
   ]
  },
  {
   "cell_type": "code",
   "execution_count": 8,
   "metadata": {
    "collapsed": false
   },
   "outputs": [
    {
     "data": {
      "text/html": [
       "<div>\n",
       "<table border=\"1\" class=\"dataframe\">\n",
       "  <thead>\n",
       "    <tr style=\"text-align: right;\">\n",
       "      <th></th>\n",
       "      <th>State</th>\n",
       "      <th>RegionName</th>\n",
       "    </tr>\n",
       "  </thead>\n",
       "  <tbody>\n",
       "    <tr>\n",
       "      <th>0</th>\n",
       "      <td>Alabama</td>\n",
       "      <td>Auburn</td>\n",
       "    </tr>\n",
       "    <tr>\n",
       "      <th>1</th>\n",
       "      <td>Alabama</td>\n",
       "      <td>Florence</td>\n",
       "    </tr>\n",
       "    <tr>\n",
       "      <th>2</th>\n",
       "      <td>Alabama</td>\n",
       "      <td>Jacksonville</td>\n",
       "    </tr>\n",
       "    <tr>\n",
       "      <th>3</th>\n",
       "      <td>Alabama</td>\n",
       "      <td>Livingston</td>\n",
       "    </tr>\n",
       "    <tr>\n",
       "      <th>4</th>\n",
       "      <td>Alabama</td>\n",
       "      <td>Montevallo</td>\n",
       "    </tr>\n",
       "  </tbody>\n",
       "</table>\n",
       "</div>"
      ],
      "text/plain": [
       "     State    RegionName\n",
       "0  Alabama        Auburn\n",
       "1  Alabama      Florence\n",
       "2  Alabama  Jacksonville\n",
       "3  Alabama    Livingston\n",
       "4  Alabama    Montevallo"
      ]
     },
     "execution_count": 8,
     "metadata": {},
     "output_type": "execute_result"
    }
   ],
   "source": [
    "get_list_of_university_towns().head()"
   ]
  },
  {
   "cell_type": "code",
   "execution_count": 7,
   "metadata": {
    "collapsed": true
   },
   "outputs": [],
   "source": [
    "## Recession definition\n",
    "def check_reccession(row):\n",
    "    # By default the recesion is set to False\n",
    "    result = False\n",
    "    if (row[\"i-3\"] < row[\"i-4\"]) and (row[\"i-2\"] < row[\"i-3\"]):\n",
    "        result = True\n",
    "    # Set the final result \n",
    "    row[\"recession\"] = result\n",
    "    return row\n",
    "\n",
    "def get_GDP():\n",
    "    # Open the Excel file\n",
    "    excel = pd.ExcelFile(\"gdplev.xls\")\n",
    "    # Form the first sheet only take the columns E and G with the quarter and chained GDP \n",
    "    GDP = excel.parse(excel.sheet_names[0],names=[\"QuarterYear\",\"GDP\"],skiprows=7, parse_cols=\"E,G\")\n",
    "    # Split the columns quarter year into year\n",
    "    GDP[\"Year\"] = GDP[\"QuarterYear\"].map(lambda cell: cell.split(\"q\")[0])\n",
    "    # Convert to numeric (floa, integer or wathever) values from columns Year and Quarter\n",
    "    GDP[\"Year\"] = pd.to_numeric(GDP[\"Year\"])\n",
    "    GDP[\"GDP\"] = pd.to_numeric(GDP[\"GDP\"])\n",
    "    # Filter the values from 2000 (we also need previous year to compute the recession for the first year)\n",
    "    GDP = GDP[GDP[\"Year\"] >= 1999]\n",
    "    # Reset the index and delete the old one.\n",
    "    GDP.reset_index(drop=True,inplace=True)\n",
    "    # Create new columns with the last 4 quarters in order to cumpute the reccesion\n",
    "    columns = [\"i-4\",\"i-3\",\"i-2\",\"i-1\"]\n",
    "    values = [[np.NaN,np.NaN,np.NaN,np.NaN]] * (len(GDP[\"GDP\"]) )\n",
    "    new_columns = pd.DataFrame(values, columns = columns)\n",
    "    # Add to the columns the data from GDP\n",
    "    for i in range(4, len(GDP[\"GDP\"])):\n",
    "        new_columns.ix[i, columns] = GDP[\"GDP\"].iloc[i-4:i].values  \n",
    "    #Merge the new columns with the GDO set from 2000\t\n",
    "    GDP = pd.concat([GDP,new_columns], axis = 1 )\n",
    "    #Once both set have been merged, et the index\n",
    "    GDP.set_index(\"QuarterYear\", inplace=True)\n",
    "    ## Let's create a new column with recession periods\n",
    "    GDP[\"recession\"] = False\n",
    "    # Apply recession function to the dataframe by row\n",
    "    return GDP.apply(check_reccession,axis = 1)"
   ]
  },
  {
   "cell_type": "code",
   "execution_count": 13,
   "metadata": {
    "collapsed": false
   },
   "outputs": [],
   "source": [
    "def get_recession_start():\n",
    "    GDP = get_GDP()\n",
    "    recGDP = GDP[GDP[\"recession\"]==True]\n",
    "    bottom = GDP.index.get_loc(recGDP[\"GDP\"].argmin())\n",
    "    return GDP.index[bottom- 3]"
   ]
  },
  {
   "cell_type": "code",
   "execution_count": 9,
   "metadata": {
    "collapsed": false
   },
   "outputs": [],
   "source": [
    "def get_recession_end():\n",
    "    GDP = get_GDP()\n",
    "    recGDP = GDP[GDP[\"recession\"]==True]\n",
    "    return recGDP[\"GDP\"].argmax()"
   ]
  },
  {
   "cell_type": "code",
   "execution_count": 12,
   "metadata": {
    "collapsed": false
   },
   "outputs": [],
   "source": [
    "def get_recession_bottom():\n",
    "    GDP = get_GDP()\n",
    "    recGDP = GDP[GDP[\"recession\"]==True]\n",
    "    return recGDP[\"GDP\"].argmin()"
   ]
  },
  {
   "cell_type": "code",
   "execution_count": 10,
   "metadata": {
    "collapsed": false
   },
   "outputs": [],
   "source": [
    "def convert_housing_data_to_quarters():\n",
    "    homes = pd.read_csv(\"City_Zhvi_AllHomes.csv\")\n",
    "    # Apply the ransfomration to moths to quarters\n",
    "    hquarters = homes.loc[:,[\"RegionName\",\"State\"]]\n",
    "    # Let's loop from 2000 to 2016\n",
    "    for year in range(2000,2017):\n",
    "        # Let's loop over the four quarters per year\n",
    "        for quarter in range(0,4):\n",
    "            #Let's loop over the 12/4 = 3 mothns per quarter\n",
    "            columns = [str(year)+\"-\"+str((quarter * 3) + month).zfill(2) for month in range(1,4)]\n",
    "            # Check if this quarter need to be added\n",
    "            if (any((True for x in homes.columns.values if x in columns))):\n",
    "                #Since get doesn't seems to work fine it the columns doesn't exist, check if a column need\n",
    "                #to be added\n",
    "                for column in columns:\n",
    "                    if not column in homes.columns.values:\n",
    "                        #Add the column with NaN values\n",
    "                        homes[column] = np.nan\n",
    "                hquarters[str(year) + \"q\" + str(quarter+1)] = homes.get(columns).mean(skipna=True, axis=1)\n",
    "    # Map the states \n",
    "    hquarters[\"State\"] = hquarters[\"State\"].map(states)\n",
    "    #Set the new idnex\n",
    "    return hquarters.set_index([\"State\",\"RegionName\"])"
   ]
  },
  {
   "cell_type": "code",
   "execution_count": 14,
   "metadata": {
    "collapsed": false
   },
   "outputs": [
    {
     "data": {
      "text/plain": [
       "(10730, 67)"
      ]
     },
     "execution_count": 14,
     "metadata": {},
     "output_type": "execute_result"
    }
   ],
   "source": [
    "convert_housing_data_to_quarters().shape"
   ]
  },
  {
   "cell_type": "code",
   "execution_count": 15,
   "metadata": {
    "collapsed": false
   },
   "outputs": [
    {
     "data": {
      "text/plain": [
       "202266.66666666666"
      ]
     },
     "execution_count": 15,
     "metadata": {},
     "output_type": "execute_result"
    }
   ],
   "source": [
    "convert_housing_data_to_quarters().loc[\"Texas\"].loc[\"Austin\"].loc[\"2010q3\"]"
   ]
  },
  {
   "cell_type": "code",
   "execution_count": 11,
   "metadata": {
    "collapsed": false
   },
   "outputs": [],
   "source": [
    "def run_ttest():\n",
    "    #Let's get the columns where the recession star and the bottom\n",
    "    fromDate = get_recession_start()\n",
    "    toDate = get_recession_end()\n",
    "    # Get the housing data and the university towns\n",
    "    data = convert_housing_data_to_quarters()\n",
    "    towns = get_list_of_university_towns()\n",
    "    #Let's use the same index as the data for the university Towns dataframe\n",
    "    towns.set_index([\"State\",\"RegionName\"],inplace = True)\n",
    "    #Compute the ratio housing prices from the bottom to the start recession period\n",
    "    data = data.loc[:, fromDate:toDate]\n",
    "    data[\"ratio\"] = data.loc[:, fromDate] / data.loc[:, toDate] \n",
    "    #Get the universisty towns\n",
    "    university = pd.merge(data,towns,how='inner',left_index=True,right_index=True)\n",
    "    #Left outter join\n",
    "    non_university = pd.merge(data, towns,how='outer',left_index=True, right_index=True, indicator=True)\n",
    "    non_university = non_university[non_university._merge == 'left_only']\n",
    "    #Call to ttest                                \n",
    "    statistic, p_value = tuple(ttest_ind(university[\"ratio\"].dropna(), non_university[\"ratio\"].dropna()))\n",
    "    outcome = statistic < 0\n",
    "    different = p_value < 0.05\n",
    "    better = [\"non-university town\", \"university town\"]\n",
    "    return (different, p_value, better[outcome])"
   ]
  },
  {
   "cell_type": "code",
   "execution_count": 12,
   "metadata": {
    "collapsed": false
   },
   "outputs": [
    {
     "ename": "NameError",
     "evalue": "name 'pd' is not defined",
     "output_type": "error",
     "traceback": [
      "\u001b[0;31m---------------------------------------------------------------------------\u001b[0m",
      "\u001b[0;31mNameError\u001b[0m                                 Traceback (most recent call last)",
      "\u001b[0;32m<ipython-input-12-e27acbcf7eb6>\u001b[0m in \u001b[0;36m<module>\u001b[0;34m()\u001b[0m\n\u001b[0;32m----> 1\u001b[0;31m \u001b[0mrun_ttest\u001b[0m\u001b[0;34m(\u001b[0m\u001b[0;34m)\u001b[0m\u001b[0;34m\u001b[0m\u001b[0m\n\u001b[0m",
      "\u001b[0;32m<ipython-input-11-79151f76fc97>\u001b[0m in \u001b[0;36mrun_ttest\u001b[0;34m()\u001b[0m\n\u001b[1;32m      1\u001b[0m \u001b[0;32mdef\u001b[0m \u001b[0mrun_ttest\u001b[0m\u001b[0;34m(\u001b[0m\u001b[0;34m)\u001b[0m\u001b[0;34m:\u001b[0m\u001b[0;34m\u001b[0m\u001b[0m\n\u001b[1;32m      2\u001b[0m     \u001b[0;31m#Let's get the columns where the recession star and the bottom\u001b[0m\u001b[0;34m\u001b[0m\u001b[0;34m\u001b[0m\u001b[0m\n\u001b[0;32m----> 3\u001b[0;31m     \u001b[0mfromDate\u001b[0m \u001b[0;34m=\u001b[0m \u001b[0mget_recession_start\u001b[0m\u001b[0;34m(\u001b[0m\u001b[0;34m)\u001b[0m\u001b[0;34m\u001b[0m\u001b[0m\n\u001b[0m\u001b[1;32m      4\u001b[0m     \u001b[0mtoDate\u001b[0m \u001b[0;34m=\u001b[0m \u001b[0mget_recession_end\u001b[0m\u001b[0;34m(\u001b[0m\u001b[0;34m)\u001b[0m\u001b[0;34m\u001b[0m\u001b[0m\n\u001b[1;32m      5\u001b[0m     \u001b[0;31m# Get the housing data and the university towns\u001b[0m\u001b[0;34m\u001b[0m\u001b[0;34m\u001b[0m\u001b[0m\n",
      "\u001b[0;32m<ipython-input-8-951cf91d2bfd>\u001b[0m in \u001b[0;36mget_recession_start\u001b[0;34m()\u001b[0m\n\u001b[1;32m      1\u001b[0m \u001b[0;32mdef\u001b[0m \u001b[0mget_recession_start\u001b[0m\u001b[0;34m(\u001b[0m\u001b[0;34m)\u001b[0m\u001b[0;34m:\u001b[0m\u001b[0;34m\u001b[0m\u001b[0m\n\u001b[0;32m----> 2\u001b[0;31m     \u001b[0mGDP\u001b[0m \u001b[0;34m=\u001b[0m \u001b[0mget_GDP\u001b[0m\u001b[0;34m(\u001b[0m\u001b[0;34m)\u001b[0m\u001b[0;34m\u001b[0m\u001b[0m\n\u001b[0m\u001b[1;32m      3\u001b[0m     \u001b[0mrecGDP\u001b[0m \u001b[0;34m=\u001b[0m \u001b[0mGDP\u001b[0m\u001b[0;34m[\u001b[0m\u001b[0mGDP\u001b[0m\u001b[0;34m[\u001b[0m\u001b[0;34m\"recession\"\u001b[0m\u001b[0;34m]\u001b[0m\u001b[0;34m==\u001b[0m\u001b[0;32mTrue\u001b[0m\u001b[0;34m]\u001b[0m\u001b[0;34m\u001b[0m\u001b[0m\n\u001b[1;32m      4\u001b[0m     \u001b[0mbottom\u001b[0m \u001b[0;34m=\u001b[0m \u001b[0mGDP\u001b[0m\u001b[0;34m.\u001b[0m\u001b[0mindex\u001b[0m\u001b[0;34m.\u001b[0m\u001b[0mget_loc\u001b[0m\u001b[0;34m(\u001b[0m\u001b[0mrecGDP\u001b[0m\u001b[0;34m[\u001b[0m\u001b[0;34m\"GDP\"\u001b[0m\u001b[0;34m]\u001b[0m\u001b[0;34m.\u001b[0m\u001b[0margmin\u001b[0m\u001b[0;34m(\u001b[0m\u001b[0;34m)\u001b[0m\u001b[0;34m)\u001b[0m\u001b[0;34m\u001b[0m\u001b[0m\n\u001b[1;32m      5\u001b[0m     \u001b[0;32mreturn\u001b[0m \u001b[0mGDP\u001b[0m\u001b[0;34m.\u001b[0m\u001b[0mindex\u001b[0m\u001b[0;34m[\u001b[0m\u001b[0mbottom\u001b[0m\u001b[0;34m-\u001b[0m \u001b[0;36m3\u001b[0m\u001b[0;34m]\u001b[0m\u001b[0;34m\u001b[0m\u001b[0m\n",
      "\u001b[0;32m<ipython-input-7-f464bb4893d1>\u001b[0m in \u001b[0;36mget_GDP\u001b[0;34m()\u001b[0m\n\u001b[1;32m     11\u001b[0m \u001b[0;32mdef\u001b[0m \u001b[0mget_GDP\u001b[0m\u001b[0;34m(\u001b[0m\u001b[0;34m)\u001b[0m\u001b[0;34m:\u001b[0m\u001b[0;34m\u001b[0m\u001b[0m\n\u001b[1;32m     12\u001b[0m     \u001b[0;31m# Open the Excel file\u001b[0m\u001b[0;34m\u001b[0m\u001b[0;34m\u001b[0m\u001b[0m\n\u001b[0;32m---> 13\u001b[0;31m     \u001b[0mexcel\u001b[0m \u001b[0;34m=\u001b[0m \u001b[0mpd\u001b[0m\u001b[0;34m.\u001b[0m\u001b[0mExcelFile\u001b[0m\u001b[0;34m(\u001b[0m\u001b[0;34m\"gdplev.xls\"\u001b[0m\u001b[0;34m)\u001b[0m\u001b[0;34m\u001b[0m\u001b[0m\n\u001b[0m\u001b[1;32m     14\u001b[0m     \u001b[0;31m# Form the first sheet only take the columns E and G with the quarter and chained GDP\u001b[0m\u001b[0;34m\u001b[0m\u001b[0;34m\u001b[0m\u001b[0m\n\u001b[1;32m     15\u001b[0m     \u001b[0mGDP\u001b[0m \u001b[0;34m=\u001b[0m \u001b[0mexcel\u001b[0m\u001b[0;34m.\u001b[0m\u001b[0mparse\u001b[0m\u001b[0;34m(\u001b[0m\u001b[0mexcel\u001b[0m\u001b[0;34m.\u001b[0m\u001b[0msheet_names\u001b[0m\u001b[0;34m[\u001b[0m\u001b[0;36m0\u001b[0m\u001b[0;34m]\u001b[0m\u001b[0;34m,\u001b[0m\u001b[0mnames\u001b[0m\u001b[0;34m=\u001b[0m\u001b[0;34m[\u001b[0m\u001b[0;34m\"QuarterYear\"\u001b[0m\u001b[0;34m,\u001b[0m\u001b[0;34m\"GDP\"\u001b[0m\u001b[0;34m]\u001b[0m\u001b[0;34m,\u001b[0m\u001b[0mskiprows\u001b[0m\u001b[0;34m=\u001b[0m\u001b[0;36m7\u001b[0m\u001b[0;34m,\u001b[0m \u001b[0mparse_cols\u001b[0m\u001b[0;34m=\u001b[0m\u001b[0;34m\"E,G\"\u001b[0m\u001b[0;34m)\u001b[0m\u001b[0;34m\u001b[0m\u001b[0m\n",
      "\u001b[0;31mNameError\u001b[0m: name 'pd' is not defined"
     ]
    }
   ],
   "source": [
    "run_ttest()"
   ]
  }
 ],
 "metadata": {
  "coursera": {
   "course_slug": "python-data-analysis",
   "graded_item_id": "Il9Fx",
   "launcher_item_id": "TeDW0",
   "part_id": "WGlun"
  },
  "kernelspec": {
   "display_name": "Python 3",
   "language": "python",
   "name": "python3"
  },
  "language_info": {
   "codemirror_mode": {
    "name": "ipython",
    "version": 3
   },
   "file_extension": ".py",
   "mimetype": "text/x-python",
   "name": "python",
   "nbconvert_exporter": "python",
   "pygments_lexer": "ipython3",
   "version": "3.5.2"
  }
 },
 "nbformat": 4,
 "nbformat_minor": 0
}
