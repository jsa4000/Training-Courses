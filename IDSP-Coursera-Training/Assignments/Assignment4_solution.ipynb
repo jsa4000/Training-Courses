{
 "cells": [
  {
   "cell_type": "markdown",
   "metadata": {},
   "source": [
    "---\n",
    "\n",
    "_You are currently looking at **version 1.1** of this notebook. To download notebooks and datafiles, as well as get help on Jupyter notebooks in the Coursera platform, visit the [Jupyter Notebook FAQ](https://www.coursera.org/learn/python-data-analysis/resources/0dhYG) course resource._\n",
    "\n",
    "---"
   ]
  },
  {
   "cell_type": "code",
   "execution_count": 7,
   "metadata": {
    "collapsed": true
   },
   "outputs": [],
   "source": [
    "import pandas as pd\n",
    "import numpy as np\n",
    "from scipy.stats import ttest_ind"
   ]
  },
  {
   "cell_type": "markdown",
   "metadata": {},
   "source": [
    "# Assignment 4 - Hypothesis Testing\n",
    "This assignment requires more individual learning than previous assignments - you are encouraged to check out the [pandas documentation](http://pandas.pydata.org/pandas-docs/stable/) to find functions or methods you might not have used yet, or ask questions on [Stack Overflow](http://stackoverflow.com/) and tag them as pandas and python related. And of course, the discussion forums are open for interaction with your peers and the course staff.\n",
    "\n",
    "Definitions:\n",
    "* A _quarter_ is a specific three month period, Q1 is January through March, Q2 is April through June, Q3 is July through September, Q4 is October through December.\n",
    "* A _recession_ is defined as starting with two consecutive quarters of GDP decline, and ending with two consecutive quarters of GDP growth.\n",
    "* A _recession bottom_ is the quarter within a recession which had the lowest GDP.\n",
    "* A _university town_ is a city which has a high percentage of university students compared to the total population of the city.\n",
    "\n",
    "**Hypothesis**: University towns have their mean housing prices less effected by recessions. Run a t-test to compare the ratio of the mean price of houses in university towns the quarter before the recession starts compared to the recession bottom. (`price_ratio=quarter_before_recession/recession_bottom`)\n",
    "\n",
    "The following data files are available for this assignment:\n",
    "* From the [Zillow research data site](http://www.zillow.com/research/data/) there is housing data for the United States. In particular the datafile for [all homes at a city level](http://files.zillowstatic.com/research/public/City/City_Zhvi_AllHomes.csv), ```City_Zhvi_AllHomes.csv```, has median home sale prices at a fine grained level.\n",
    "* From the Wikipedia page on college towns is a list of [university towns in the United States](https://en.wikipedia.org/wiki/List_of_college_towns#College_towns_in_the_United_States) which has been copy and pasted into the file ```university_towns.txt```.\n",
    "* From Bureau of Economic Analysis, US Department of Commerce, the [GDP over time](http://www.bea.gov/national/index.htm#gdp) of the United States in current dollars (use the chained value in 2009 dollars), in quarterly intervals, in the file ```gdplev.xls```. For this assignment, only look at GDP data from the first quarter of 2000 onward.\n",
    "\n",
    "Each function in this assignment below is worth 10%, with the exception of ```run_ttest()```, which is worth 50%."
   ]
  },
  {
   "cell_type": "markdown",
   "metadata": {},
   "source": [
    "Definitons From Wikipedia:\n",
    "\n",
    "- **Gross domestic product (GDP)** is a monetary measure of the market value of all final goods and services produced in a period (quarterly or yearly). \n",
    "- **Nominal GDP** estimates are commonly used to determine the economic performance of a whole country or region, and to make international comparisons. \n",
    "- **Nominal GDP per capita** does not, however, reflect differences in the cost of living and the inflation rates of the countries; therefore using a GDP PPP per capita basis is arguably more useful when comparing differences in living standards between nations."
   ]
  },
  {
   "cell_type": "markdown",
   "metadata": {},
   "source": [
    "Really like this appoach to localizze a pettern inside a colums. In this case to detect when redeccion starts"
   ]
  },
  {
   "cell_type": "markdown",
   "metadata": {},
   "source": [
    "> Convert the values of the series to a string i.e. ''.join(gdp_b.values) and use str.index() to find the index (ind) of the pattern \"0011\" then use str.rindex() to find the last occurrence of 1 before the pattern \"0011\" occurred, adding one to that will give you the position of the start recession. The recession end index will be ind-len(pattern)-1"
   ]
  },
  {
   "cell_type": "code",
   "execution_count": null,
   "metadata": {
    "collapsed": false
   },
   "outputs": [],
   "source": [
    "# Use this dictionary to map state names to two letter acronyms\n",
    "states = {'OH': 'Ohio', 'KY': 'Kentucky', 'AS': 'American Samoa', 'NV': 'Nevada', 'WY': 'Wyoming', 'NA': 'National', 'AL': 'Alabama', 'MD': 'Maryland', 'AK': 'Alaska', 'UT': 'Utah', 'OR': 'Oregon', 'MT': 'Montana', 'IL': 'Illinois', 'TN': 'Tennessee', 'DC': 'District of Columbia', 'VT': 'Vermont', 'ID': 'Idaho', 'AR': 'Arkansas', 'ME': 'Maine', 'WA': 'Washington', 'HI': 'Hawaii', 'WI': 'Wisconsin', 'MI': 'Michigan', 'IN': 'Indiana', 'NJ': 'New Jersey', 'AZ': 'Arizona', 'GU': 'Guam', 'MS': 'Mississippi', 'PR': 'Puerto Rico', 'NC': 'North Carolina', 'TX': 'Texas', 'SD': 'South Dakota', 'MP': 'Northern Mariana Islands', 'IA': 'Iowa', 'MO': 'Missouri', 'CT': 'Connecticut', 'WV': 'West Virginia', 'SC': 'South Carolina', 'LA': 'Louisiana', 'KS': 'Kansas', 'NY': 'New York', 'NE': 'Nebraska', 'OK': 'Oklahoma', 'FL': 'Florida', 'CA': 'California', 'CO': 'Colorado', 'PA': 'Pennsylvania', 'DE': 'Delaware', 'NM': 'New Mexico', 'RI': 'Rhode Island', 'MN': 'Minnesota', 'VI': 'Virgin Islands', 'NH': 'New Hampshire', 'MA': 'Massachusetts', 'GA': 'Georgia', 'ND': 'North Dakota', 'VA': 'Virginia'}"
   ]
  },
  {
   "cell_type": "code",
   "execution_count": 4,
   "metadata": {
    "collapsed": false
   },
   "outputs": [],
   "source": [
    "def get_list_of_university_towns():\n",
    "    '''Returns a DataFrame of towns and the states they are in from the \n",
    "    university_towns.txt list. The format of the DataFrame should be:\n",
    "    DataFrame( [ [\"Michigan\", \"Ann Arbor\"], [\"Michigan\", \"Yipsilanti\"] ], \n",
    "    columns=[\"State\", \"RegionName\"]  )\n",
    "    \n",
    "    The following cleaning needs to be done:\n",
    "\n",
    "    1. For \"State\", removing characters from \"[\" to the end.\n",
    "    2. For \"RegionName\", when applicable, removing every character from \" (\" to the end.\n",
    "    3. Depending on how you read the data, you may need to remove newline character '\\n'. '''\n",
    "    \n",
    "    return \"ANSWER\""
   ]
  },
  {
   "cell_type": "markdown",
   "metadata": {},
   "source": [
    "In this assigment first is needed some initial looking at the content of the files. In order to get the list of states and region names, it's needed to have additional information prevouly defined.\n",
    "\n",
    "When the [edit] word appears in the document this mean the state. Following to this states will be the Region name. We have to clean up the university before the bracket. Thiks will be done until next [edit] or state."
   ]
  },
  {
   "cell_type": "code",
   "execution_count": 10,
   "metadata": {
    "collapsed": false
   },
   "outputs": [
    {
     "data": {
      "text/plain": [
       "'\\nAlabama[edit]\\nAuburn (Auburn University)[1]\\nFlorence (University of North Alabama)\\nJacksonville (Jacksonville State University)[2]\\nLivingston (University of West Alabama)[2]\\nMontevallo (University of Montevallo)[2]\\nTroy (Troy University)[2]\\nTuscaloosa (University of Alabama, Stillman College, Shelton State)[3][4]\\nTuskegee (Tuskegee University)[5]\\nAlaska[edit]\\nFairbanks (University of Alaska Fairbanks)[2]\\nArizona[edit]\\nFlagstaff (Northern Arizona University)[6]\\nTempe (Arizona State University)\\nTucson (University of Arizona)\\nArkansas[edit]\\nArkadelphia (Henderson State University, Ouachita Baptist University)[2]\\n'"
      ]
     },
     "execution_count": 10,
     "metadata": {},
     "output_type": "execute_result"
    }
   ],
   "source": [
    "# This is the content of the file. I thing the file need to be open as a normal file and parse\n",
    "\"\"\"\n",
    "Alabama[edit]\n",
    "Auburn (Auburn University)[1]\n",
    "Florence (University of North Alabama)\n",
    "Jacksonville (Jacksonville State University)[2]\n",
    "Livingston (University of West Alabama)[2]\n",
    "Montevallo (University of Montevallo)[2]\n",
    "Troy (Troy University)[2]\n",
    "Tuscaloosa (University of Alabama, Stillman College, Shelton State)[3][4]\n",
    "Tuskegee (Tuskegee University)[5]\n",
    "Alaska[edit]\n",
    "Fairbanks (University of Alaska Fairbanks)[2]\n",
    "Arizona[edit]\n",
    "Flagstaff (Northern Arizona University)[6]\n",
    "Tempe (Arizona State University)\n",
    "Tucson (University of Arizona)\n",
    "Arkansas[edit]\n",
    "Arkadelphia (Henderson State University, Ouachita Baptist University)[2]\n",
    "\"\"\"\n"
   ]
  },
  {
   "cell_type": "code",
   "execution_count": 18,
   "metadata": {
    "collapsed": false
   },
   "outputs": [
    {
     "name": "stdout",
     "output_type": "stream",
     "text": [
      "['H', 'e', 'l', 'l', 'o', ' ', 'm', 'y', ' ', 'n', 'a', 'm', 'e', ' ', 'i', 's', ' ']\n"
     ]
    },
    {
     "data": {
      "text/plain": [
       "'Hello my name is'"
      ]
     },
     "execution_count": 18,
     "metadata": {},
     "output_type": "execute_result"
    }
   ],
   "source": [
    "#Function that removes the parenthesis\n",
    "some_text = \"Hello my name is (Javier) and something else ()\"\n",
    "clean_text = []\n",
    "for c in some_text:\n",
    "    if c == \"(\":\n",
    "        break\n",
    "    else:\n",
    "        clean_text.append(c)\n",
    "print(clean_text)\n",
    "my_text = \"\".join(clean_text)\n",
    "my_text.strip()"
   ]
  },
  {
   "cell_type": "code",
   "execution_count": 17,
   "metadata": {
    "collapsed": false
   },
   "outputs": [
    {
     "name": "stdout",
     "output_type": "stream",
     "text": [
      "Flagstaff\n"
     ]
    }
   ],
   "source": [
    "some_text = \"Flagstaff (Northern Arizona University)[6]\"\n",
    "# Not let's do more simple\n",
    "clean_text = some_text.split(\"(\")[0].strip()\n",
    "print(clean_text)\n"
   ]
  },
  {
   "cell_type": "markdown",
   "metadata": {},
   "source": [
    "## Check for States with NaN or Unknow values... "
   ]
  },
  {
   "cell_type": "code",
   "execution_count": 18,
   "metadata": {
    "collapsed": false
   },
   "outputs": [
    {
     "data": {
      "text/html": [
       "<div>\n",
       "<table border=\"1\" class=\"dataframe\">\n",
       "  <thead>\n",
       "    <tr style=\"text-align: right;\">\n",
       "      <th></th>\n",
       "      <th>RegionName</th>\n",
       "    </tr>\n",
       "    <tr>\n",
       "      <th>State</th>\n",
       "      <th></th>\n",
       "    </tr>\n",
       "  </thead>\n",
       "  <tbody>\n",
       "    <tr>\n",
       "      <th>Alabama</th>\n",
       "      <td>8</td>\n",
       "    </tr>\n",
       "    <tr>\n",
       "      <th>Alaska</th>\n",
       "      <td>1</td>\n",
       "    </tr>\n",
       "    <tr>\n",
       "      <th>Arizona</th>\n",
       "      <td>3</td>\n",
       "    </tr>\n",
       "    <tr>\n",
       "      <th>Arkansas</th>\n",
       "      <td>8</td>\n",
       "    </tr>\n",
       "    <tr>\n",
       "      <th>California</th>\n",
       "      <td>25</td>\n",
       "    </tr>\n",
       "    <tr>\n",
       "      <th>Colorado</th>\n",
       "      <td>9</td>\n",
       "    </tr>\n",
       "    <tr>\n",
       "      <th>Connecticut</th>\n",
       "      <td>7</td>\n",
       "    </tr>\n",
       "    <tr>\n",
       "      <th>Delaware</th>\n",
       "      <td>2</td>\n",
       "    </tr>\n",
       "    <tr>\n",
       "      <th>Florida</th>\n",
       "      <td>12</td>\n",
       "    </tr>\n",
       "    <tr>\n",
       "      <th>Georgia</th>\n",
       "      <td>16</td>\n",
       "    </tr>\n",
       "    <tr>\n",
       "      <th>Hawaii</th>\n",
       "      <td>1</td>\n",
       "    </tr>\n",
       "    <tr>\n",
       "      <th>Idaho</th>\n",
       "      <td>3</td>\n",
       "    </tr>\n",
       "    <tr>\n",
       "      <th>Illinois</th>\n",
       "      <td>10</td>\n",
       "    </tr>\n",
       "    <tr>\n",
       "      <th>Indiana</th>\n",
       "      <td>13</td>\n",
       "    </tr>\n",
       "    <tr>\n",
       "      <th>Iowa</th>\n",
       "      <td>13</td>\n",
       "    </tr>\n",
       "    <tr>\n",
       "      <th>Kansas</th>\n",
       "      <td>6</td>\n",
       "    </tr>\n",
       "    <tr>\n",
       "      <th>Kentucky</th>\n",
       "      <td>11</td>\n",
       "    </tr>\n",
       "    <tr>\n",
       "      <th>Louisiana</th>\n",
       "      <td>8</td>\n",
       "    </tr>\n",
       "    <tr>\n",
       "      <th>Maine</th>\n",
       "      <td>9</td>\n",
       "    </tr>\n",
       "    <tr>\n",
       "      <th>Maryland</th>\n",
       "      <td>10</td>\n",
       "    </tr>\n",
       "    <tr>\n",
       "      <th>Massachusetts</th>\n",
       "      <td>19</td>\n",
       "    </tr>\n",
       "    <tr>\n",
       "      <th>Michigan</th>\n",
       "      <td>20</td>\n",
       "    </tr>\n",
       "    <tr>\n",
       "      <th>Minnesota</th>\n",
       "      <td>14</td>\n",
       "    </tr>\n",
       "    <tr>\n",
       "      <th>Mississippi</th>\n",
       "      <td>5</td>\n",
       "    </tr>\n",
       "    <tr>\n",
       "      <th>Missouri</th>\n",
       "      <td>9</td>\n",
       "    </tr>\n",
       "    <tr>\n",
       "      <th>Montana</th>\n",
       "      <td>3</td>\n",
       "    </tr>\n",
       "    <tr>\n",
       "      <th>Nebraska</th>\n",
       "      <td>7</td>\n",
       "    </tr>\n",
       "    <tr>\n",
       "      <th>Nevada</th>\n",
       "      <td>2</td>\n",
       "    </tr>\n",
       "    <tr>\n",
       "      <th>New Hampshire</th>\n",
       "      <td>7</td>\n",
       "    </tr>\n",
       "    <tr>\n",
       "      <th>New Jersey</th>\n",
       "      <td>10</td>\n",
       "    </tr>\n",
       "    <tr>\n",
       "      <th>New Mexico</th>\n",
       "      <td>5</td>\n",
       "    </tr>\n",
       "    <tr>\n",
       "      <th>New York</th>\n",
       "      <td>31</td>\n",
       "    </tr>\n",
       "    <tr>\n",
       "      <th>North Carolina</th>\n",
       "      <td>18</td>\n",
       "    </tr>\n",
       "    <tr>\n",
       "      <th>North Dakota</th>\n",
       "      <td>2</td>\n",
       "    </tr>\n",
       "    <tr>\n",
       "      <th>Ohio</th>\n",
       "      <td>22</td>\n",
       "    </tr>\n",
       "    <tr>\n",
       "      <th>Oklahoma</th>\n",
       "      <td>11</td>\n",
       "    </tr>\n",
       "    <tr>\n",
       "      <th>Oregon</th>\n",
       "      <td>10</td>\n",
       "    </tr>\n",
       "    <tr>\n",
       "      <th>Pennsylvania</th>\n",
       "      <td>43</td>\n",
       "    </tr>\n",
       "    <tr>\n",
       "      <th>Rhode Island</th>\n",
       "      <td>2</td>\n",
       "    </tr>\n",
       "    <tr>\n",
       "      <th>South Carolina</th>\n",
       "      <td>11</td>\n",
       "    </tr>\n",
       "    <tr>\n",
       "      <th>South Dakota</th>\n",
       "      <td>4</td>\n",
       "    </tr>\n",
       "    <tr>\n",
       "      <th>Tennessee</th>\n",
       "      <td>13</td>\n",
       "    </tr>\n",
       "    <tr>\n",
       "      <th>Texas</th>\n",
       "      <td>22</td>\n",
       "    </tr>\n",
       "    <tr>\n",
       "      <th>Utah</th>\n",
       "      <td>6</td>\n",
       "    </tr>\n",
       "    <tr>\n",
       "      <th>Vermont</th>\n",
       "      <td>6</td>\n",
       "    </tr>\n",
       "    <tr>\n",
       "      <th>Virginia</th>\n",
       "      <td>12</td>\n",
       "    </tr>\n",
       "    <tr>\n",
       "      <th>Washington</th>\n",
       "      <td>5</td>\n",
       "    </tr>\n",
       "    <tr>\n",
       "      <th>West Virginia</th>\n",
       "      <td>9</td>\n",
       "    </tr>\n",
       "    <tr>\n",
       "      <th>Wisconsin</th>\n",
       "      <td>13</td>\n",
       "    </tr>\n",
       "    <tr>\n",
       "      <th>Wyoming</th>\n",
       "      <td>1</td>\n",
       "    </tr>\n",
       "  </tbody>\n",
       "</table>\n",
       "</div>"
      ],
      "text/plain": [
       "                RegionName\n",
       "State                     \n",
       "Alabama                  8\n",
       "Alaska                   1\n",
       "Arizona                  3\n",
       "Arkansas                 8\n",
       "California              25\n",
       "Colorado                 9\n",
       "Connecticut              7\n",
       "Delaware                 2\n",
       "Florida                 12\n",
       "Georgia                 16\n",
       "Hawaii                   1\n",
       "Idaho                    3\n",
       "Illinois                10\n",
       "Indiana                 13\n",
       "Iowa                    13\n",
       "Kansas                   6\n",
       "Kentucky                11\n",
       "Louisiana                8\n",
       "Maine                    9\n",
       "Maryland                10\n",
       "Massachusetts           19\n",
       "Michigan                20\n",
       "Minnesota               14\n",
       "Mississippi              5\n",
       "Missouri                 9\n",
       "Montana                  3\n",
       "Nebraska                 7\n",
       "Nevada                   2\n",
       "New Hampshire            7\n",
       "New Jersey              10\n",
       "New Mexico               5\n",
       "New York                31\n",
       "North Carolina          18\n",
       "North Dakota             2\n",
       "Ohio                    22\n",
       "Oklahoma                11\n",
       "Oregon                  10\n",
       "Pennsylvania            43\n",
       "Rhode Island             2\n",
       "South Carolina          11\n",
       "South Dakota             4\n",
       "Tennessee               13\n",
       "Texas                   22\n",
       "Utah                     6\n",
       "Vermont                  6\n",
       "Virginia                12\n",
       "Washington               5\n",
       "West Virginia            9\n",
       "Wisconsin               13\n",
       "Wyoming                  1"
      ]
     },
     "execution_count": 18,
     "metadata": {},
     "output_type": "execute_result"
    }
   ],
   "source": [
    "# Read the file and create the dataframe with the states and towns.\n",
    "towns = []\n",
    "# This function will take each state\n",
    "with open('university_towns.txt', 'r+') as file:\n",
    "    state = \"Unknown\"\n",
    "    # Read the \n",
    "    for line in file:\n",
    "        if \"[edit]\" in line:\n",
    "            state = line.split(\"[\")[0].strip()\n",
    "        else:\n",
    "            # Get the country and store into the Dictionary for the dataframe\n",
    "            towns.append([state, line.split(\"(\")[0].strip()])\n",
    "df = pd.DataFrame(towns, columns=[\"State\", \"RegionName\"])\n",
    "df.groupby(by=\"State\").count()\n",
    "# This is to see if there is something strange in the data.\n",
    "        "
   ]
  },
  {
   "cell_type": "markdown",
   "metadata": {},
   "source": [
    "In previous list you can see the count of the towns grouped by state. In this table we would be able to see if there are some wrong values with 0 or unknown states... so we can clean the values posrteriously."
   ]
  },
  {
   "cell_type": "code",
   "execution_count": 8,
   "metadata": {
    "collapsed": false
   },
   "outputs": [],
   "source": [
    "def get_list_of_university_towns():\n",
    "    # Let's create a new variable for all the values\n",
    "    towns = []\n",
    "    # Read the file\n",
    "    with open('university_towns.txt', 'r+') as file:\n",
    "        state = \"Unknown\"\n",
    "        # Read the \n",
    "        for line in file:\n",
    "            if \"[edit]\" in line:\n",
    "                state = line.split(\"[\")[0].strip()\n",
    "            else:\n",
    "                # Get the country and store into the Dictionary for the dataframe\n",
    "                towns.append([state, line.split(\"(\")[0].strip()])\n",
    "    # Create a dataframe using the data read\n",
    "    return pd.DataFrame(towns, columns=[\"State\", \"RegionName\"])\n"
   ]
  },
  {
   "cell_type": "code",
   "execution_count": 9,
   "metadata": {
    "collapsed": false
   },
   "outputs": [
    {
     "data": {
      "text/html": [
       "<div>\n",
       "<table border=\"1\" class=\"dataframe\">\n",
       "  <thead>\n",
       "    <tr style=\"text-align: right;\">\n",
       "      <th></th>\n",
       "      <th>State</th>\n",
       "      <th>RegionName</th>\n",
       "    </tr>\n",
       "  </thead>\n",
       "  <tbody>\n",
       "    <tr>\n",
       "      <th>0</th>\n",
       "      <td>Alabama</td>\n",
       "      <td>Auburn</td>\n",
       "    </tr>\n",
       "    <tr>\n",
       "      <th>1</th>\n",
       "      <td>Alabama</td>\n",
       "      <td>Florence</td>\n",
       "    </tr>\n",
       "    <tr>\n",
       "      <th>2</th>\n",
       "      <td>Alabama</td>\n",
       "      <td>Jacksonville</td>\n",
       "    </tr>\n",
       "    <tr>\n",
       "      <th>3</th>\n",
       "      <td>Alabama</td>\n",
       "      <td>Livingston</td>\n",
       "    </tr>\n",
       "    <tr>\n",
       "      <th>4</th>\n",
       "      <td>Alabama</td>\n",
       "      <td>Montevallo</td>\n",
       "    </tr>\n",
       "  </tbody>\n",
       "</table>\n",
       "</div>"
      ],
      "text/plain": [
       "     State    RegionName\n",
       "0  Alabama        Auburn\n",
       "1  Alabama      Florence\n",
       "2  Alabama  Jacksonville\n",
       "3  Alabama    Livingston\n",
       "4  Alabama    Montevallo"
      ]
     },
     "execution_count": 9,
     "metadata": {},
     "output_type": "execute_result"
    }
   ],
   "source": [
    "get_list_of_university_towns().head()"
   ]
  },
  {
   "cell_type": "markdown",
   "metadata": {},
   "source": [
    "In order to get the rececion I have to read the file gdplev.xls\n",
    "\n",
    "The next three function I will need to read this file and convert it into a data frame. Then I will use the same dataframe to return the values requested"
   ]
  },
  {
   "cell_type": "code",
   "execution_count": 57,
   "metadata": {
    "collapsed": true
   },
   "outputs": [],
   "source": [
    "?pd.read_excel"
   ]
  },
  {
   "cell_type": "code",
   "execution_count": 98,
   "metadata": {
    "collapsed": false
   },
   "outputs": [
    {
     "data": {
      "text/plain": [
       "['Sheet1']"
      ]
     },
     "execution_count": 98,
     "metadata": {},
     "output_type": "execute_result"
    }
   ],
   "source": [
    "excel = pd.ExcelFile(\"gdplev.xls\")\n",
    "excel.sheet_names"
   ]
  },
  {
   "cell_type": "code",
   "execution_count": 66,
   "metadata": {
    "collapsed": false
   },
   "outputs": [],
   "source": [
    "? excel.parse"
   ]
  },
  {
   "cell_type": "code",
   "execution_count": 99,
   "metadata": {
    "collapsed": false
   },
   "outputs": [],
   "source": [
    "GDP = excel.parse(excel.sheet_names[0],names=[\"QuarterYear\",\"Current\",\"Chained\"],skiprows=7, parse_cols=\"E:G\")"
   ]
  },
  {
   "cell_type": "code",
   "execution_count": 88,
   "metadata": {
    "collapsed": false
   },
   "outputs": [
    {
     "data": {
      "text/html": [
       "<div>\n",
       "<table border=\"1\" class=\"dataframe\">\n",
       "  <thead>\n",
       "    <tr style=\"text-align: right;\">\n",
       "      <th></th>\n",
       "      <th>QuarterYear</th>\n",
       "      <th>Current</th>\n",
       "      <th>Chained</th>\n",
       "    </tr>\n",
       "  </thead>\n",
       "  <tbody>\n",
       "    <tr>\n",
       "      <th>0</th>\n",
       "      <td>1947q1</td>\n",
       "      <td>243.1</td>\n",
       "      <td>1934.5</td>\n",
       "    </tr>\n",
       "    <tr>\n",
       "      <th>1</th>\n",
       "      <td>1947q2</td>\n",
       "      <td>246.3</td>\n",
       "      <td>1932.3</td>\n",
       "    </tr>\n",
       "    <tr>\n",
       "      <th>2</th>\n",
       "      <td>1947q3</td>\n",
       "      <td>250.1</td>\n",
       "      <td>1930.3</td>\n",
       "    </tr>\n",
       "    <tr>\n",
       "      <th>3</th>\n",
       "      <td>1947q4</td>\n",
       "      <td>260.3</td>\n",
       "      <td>1960.7</td>\n",
       "    </tr>\n",
       "    <tr>\n",
       "      <th>4</th>\n",
       "      <td>1948q1</td>\n",
       "      <td>266.2</td>\n",
       "      <td>1989.5</td>\n",
       "    </tr>\n",
       "  </tbody>\n",
       "</table>\n",
       "</div>"
      ],
      "text/plain": [
       "  QuarterYear  Current  Chained\n",
       "0      1947q1    243.1   1934.5\n",
       "1      1947q2    246.3   1932.3\n",
       "2      1947q3    250.1   1930.3\n",
       "3      1947q4    260.3   1960.7\n",
       "4      1948q1    266.2   1989.5"
      ]
     },
     "execution_count": 88,
     "metadata": {},
     "output_type": "execute_result"
    }
   ],
   "source": [
    "GDP.head()"
   ]
  },
  {
   "cell_type": "code",
   "execution_count": 89,
   "metadata": {
    "collapsed": false
   },
   "outputs": [
    {
     "data": {
      "text/html": [
       "<div>\n",
       "<table border=\"1\" class=\"dataframe\">\n",
       "  <thead>\n",
       "    <tr style=\"text-align: right;\">\n",
       "      <th></th>\n",
       "      <th>QuarterYear</th>\n",
       "      <th>Current</th>\n",
       "      <th>Chained</th>\n",
       "    </tr>\n",
       "  </thead>\n",
       "  <tbody>\n",
       "    <tr>\n",
       "      <th>273</th>\n",
       "      <td>2015q2</td>\n",
       "      <td>17998.3</td>\n",
       "      <td>16374.2</td>\n",
       "    </tr>\n",
       "    <tr>\n",
       "      <th>274</th>\n",
       "      <td>2015q3</td>\n",
       "      <td>18141.9</td>\n",
       "      <td>16454.9</td>\n",
       "    </tr>\n",
       "    <tr>\n",
       "      <th>275</th>\n",
       "      <td>2015q4</td>\n",
       "      <td>18222.8</td>\n",
       "      <td>16490.7</td>\n",
       "    </tr>\n",
       "    <tr>\n",
       "      <th>276</th>\n",
       "      <td>2016q1</td>\n",
       "      <td>18281.6</td>\n",
       "      <td>16525.0</td>\n",
       "    </tr>\n",
       "    <tr>\n",
       "      <th>277</th>\n",
       "      <td>2016q2</td>\n",
       "      <td>18450.1</td>\n",
       "      <td>16583.1</td>\n",
       "    </tr>\n",
       "  </tbody>\n",
       "</table>\n",
       "</div>"
      ],
      "text/plain": [
       "    QuarterYear  Current  Chained\n",
       "273      2015q2  17998.3  16374.2\n",
       "274      2015q3  18141.9  16454.9\n",
       "275      2015q4  18222.8  16490.7\n",
       "276      2016q1  18281.6  16525.0\n",
       "277      2016q2  18450.1  16583.1"
      ]
     },
     "execution_count": 89,
     "metadata": {},
     "output_type": "execute_result"
    }
   ],
   "source": [
    "GDP.tail()"
   ]
  },
  {
   "cell_type": "code",
   "execution_count": 12,
   "metadata": {
    "collapsed": false
   },
   "outputs": [],
   "source": [
    "GDP[\"Year\"] = GDP[\"QuarterYear\"].map(lambda cell: cell.split(\"q\")[0])\n",
    "GDP[\"Quarter\"] = GDP[\"QuarterYear\"].map(lambda cell: cell.split(\"q\")[1])\n",
    "GDP.drop(\"QuarterYear\",axis = 1, inplace = True)"
   ]
  },
  {
   "cell_type": "code",
   "execution_count": 13,
   "metadata": {
    "collapsed": false
   },
   "outputs": [
    {
     "data": {
      "text/html": [
       "<div>\n",
       "<table border=\"1\" class=\"dataframe\">\n",
       "  <thead>\n",
       "    <tr style=\"text-align: right;\">\n",
       "      <th></th>\n",
       "      <th>Current</th>\n",
       "      <th>Chained</th>\n",
       "      <th>Year</th>\n",
       "      <th>Quarter</th>\n",
       "    </tr>\n",
       "  </thead>\n",
       "  <tbody>\n",
       "    <tr>\n",
       "      <th>0</th>\n",
       "      <td>243.1</td>\n",
       "      <td>1934.5</td>\n",
       "      <td>1947</td>\n",
       "      <td>1</td>\n",
       "    </tr>\n",
       "    <tr>\n",
       "      <th>1</th>\n",
       "      <td>246.3</td>\n",
       "      <td>1932.3</td>\n",
       "      <td>1947</td>\n",
       "      <td>2</td>\n",
       "    </tr>\n",
       "    <tr>\n",
       "      <th>2</th>\n",
       "      <td>250.1</td>\n",
       "      <td>1930.3</td>\n",
       "      <td>1947</td>\n",
       "      <td>3</td>\n",
       "    </tr>\n",
       "    <tr>\n",
       "      <th>3</th>\n",
       "      <td>260.3</td>\n",
       "      <td>1960.7</td>\n",
       "      <td>1947</td>\n",
       "      <td>4</td>\n",
       "    </tr>\n",
       "    <tr>\n",
       "      <th>4</th>\n",
       "      <td>266.2</td>\n",
       "      <td>1989.5</td>\n",
       "      <td>1948</td>\n",
       "      <td>1</td>\n",
       "    </tr>\n",
       "  </tbody>\n",
       "</table>\n",
       "</div>"
      ],
      "text/plain": [
       "   Current  Chained  Year Quarter\n",
       "0    243.1   1934.5  1947       1\n",
       "1    246.3   1932.3  1947       2\n",
       "2    250.1   1930.3  1947       3\n",
       "3    260.3   1960.7  1947       4\n",
       "4    266.2   1989.5  1948       1"
      ]
     },
     "execution_count": 13,
     "metadata": {},
     "output_type": "execute_result"
    }
   ],
   "source": [
    "GDP.head()"
   ]
  },
  {
   "cell_type": "code",
   "execution_count": 15,
   "metadata": {
    "collapsed": false
   },
   "outputs": [
    {
     "data": {
      "text/html": [
       "<div>\n",
       "<table border=\"1\" class=\"dataframe\">\n",
       "  <thead>\n",
       "    <tr style=\"text-align: right;\">\n",
       "      <th></th>\n",
       "      <th></th>\n",
       "      <th>Current</th>\n",
       "      <th>Chained</th>\n",
       "    </tr>\n",
       "    <tr>\n",
       "      <th>Year</th>\n",
       "      <th>Quarter</th>\n",
       "      <th></th>\n",
       "      <th></th>\n",
       "    </tr>\n",
       "  </thead>\n",
       "  <tbody>\n",
       "    <tr>\n",
       "      <th rowspan=\"4\" valign=\"top\">1947</th>\n",
       "      <th>1</th>\n",
       "      <td>243.1</td>\n",
       "      <td>1934.5</td>\n",
       "    </tr>\n",
       "    <tr>\n",
       "      <th>2</th>\n",
       "      <td>246.3</td>\n",
       "      <td>1932.3</td>\n",
       "    </tr>\n",
       "    <tr>\n",
       "      <th>3</th>\n",
       "      <td>250.1</td>\n",
       "      <td>1930.3</td>\n",
       "    </tr>\n",
       "    <tr>\n",
       "      <th>4</th>\n",
       "      <td>260.3</td>\n",
       "      <td>1960.7</td>\n",
       "    </tr>\n",
       "    <tr>\n",
       "      <th>1948</th>\n",
       "      <th>1</th>\n",
       "      <td>266.2</td>\n",
       "      <td>1989.5</td>\n",
       "    </tr>\n",
       "  </tbody>\n",
       "</table>\n",
       "</div>"
      ],
      "text/plain": [
       "              Current  Chained\n",
       "Year Quarter                  \n",
       "1947 1          243.1   1934.5\n",
       "     2          246.3   1932.3\n",
       "     3          250.1   1930.3\n",
       "     4          260.3   1960.7\n",
       "1948 1          266.2   1989.5"
      ]
     },
     "execution_count": 15,
     "metadata": {},
     "output_type": "execute_result"
    }
   ],
   "source": [
    "GDP.set_index([\"Year\",\"Quarter\"]).head()"
   ]
  },
  {
   "cell_type": "code",
   "execution_count": 117,
   "metadata": {
    "collapsed": true
   },
   "outputs": [],
   "source": [
    "# Ge the new columns names\n",
    "columns = [\"Q1\",\"Q2\",\"Q3\",\"Q4\"]\n",
    "# Get the new indexes\n",
    "index = GDP[\"Year\"].unique()\n",
    "#newGDP = pd.DataFrame()"
   ]
  },
  {
   "cell_type": "code",
   "execution_count": 120,
   "metadata": {
    "collapsed": false
   },
   "outputs": [
    {
     "data": {
      "text/plain": [
       "array(['1947', '1948', '1949', '1950', '1951', '1952', '1953', '1954',\n",
       "       '1955', '1956', '1957', '1958', '1959', '1960', '1961', '1962',\n",
       "       '1963', '1964', '1965', '1966', '1967', '1968', '1969', '1970',\n",
       "       '1971', '1972', '1973', '1974', '1975', '1976', '1977', '1978',\n",
       "       '1979', '1980', '1981', '1982', '1983', '1984', '1985', '1986',\n",
       "       '1987', '1988', '1989', '1990', '1991', '1992', '1993', '1994',\n",
       "       '1995', '1996', '1997', '1998', '1999', '2000', '2001', '2002',\n",
       "       '2003', '2004', '2005', '2006', '2007', '2008', '2009', '2010',\n",
       "       '2011', '2012', '2013', '2014', '2015', '2016'], dtype=object)"
      ]
     },
     "execution_count": 120,
     "metadata": {},
     "output_type": "execute_result"
    }
   ],
   "source": [
    "index"
   ]
  },
  {
   "cell_type": "code",
   "execution_count": 135,
   "metadata": {
    "collapsed": false
   },
   "outputs": [
    {
     "data": {
      "text/html": [
       "<div>\n",
       "<table border=\"1\" class=\"dataframe\">\n",
       "  <thead>\n",
       "    <tr style=\"text-align: right;\">\n",
       "      <th></th>\n",
       "      <th>Current</th>\n",
       "      <th>Chained</th>\n",
       "      <th>Year</th>\n",
       "      <th>Quarter</th>\n",
       "    </tr>\n",
       "  </thead>\n",
       "  <tbody>\n",
       "    <tr>\n",
       "      <th>0</th>\n",
       "      <td>243.1</td>\n",
       "      <td>1934.5</td>\n",
       "      <td>1947</td>\n",
       "      <td>1</td>\n",
       "    </tr>\n",
       "    <tr>\n",
       "      <th>1</th>\n",
       "      <td>246.3</td>\n",
       "      <td>1932.3</td>\n",
       "      <td>1947</td>\n",
       "      <td>2</td>\n",
       "    </tr>\n",
       "    <tr>\n",
       "      <th>2</th>\n",
       "      <td>250.1</td>\n",
       "      <td>1930.3</td>\n",
       "      <td>1947</td>\n",
       "      <td>3</td>\n",
       "    </tr>\n",
       "    <tr>\n",
       "      <th>3</th>\n",
       "      <td>260.3</td>\n",
       "      <td>1960.7</td>\n",
       "      <td>1947</td>\n",
       "      <td>4</td>\n",
       "    </tr>\n",
       "    <tr>\n",
       "      <th>4</th>\n",
       "      <td>266.2</td>\n",
       "      <td>1989.5</td>\n",
       "      <td>1948</td>\n",
       "      <td>1</td>\n",
       "    </tr>\n",
       "  </tbody>\n",
       "</table>\n",
       "</div>"
      ],
      "text/plain": [
       "   Current  Chained  Year Quarter\n",
       "0    243.1   1934.5  1947       1\n",
       "1    246.3   1932.3  1947       2\n",
       "2    250.1   1930.3  1947       3\n",
       "3    260.3   1960.7  1947       4\n",
       "4    266.2   1989.5  1948       1"
      ]
     },
     "execution_count": 135,
     "metadata": {},
     "output_type": "execute_result"
    }
   ],
   "source": [
    "GDP.head()"
   ]
  },
  {
   "cell_type": "code",
   "execution_count": 138,
   "metadata": {
    "collapsed": false
   },
   "outputs": [
    {
     "data": {
      "text/plain": [
       "0    1\n",
       "1    2\n",
       "2    3\n",
       "3    4\n",
       "4    1\n",
       "Name: Quarter, dtype: object"
      ]
     },
     "execution_count": 138,
     "metadata": {},
     "output_type": "execute_result"
    }
   ],
   "source": [
    "# This is not integer so it cannot be compared\n",
    "GDP[\"Quarter\"].head()"
   ]
  },
  {
   "cell_type": "code",
   "execution_count": 143,
   "metadata": {
    "collapsed": false
   },
   "outputs": [],
   "source": [
    "GDP[\"Quarter\"] = pd.to_numeric(GDP[\"Quarter\"], errors='ignore')"
   ]
  },
  {
   "cell_type": "code",
   "execution_count": 144,
   "metadata": {
    "collapsed": false
   },
   "outputs": [
    {
     "data": {
      "text/html": [
       "<div>\n",
       "<table border=\"1\" class=\"dataframe\">\n",
       "  <thead>\n",
       "    <tr style=\"text-align: right;\">\n",
       "      <th></th>\n",
       "      <th>Current</th>\n",
       "      <th>Chained</th>\n",
       "      <th>Year</th>\n",
       "      <th>Quarter</th>\n",
       "    </tr>\n",
       "  </thead>\n",
       "  <tbody>\n",
       "    <tr>\n",
       "      <th>0</th>\n",
       "      <td>243.1</td>\n",
       "      <td>1934.5</td>\n",
       "      <td>1947</td>\n",
       "      <td>1</td>\n",
       "    </tr>\n",
       "    <tr>\n",
       "      <th>1</th>\n",
       "      <td>246.3</td>\n",
       "      <td>1932.3</td>\n",
       "      <td>1947</td>\n",
       "      <td>2</td>\n",
       "    </tr>\n",
       "    <tr>\n",
       "      <th>2</th>\n",
       "      <td>250.1</td>\n",
       "      <td>1930.3</td>\n",
       "      <td>1947</td>\n",
       "      <td>3</td>\n",
       "    </tr>\n",
       "    <tr>\n",
       "      <th>3</th>\n",
       "      <td>260.3</td>\n",
       "      <td>1960.7</td>\n",
       "      <td>1947</td>\n",
       "      <td>4</td>\n",
       "    </tr>\n",
       "    <tr>\n",
       "      <th>4</th>\n",
       "      <td>266.2</td>\n",
       "      <td>1989.5</td>\n",
       "      <td>1948</td>\n",
       "      <td>1</td>\n",
       "    </tr>\n",
       "  </tbody>\n",
       "</table>\n",
       "</div>"
      ],
      "text/plain": [
       "   Current  Chained  Year  Quarter\n",
       "0    243.1   1934.5  1947        1\n",
       "1    246.3   1932.3  1947        2\n",
       "2    250.1   1930.3  1947        3\n",
       "3    260.3   1960.7  1947        4\n",
       "4    266.2   1989.5  1948        1"
      ]
     },
     "execution_count": 144,
     "metadata": {},
     "output_type": "execute_result"
    }
   ],
   "source": [
    "GDP.head()"
   ]
  },
  {
   "cell_type": "code",
   "execution_count": 146,
   "metadata": {
    "collapsed": false
   },
   "outputs": [],
   "source": [
    "values = [GDP[GDP[\"Quarter\"] == 1],GDP[GDP[\"Quarter\"] == 2],GDP[GDP[\"Quarter\"] == 3],GDP[GDP[\"Quarter\"] == 4]]"
   ]
  },
  {
   "cell_type": "code",
   "execution_count": 159,
   "metadata": {
    "collapsed": false
   },
   "outputs": [],
   "source": [
    "values = zip(GDP[GDP[\"Quarter\"] == 1].loc[:,\"Chained\"].values,\n",
    "GDP[GDP[\"Quarter\"] == 2].loc[:,\"Chained\"].values,\n",
    "GDP[GDP[\"Quarter\"] == 3].loc[:,\"Chained\"].values,\n",
    "GDP[GDP[\"Quarter\"] == 4].loc[:,\"Chained\"].values)"
   ]
  },
  {
   "cell_type": "code",
   "execution_count": 156,
   "metadata": {
    "collapsed": true
   },
   "outputs": [],
   "source": [
    "?pd.DataFrame"
   ]
  },
  {
   "cell_type": "code",
   "execution_count": 168,
   "metadata": {
    "collapsed": false
   },
   "outputs": [],
   "source": [
    "transDF = pd.DataFrame(list(values), index = index, columns = columns)\n",
    "transDF = pd.DataFrame(list(values), columns = columns)"
   ]
  },
  {
   "cell_type": "markdown",
   "metadata": {
    "collapsed": false
   },
   "source": [
    "transDF.head()"
   ]
  },
  {
   "cell_type": "markdown",
   "metadata": {},
   "source": [
    "## START FROM HERE FUNCTIONS 2 TO 4"
   ]
  },
  {
   "cell_type": "code",
   "execution_count": 21,
   "metadata": {
    "collapsed": false
   },
   "outputs": [],
   "source": [
    "import pandas as pd\n",
    "import numpy as np\n",
    "from scipy.stats import ttest_ind\n",
    "\n",
    "excel = pd.ExcelFile(\"gdplev.xls\")\n",
    "excel.sheet_names\n",
    "GDP = excel.parse(excel.sheet_names[0],names=[\"QuarterYear\",\"GDP\"],skiprows=7, parse_cols=\"E,G\")\n"
   ]
  },
  {
   "cell_type": "code",
   "execution_count": 32,
   "metadata": {
    "collapsed": false
   },
   "outputs": [
    {
     "data": {
      "text/html": [
       "<div>\n",
       "<table border=\"1\" class=\"dataframe\">\n",
       "  <thead>\n",
       "    <tr style=\"text-align: right;\">\n",
       "      <th></th>\n",
       "      <th>QuarterYear</th>\n",
       "      <th>GDP</th>\n",
       "      <th>Year</th>\n",
       "    </tr>\n",
       "  </thead>\n",
       "  <tbody>\n",
       "    <tr>\n",
       "      <th>0</th>\n",
       "      <td>1947q1</td>\n",
       "      <td>1934.5</td>\n",
       "      <td>1947</td>\n",
       "    </tr>\n",
       "    <tr>\n",
       "      <th>1</th>\n",
       "      <td>1947q2</td>\n",
       "      <td>1932.3</td>\n",
       "      <td>1947</td>\n",
       "    </tr>\n",
       "    <tr>\n",
       "      <th>2</th>\n",
       "      <td>1947q3</td>\n",
       "      <td>1930.3</td>\n",
       "      <td>1947</td>\n",
       "    </tr>\n",
       "    <tr>\n",
       "      <th>3</th>\n",
       "      <td>1947q4</td>\n",
       "      <td>1960.7</td>\n",
       "      <td>1947</td>\n",
       "    </tr>\n",
       "    <tr>\n",
       "      <th>4</th>\n",
       "      <td>1948q1</td>\n",
       "      <td>1989.5</td>\n",
       "      <td>1948</td>\n",
       "    </tr>\n",
       "  </tbody>\n",
       "</table>\n",
       "</div>"
      ],
      "text/plain": [
       "  QuarterYear     GDP  Year\n",
       "0      1947q1  1934.5  1947\n",
       "1      1947q2  1932.3  1947\n",
       "2      1947q3  1930.3  1947\n",
       "3      1947q4  1960.7  1947\n",
       "4      1948q1  1989.5  1948"
      ]
     },
     "execution_count": 32,
     "metadata": {},
     "output_type": "execute_result"
    }
   ],
   "source": [
    "GDP.head()"
   ]
  },
  {
   "cell_type": "code",
   "execution_count": null,
   "metadata": {
    "collapsed": true
   },
   "outputs": [],
   "source": []
  },
  {
   "cell_type": "markdown",
   "metadata": {},
   "source": [
    "Clean the data prior 2000.\n",
    "Create a new column with only the year to filter on the the infornmation to only take into account years from 2000"
   ]
  },
  {
   "cell_type": "code",
   "execution_count": 28,
   "metadata": {
    "collapsed": true
   },
   "outputs": [],
   "source": [
    "# Split the columns quarter year into year\n",
    "GDP[\"Year\"] = GDP[\"QuarterYear\"].map(lambda cell: cell.split(\"q\")[0])\n",
    "# Convert to numeric values\n",
    "GDP[\"Year\"] = pd.to_numeric(GDP[\"Year\"])"
   ]
  },
  {
   "cell_type": "code",
   "execution_count": 30,
   "metadata": {
    "collapsed": false
   },
   "outputs": [],
   "source": [
    "GDPFrom2000 = GDP[GDP[\"Year\"] >= 2000]"
   ]
  },
  {
   "cell_type": "code",
   "execution_count": 34,
   "metadata": {
    "collapsed": false
   },
   "outputs": [
    {
     "data": {
      "text/html": [
       "<div>\n",
       "<table border=\"1\" class=\"dataframe\">\n",
       "  <thead>\n",
       "    <tr style=\"text-align: right;\">\n",
       "      <th></th>\n",
       "      <th>QuarterYear</th>\n",
       "      <th>GDP</th>\n",
       "      <th>Year</th>\n",
       "    </tr>\n",
       "  </thead>\n",
       "  <tbody>\n",
       "    <tr>\n",
       "      <th>212</th>\n",
       "      <td>2000q1</td>\n",
       "      <td>12359.1</td>\n",
       "      <td>2000</td>\n",
       "    </tr>\n",
       "    <tr>\n",
       "      <th>213</th>\n",
       "      <td>2000q2</td>\n",
       "      <td>12592.5</td>\n",
       "      <td>2000</td>\n",
       "    </tr>\n",
       "    <tr>\n",
       "      <th>214</th>\n",
       "      <td>2000q3</td>\n",
       "      <td>12607.7</td>\n",
       "      <td>2000</td>\n",
       "    </tr>\n",
       "    <tr>\n",
       "      <th>215</th>\n",
       "      <td>2000q4</td>\n",
       "      <td>12679.3</td>\n",
       "      <td>2000</td>\n",
       "    </tr>\n",
       "    <tr>\n",
       "      <th>216</th>\n",
       "      <td>2001q1</td>\n",
       "      <td>12643.3</td>\n",
       "      <td>2001</td>\n",
       "    </tr>\n",
       "  </tbody>\n",
       "</table>\n",
       "</div>"
      ],
      "text/plain": [
       "    QuarterYear      GDP  Year\n",
       "212      2000q1  12359.1  2000\n",
       "213      2000q2  12592.5  2000\n",
       "214      2000q3  12607.7  2000\n",
       "215      2000q4  12679.3  2000\n",
       "216      2001q1  12643.3  2001"
      ]
     },
     "execution_count": 34,
     "metadata": {},
     "output_type": "execute_result"
    }
   ],
   "source": [
    "GDPFrom2000.head()"
   ]
  },
  {
   "cell_type": "markdown",
   "metadata": {},
   "source": [
    "Now we can let's start to get the recesions periods. I can create a nuew columns with the recesion start and end from the current quarters in the dataframe."
   ]
  },
  {
   "cell_type": "code",
   "execution_count": 37,
   "metadata": {
    "collapsed": true
   },
   "outputs": [],
   "source": [
    "GDPFrom2000 = GDP[GDP[\"Year\"] >= 1999]"
   ]
  },
  {
   "cell_type": "code",
   "execution_count": 39,
   "metadata": {
    "collapsed": false
   },
   "outputs": [
    {
     "data": {
      "text/html": [
       "<div>\n",
       "<table border=\"1\" class=\"dataframe\">\n",
       "  <thead>\n",
       "    <tr style=\"text-align: right;\">\n",
       "      <th></th>\n",
       "      <th>QuarterYear</th>\n",
       "      <th>GDP</th>\n",
       "      <th>Year</th>\n",
       "    </tr>\n",
       "  </thead>\n",
       "  <tbody>\n",
       "    <tr>\n",
       "      <th>208</th>\n",
       "      <td>1999q1</td>\n",
       "      <td>11864.7</td>\n",
       "      <td>1999</td>\n",
       "    </tr>\n",
       "    <tr>\n",
       "      <th>209</th>\n",
       "      <td>1999q2</td>\n",
       "      <td>11962.5</td>\n",
       "      <td>1999</td>\n",
       "    </tr>\n",
       "    <tr>\n",
       "      <th>210</th>\n",
       "      <td>1999q3</td>\n",
       "      <td>12113.1</td>\n",
       "      <td>1999</td>\n",
       "    </tr>\n",
       "    <tr>\n",
       "      <th>211</th>\n",
       "      <td>1999q4</td>\n",
       "      <td>12323.3</td>\n",
       "      <td>1999</td>\n",
       "    </tr>\n",
       "    <tr>\n",
       "      <th>212</th>\n",
       "      <td>2000q1</td>\n",
       "      <td>12359.1</td>\n",
       "      <td>2000</td>\n",
       "    </tr>\n",
       "  </tbody>\n",
       "</table>\n",
       "</div>"
      ],
      "text/plain": [
       "    QuarterYear      GDP  Year\n",
       "208      1999q1  11864.7  1999\n",
       "209      1999q2  11962.5  1999\n",
       "210      1999q3  12113.1  1999\n",
       "211      1999q4  12323.3  1999\n",
       "212      2000q1  12359.1  2000"
      ]
     },
     "execution_count": 39,
     "metadata": {},
     "output_type": "execute_result"
    }
   ],
   "source": [
    "GDPFrom2000.head()\n"
   ]
  },
  {
   "cell_type": "markdown",
   "metadata": {},
   "source": [
    "Tom start computing the year from 2000 I need to have prior data to be able to start counting recession periods... so I will start from the year 2000 but I will take into consideration prior epochs from 2000. Starting from 1999 in this case."
   ]
  },
  {
   "cell_type": "markdown",
   "metadata": {},
   "source": [
    "To sumarize, to know where a recesion start I need to take into account the last four quarter periods. If the pattern follows the recession definition the we mark that year as recession = true. else we will marke down that period as false.\n",
    "\n",
    "A recession is defined as starting with two consecutive quarters of GDP decline, and ending with two consecutive quarters of GDP growth."
   ]
  },
  {
   "cell_type": "markdown",
   "metadata": {},
   "source": [
    "    For each element i:\n",
    "    \n",
    "        take the elements i-4 ?\n",
    " \n",
    "        take the elements i-3\n",
    "        take the elements i-2\n",
    "        take the elements i-1\n",
    "        take the elements current i\n",
    "    \n",
    "        -> PART 1 : Check  \"starting with two consecutive quarters of GDP decline\"\n",
    "    \n",
    "        BY DEFAULT THE RECESION IS FALSE\n",
    "    \n",
    "        if element[i-3] <  element[i-4] &&   element[i-2] <  element[i-3] ]:\n",
    "            Two quarters consecutively in GDP decline.\n",
    "       \n",
    "            -> PART IIa : two consecutive quarters of GDP growth. Check wheter is growing from the previous quarter\n",
    "            if ( element[i-1 > i-2 ]):\n",
    "                -> This is the second part of the recession when it grows ups\n",
    "                -> PART IIb : two consecutive quarters of GDP growth.\n",
    "                if element[i-1] >  element[i] :\n",
    "                    -> this means the recesion starts\n",
    "                    START RECESION\n",
    "    \n",
    "            \n",
    "        -A SET RECESION FROM THIS QUARTER BEING COMPUTING.\n",
    "    \n",
    "    \n",
    "    "
   ]
  },
  {
   "cell_type": "markdown",
   "metadata": {},
   "source": [
    "Once I have get the pseuodo code I need to get the information element by element from the previous 4 quarters. The I could apply a function for the following series"
   ]
  },
  {
   "cell_type": "code",
   "execution_count": 60,
   "metadata": {
    "collapsed": false
   },
   "outputs": [
    {
     "data": {
      "text/plain": [
       "0    1934.5\n",
       "1    1932.3\n",
       "2    1930.3\n",
       "3    1960.7\n",
       "Name: GDP, dtype: float64"
      ]
     },
     "execution_count": 60,
     "metadata": {},
     "output_type": "execute_result"
    }
   ],
   "source": [
    "GDP[\"GDP\"].head()\n",
    "GDP[\"GDP\"].iloc[0:4]\n"
   ]
  },
  {
   "cell_type": "code",
   "execution_count": 61,
   "metadata": {
    "collapsed": false
   },
   "outputs": [
    {
     "data": {
      "text/plain": [
       "0    1934.5\n",
       "1    1932.3\n",
       "2    1930.3\n",
       "3    1960.7\n",
       "Name: GDP, dtype: float64"
      ]
     },
     "execution_count": 61,
     "metadata": {},
     "output_type": "execute_result"
    }
   ],
   "source": [
    "GDP[\"GDP\"].iloc[0:4]   "
   ]
  },
  {
   "cell_type": "code",
   "execution_count": 66,
   "metadata": {
    "collapsed": false
   },
   "outputs": [
    {
     "data": {
      "text/plain": [
       "278"
      ]
     },
     "execution_count": 66,
     "metadata": {},
     "output_type": "execute_result"
    }
   ],
   "source": [
    "len(GDP[\"GDP\"])"
   ]
  },
  {
   "cell_type": "code",
   "execution_count": 78,
   "metadata": {
    "collapsed": false
   },
   "outputs": [],
   "source": [
    "GDP[\"LastQuarters\"] = np.NaN"
   ]
  },
  {
   "cell_type": "code",
   "execution_count": 79,
   "metadata": {
    "collapsed": false
   },
   "outputs": [
    {
     "data": {
      "text/html": [
       "<div>\n",
       "<table border=\"1\" class=\"dataframe\">\n",
       "  <thead>\n",
       "    <tr style=\"text-align: right;\">\n",
       "      <th></th>\n",
       "      <th>QuarterYear</th>\n",
       "      <th>GDP</th>\n",
       "      <th>Year</th>\n",
       "      <th>LastQuarters</th>\n",
       "    </tr>\n",
       "  </thead>\n",
       "  <tbody>\n",
       "    <tr>\n",
       "      <th>0</th>\n",
       "      <td>1947q1</td>\n",
       "      <td>1934.5</td>\n",
       "      <td>1947</td>\n",
       "      <td>NaN</td>\n",
       "    </tr>\n",
       "    <tr>\n",
       "      <th>1</th>\n",
       "      <td>1947q2</td>\n",
       "      <td>1932.3</td>\n",
       "      <td>1947</td>\n",
       "      <td>NaN</td>\n",
       "    </tr>\n",
       "    <tr>\n",
       "      <th>2</th>\n",
       "      <td>1947q3</td>\n",
       "      <td>1930.3</td>\n",
       "      <td>1947</td>\n",
       "      <td>NaN</td>\n",
       "    </tr>\n",
       "    <tr>\n",
       "      <th>3</th>\n",
       "      <td>1947q4</td>\n",
       "      <td>1960.7</td>\n",
       "      <td>1947</td>\n",
       "      <td>NaN</td>\n",
       "    </tr>\n",
       "    <tr>\n",
       "      <th>4</th>\n",
       "      <td>1948q1</td>\n",
       "      <td>1989.5</td>\n",
       "      <td>1948</td>\n",
       "      <td>NaN</td>\n",
       "    </tr>\n",
       "  </tbody>\n",
       "</table>\n",
       "</div>"
      ],
      "text/plain": [
       "  QuarterYear     GDP  Year  LastQuarters\n",
       "0      1947q1  1934.5  1947           NaN\n",
       "1      1947q2  1932.3  1947           NaN\n",
       "2      1947q3  1930.3  1947           NaN\n",
       "3      1947q4  1960.7  1947           NaN\n",
       "4      1948q1  1989.5  1948           NaN"
      ]
     },
     "execution_count": 79,
     "metadata": {},
     "output_type": "execute_result"
    }
   ],
   "source": [
    "GDP.head()"
   ]
  },
  {
   "cell_type": "code",
   "execution_count": 76,
   "metadata": {
    "collapsed": false
   },
   "outputs": [],
   "source": [
    "# This works\n",
    "#GDP.ix[i, \"LastQuarters\"] = values"
   ]
  },
  {
   "cell_type": "code",
   "execution_count": null,
   "metadata": {
    "collapsed": true
   },
   "outputs": [],
   "source": []
  },
  {
   "cell_type": "code",
   "execution_count": 113,
   "metadata": {
    "collapsed": false
   },
   "outputs": [
    {
     "name": "stdout",
     "output_type": "stream",
     "text": [
      "[1934.5, 1932.3, 1930.3, 1960.7]\n"
     ]
    },
    {
     "ename": "ValueError",
     "evalue": "Must have equal len keys and value when setting with an iterable",
     "output_type": "error",
     "traceback": [
      "\u001b[1;31m---------------------------------------------------------------------------\u001b[0m",
      "\u001b[1;31mValueError\u001b[0m                                Traceback (most recent call last)",
      "\u001b[1;32m<ipython-input-113-4c3974a84366>\u001b[0m in \u001b[0;36m<module>\u001b[1;34m()\u001b[0m\n\u001b[0;32m      7\u001b[0m     \u001b[1;31m#GDP.ix[i, \"LastQuarters\"] = values\u001b[0m\u001b[1;33m\u001b[0m\u001b[1;33m\u001b[0m\u001b[0m\n\u001b[0;32m      8\u001b[0m     \u001b[1;31m#GDP.ix[i, \"LastQuarters\"] = \"Test\"\u001b[0m\u001b[1;33m\u001b[0m\u001b[1;33m\u001b[0m\u001b[0m\n\u001b[1;32m----> 9\u001b[1;33m     \u001b[0mGDP\u001b[0m\u001b[1;33m.\u001b[0m\u001b[0mix\u001b[0m\u001b[1;33m[\u001b[0m\u001b[0mi\u001b[0m\u001b[1;33m,\u001b[0m \u001b[1;34m\"LastQuarters\"\u001b[0m\u001b[1;33m]\u001b[0m \u001b[1;33m=\u001b[0m \u001b[0mlist\u001b[0m\u001b[1;33m(\u001b[0m\u001b[0mvalues\u001b[0m\u001b[1;33m)\u001b[0m\u001b[1;33m\u001b[0m\u001b[0m\n\u001b[0m\u001b[0;32m     10\u001b[0m \u001b[1;33m\u001b[0m\u001b[0m\n",
      "\u001b[1;32mC:\\Users\\javier.santos\\AppData\\Local\\Continuum\\Anaconda3\\lib\\site-packages\\pandas\\core\\indexing.py\u001b[0m in \u001b[0;36m__setitem__\u001b[1;34m(self, key, value)\u001b[0m\n\u001b[0;32m    130\u001b[0m             \u001b[0mkey\u001b[0m \u001b[1;33m=\u001b[0m \u001b[0mcom\u001b[0m\u001b[1;33m.\u001b[0m\u001b[0m_apply_if_callable\u001b[0m\u001b[1;33m(\u001b[0m\u001b[0mkey\u001b[0m\u001b[1;33m,\u001b[0m \u001b[0mself\u001b[0m\u001b[1;33m.\u001b[0m\u001b[0mobj\u001b[0m\u001b[1;33m)\u001b[0m\u001b[1;33m\u001b[0m\u001b[0m\n\u001b[0;32m    131\u001b[0m         \u001b[0mindexer\u001b[0m \u001b[1;33m=\u001b[0m \u001b[0mself\u001b[0m\u001b[1;33m.\u001b[0m\u001b[0m_get_setitem_indexer\u001b[0m\u001b[1;33m(\u001b[0m\u001b[0mkey\u001b[0m\u001b[1;33m)\u001b[0m\u001b[1;33m\u001b[0m\u001b[0m\n\u001b[1;32m--> 132\u001b[1;33m         \u001b[0mself\u001b[0m\u001b[1;33m.\u001b[0m\u001b[0m_setitem_with_indexer\u001b[0m\u001b[1;33m(\u001b[0m\u001b[0mindexer\u001b[0m\u001b[1;33m,\u001b[0m \u001b[0mvalue\u001b[0m\u001b[1;33m)\u001b[0m\u001b[1;33m\u001b[0m\u001b[0m\n\u001b[0m\u001b[0;32m    133\u001b[0m \u001b[1;33m\u001b[0m\u001b[0m\n\u001b[0;32m    134\u001b[0m     \u001b[1;32mdef\u001b[0m \u001b[0m_has_valid_type\u001b[0m\u001b[1;33m(\u001b[0m\u001b[0mself\u001b[0m\u001b[1;33m,\u001b[0m \u001b[0mk\u001b[0m\u001b[1;33m,\u001b[0m \u001b[0maxis\u001b[0m\u001b[1;33m)\u001b[0m\u001b[1;33m:\u001b[0m\u001b[1;33m\u001b[0m\u001b[0m\n",
      "\u001b[1;32mC:\\Users\\javier.santos\\AppData\\Local\\Continuum\\Anaconda3\\lib\\site-packages\\pandas\\core\\indexing.py\u001b[0m in \u001b[0;36m_setitem_with_indexer\u001b[1;34m(self, indexer, value)\u001b[0m\n\u001b[0;32m    525\u001b[0m \u001b[1;33m\u001b[0m\u001b[0m\n\u001b[0;32m    526\u001b[0m                     \u001b[1;32mif\u001b[0m \u001b[0mlen\u001b[0m\u001b[1;33m(\u001b[0m\u001b[0mlabels\u001b[0m\u001b[1;33m)\u001b[0m \u001b[1;33m!=\u001b[0m \u001b[0mlen\u001b[0m\u001b[1;33m(\u001b[0m\u001b[0mvalue\u001b[0m\u001b[1;33m)\u001b[0m\u001b[1;33m:\u001b[0m\u001b[1;33m\u001b[0m\u001b[0m\n\u001b[1;32m--> 527\u001b[1;33m                         raise ValueError('Must have equal len keys and value '\n\u001b[0m\u001b[0;32m    528\u001b[0m                                          'when setting with an iterable')\n\u001b[0;32m    529\u001b[0m \u001b[1;33m\u001b[0m\u001b[0m\n",
      "\u001b[1;31mValueError\u001b[0m: Must have equal len keys and value when setting with an iterable"
     ]
    }
   ],
   "source": [
    "for i in range(4, len(GDP[\"GDP\"])):\n",
    "    #GDP.ix[i, \"LastQuarters\"] = GDP[\"GDP\"].iloc[i-4:i].values  \n",
    "    #GDP.ix[i, \"LastQuarters\"] = \"Test\"\n",
    "    #print(GDP[\"GDP\"].iloc[i-4:i].values)\n",
    "    values = GDP[\"GDP\"].iloc[i-4:i].values  \n",
    "    print(list(values))\n",
    "    #GDP.ix[i, \"LastQuarters\"] = values\n",
    "    #GDP.ix[i, \"LastQuarters\"] = \"Test\"\n",
    "    GDP.ix[i, \"LastQuarters\"] = list(values)\n",
    "    "
   ]
  },
  {
   "cell_type": "code",
   "execution_count": 98,
   "metadata": {
    "collapsed": false
   },
   "outputs": [
    {
     "name": "stderr",
     "output_type": "stream",
     "text": [
      "C:\\Users\\javier.santos\\AppData\\Local\\Continuum\\Anaconda3\\lib\\site-packages\\ipykernel\\__main__.py:2: SettingWithCopyWarning: \n",
      "A value is trying to be set on a copy of a slice from a DataFrame.\n",
      "Try using .loc[row_indexer,col_indexer] = value instead\n",
      "\n",
      "See the caveats in the documentation: http://pandas.pydata.org/pandas-docs/stable/indexing.html#indexing-view-versus-copy\n",
      "  from ipykernel import kernelapp as app\n",
      "C:\\Users\\javier.santos\\AppData\\Local\\Continuum\\Anaconda3\\lib\\site-packages\\ipykernel\\__main__.py:3: SettingWithCopyWarning: \n",
      "A value is trying to be set on a copy of a slice from a DataFrame.\n",
      "Try using .loc[row_indexer,col_indexer] = value instead\n",
      "\n",
      "See the caveats in the documentation: http://pandas.pydata.org/pandas-docs/stable/indexing.html#indexing-view-versus-copy\n",
      "  app.launch_new_instance()\n"
     ]
    }
   ],
   "source": [
    "mGDP = GDP.head()\n",
    "mGDP[\"GDP1\"] = 0\n",
    "mGDP[\"GDP2\"] = 0"
   ]
  },
  {
   "cell_type": "code",
   "execution_count": 100,
   "metadata": {
    "collapsed": false
   },
   "outputs": [
    {
     "data": {
      "text/html": [
       "<div>\n",
       "<table border=\"1\" class=\"dataframe\">\n",
       "  <thead>\n",
       "    <tr style=\"text-align: right;\">\n",
       "      <th></th>\n",
       "      <th>QuarterYear</th>\n",
       "      <th>GDP</th>\n",
       "      <th>Year</th>\n",
       "      <th>LastQuarters</th>\n",
       "      <th>GDP1</th>\n",
       "      <th>GDP2</th>\n",
       "    </tr>\n",
       "  </thead>\n",
       "  <tbody>\n",
       "    <tr>\n",
       "      <th>0</th>\n",
       "      <td>1947q1</td>\n",
       "      <td>1934.5</td>\n",
       "      <td>1947</td>\n",
       "      <td>NaN</td>\n",
       "      <td>0</td>\n",
       "      <td>0</td>\n",
       "    </tr>\n",
       "    <tr>\n",
       "      <th>1</th>\n",
       "      <td>1947q2</td>\n",
       "      <td>1932.3</td>\n",
       "      <td>1947</td>\n",
       "      <td>NaN</td>\n",
       "      <td>0</td>\n",
       "      <td>0</td>\n",
       "    </tr>\n",
       "    <tr>\n",
       "      <th>2</th>\n",
       "      <td>1947q3</td>\n",
       "      <td>1930.3</td>\n",
       "      <td>1947</td>\n",
       "      <td>NaN</td>\n",
       "      <td>0</td>\n",
       "      <td>0</td>\n",
       "    </tr>\n",
       "    <tr>\n",
       "      <th>3</th>\n",
       "      <td>1947q4</td>\n",
       "      <td>1960.7</td>\n",
       "      <td>1947</td>\n",
       "      <td>NaN</td>\n",
       "      <td>0</td>\n",
       "      <td>0</td>\n",
       "    </tr>\n",
       "    <tr>\n",
       "      <th>4</th>\n",
       "      <td>1948q1</td>\n",
       "      <td>1989.5</td>\n",
       "      <td>1948</td>\n",
       "      <td>Test</td>\n",
       "      <td>0</td>\n",
       "      <td>0</td>\n",
       "    </tr>\n",
       "  </tbody>\n",
       "</table>\n",
       "</div>"
      ],
      "text/plain": [
       "  QuarterYear     GDP  Year LastQuarters  GDP1  GDP2\n",
       "0      1947q1  1934.5  1947          NaN     0     0\n",
       "1      1947q2  1932.3  1947          NaN     0     0\n",
       "2      1947q3  1930.3  1947          NaN     0     0\n",
       "3      1947q4  1960.7  1947          NaN     0     0\n",
       "4      1948q1  1989.5  1948         Test     0     0"
      ]
     },
     "execution_count": 100,
     "metadata": {},
     "output_type": "execute_result"
    }
   ],
   "source": [
    "mGDP.head()"
   ]
  },
  {
   "cell_type": "code",
   "execution_count": 102,
   "metadata": {
    "collapsed": false
   },
   "outputs": [
    {
     "name": "stderr",
     "output_type": "stream",
     "text": [
      "C:\\Users\\javier.santos\\AppData\\Local\\Continuum\\Anaconda3\\lib\\site-packages\\ipykernel\\__main__.py:1: SettingWithCopyWarning: \n",
      "A value is trying to be set on a copy of a slice from a DataFrame.\n",
      "Try using .loc[row_indexer,col_indexer] = value instead\n",
      "\n",
      "See the caveats in the documentation: http://pandas.pydata.org/pandas-docs/stable/indexing.html#indexing-view-versus-copy\n",
      "  if __name__ == '__main__':\n",
      "C:\\Users\\javier.santos\\AppData\\Local\\Continuum\\Anaconda3\\lib\\site-packages\\pandas\\core\\indexing.py:465: SettingWithCopyWarning: \n",
      "A value is trying to be set on a copy of a slice from a DataFrame.\n",
      "Try using .loc[row_indexer,col_indexer] = value instead\n",
      "\n",
      "See the caveats in the documentation: http://pandas.pydata.org/pandas-docs/stable/indexing.html#indexing-view-versus-copy\n",
      "  self.obj[item] = s\n"
     ]
    }
   ],
   "source": [
    "mGDP[[\"GDP1\",\"GDP2\"]] = 1"
   ]
  },
  {
   "cell_type": "code",
   "execution_count": 104,
   "metadata": {
    "collapsed": false
   },
   "outputs": [
    {
     "data": {
      "text/html": [
       "<div>\n",
       "<table border=\"1\" class=\"dataframe\">\n",
       "  <thead>\n",
       "    <tr style=\"text-align: right;\">\n",
       "      <th></th>\n",
       "      <th>QuarterYear</th>\n",
       "      <th>GDP</th>\n",
       "      <th>Year</th>\n",
       "      <th>LastQuarters</th>\n",
       "      <th>GDP1</th>\n",
       "      <th>GDP2</th>\n",
       "    </tr>\n",
       "  </thead>\n",
       "  <tbody>\n",
       "    <tr>\n",
       "      <th>0</th>\n",
       "      <td>1947q1</td>\n",
       "      <td>1934.5</td>\n",
       "      <td>1947</td>\n",
       "      <td>NaN</td>\n",
       "      <td>1</td>\n",
       "      <td>1</td>\n",
       "    </tr>\n",
       "    <tr>\n",
       "      <th>1</th>\n",
       "      <td>1947q2</td>\n",
       "      <td>1932.3</td>\n",
       "      <td>1947</td>\n",
       "      <td>NaN</td>\n",
       "      <td>1</td>\n",
       "      <td>1</td>\n",
       "    </tr>\n",
       "    <tr>\n",
       "      <th>2</th>\n",
       "      <td>1947q3</td>\n",
       "      <td>1930.3</td>\n",
       "      <td>1947</td>\n",
       "      <td>NaN</td>\n",
       "      <td>1</td>\n",
       "      <td>1</td>\n",
       "    </tr>\n",
       "    <tr>\n",
       "      <th>3</th>\n",
       "      <td>1947q4</td>\n",
       "      <td>1960.7</td>\n",
       "      <td>1947</td>\n",
       "      <td>NaN</td>\n",
       "      <td>1</td>\n",
       "      <td>1</td>\n",
       "    </tr>\n",
       "    <tr>\n",
       "      <th>4</th>\n",
       "      <td>1948q1</td>\n",
       "      <td>1989.5</td>\n",
       "      <td>1948</td>\n",
       "      <td>Test</td>\n",
       "      <td>1</td>\n",
       "      <td>1</td>\n",
       "    </tr>\n",
       "  </tbody>\n",
       "</table>\n",
       "</div>"
      ],
      "text/plain": [
       "  QuarterYear     GDP  Year LastQuarters  GDP1  GDP2\n",
       "0      1947q1  1934.5  1947          NaN     1     1\n",
       "1      1947q2  1932.3  1947          NaN     1     1\n",
       "2      1947q3  1930.3  1947          NaN     1     1\n",
       "3      1947q4  1960.7  1947          NaN     1     1\n",
       "4      1948q1  1989.5  1948         Test     1     1"
      ]
     },
     "execution_count": 104,
     "metadata": {},
     "output_type": "execute_result"
    }
   ],
   "source": [
    "mGDP.head(10)"
   ]
  },
  {
   "cell_type": "code",
   "execution_count": 106,
   "metadata": {
    "collapsed": false
   },
   "outputs": [
    {
     "name": "stderr",
     "output_type": "stream",
     "text": [
      "C:\\Users\\javier.santos\\AppData\\Local\\Continuum\\Anaconda3\\lib\\site-packages\\ipykernel\\__main__.py:1: SettingWithCopyWarning: \n",
      "A value is trying to be set on a copy of a slice from a DataFrame.\n",
      "Try using .loc[row_indexer,col_indexer] = value instead\n",
      "\n",
      "See the caveats in the documentation: http://pandas.pydata.org/pandas-docs/stable/indexing.html#indexing-view-versus-copy\n",
      "  if __name__ == '__main__':\n",
      "C:\\Users\\javier.santos\\AppData\\Local\\Continuum\\Anaconda3\\lib\\site-packages\\pandas\\core\\indexing.py:465: SettingWithCopyWarning: \n",
      "A value is trying to be set on a copy of a slice from a DataFrame.\n",
      "Try using .loc[row_indexer,col_indexer] = value instead\n",
      "\n",
      "See the caveats in the documentation: http://pandas.pydata.org/pandas-docs/stable/indexing.html#indexing-view-versus-copy\n",
      "  self.obj[item] = s\n"
     ]
    }
   ],
   "source": [
    "mGDP[[\"GDP1\",\"GDP2\"]] = [\"Hola\", \"Adios\"]"
   ]
  },
  {
   "cell_type": "code",
   "execution_count": 108,
   "metadata": {
    "collapsed": false
   },
   "outputs": [
    {
     "data": {
      "text/html": [
       "<div>\n",
       "<table border=\"1\" class=\"dataframe\">\n",
       "  <thead>\n",
       "    <tr style=\"text-align: right;\">\n",
       "      <th></th>\n",
       "      <th>QuarterYear</th>\n",
       "      <th>GDP</th>\n",
       "      <th>Year</th>\n",
       "      <th>LastQuarters</th>\n",
       "      <th>GDP1</th>\n",
       "      <th>GDP2</th>\n",
       "    </tr>\n",
       "  </thead>\n",
       "  <tbody>\n",
       "    <tr>\n",
       "      <th>0</th>\n",
       "      <td>1947q1</td>\n",
       "      <td>1934.5</td>\n",
       "      <td>1947</td>\n",
       "      <td>NaN</td>\n",
       "      <td>Hola</td>\n",
       "      <td>Adios</td>\n",
       "    </tr>\n",
       "    <tr>\n",
       "      <th>1</th>\n",
       "      <td>1947q2</td>\n",
       "      <td>1932.3</td>\n",
       "      <td>1947</td>\n",
       "      <td>NaN</td>\n",
       "      <td>Hola</td>\n",
       "      <td>Adios</td>\n",
       "    </tr>\n",
       "    <tr>\n",
       "      <th>2</th>\n",
       "      <td>1947q3</td>\n",
       "      <td>1930.3</td>\n",
       "      <td>1947</td>\n",
       "      <td>NaN</td>\n",
       "      <td>Hola</td>\n",
       "      <td>Adios</td>\n",
       "    </tr>\n",
       "    <tr>\n",
       "      <th>3</th>\n",
       "      <td>1947q4</td>\n",
       "      <td>1960.7</td>\n",
       "      <td>1947</td>\n",
       "      <td>NaN</td>\n",
       "      <td>Hola</td>\n",
       "      <td>Adios</td>\n",
       "    </tr>\n",
       "    <tr>\n",
       "      <th>4</th>\n",
       "      <td>1948q1</td>\n",
       "      <td>1989.5</td>\n",
       "      <td>1948</td>\n",
       "      <td>Test</td>\n",
       "      <td>Hola</td>\n",
       "      <td>Adios</td>\n",
       "    </tr>\n",
       "  </tbody>\n",
       "</table>\n",
       "</div>"
      ],
      "text/plain": [
       "  QuarterYear     GDP  Year LastQuarters  GDP1   GDP2\n",
       "0      1947q1  1934.5  1947          NaN  Hola  Adios\n",
       "1      1947q2  1932.3  1947          NaN  Hola  Adios\n",
       "2      1947q3  1930.3  1947          NaN  Hola  Adios\n",
       "3      1947q4  1960.7  1947          NaN  Hola  Adios\n",
       "4      1948q1  1989.5  1948         Test  Hola  Adios"
      ]
     },
     "execution_count": 108,
     "metadata": {},
     "output_type": "execute_result"
    }
   ],
   "source": [
    "mGDP.head(10)"
   ]
  },
  {
   "cell_type": "code",
   "execution_count": 110,
   "metadata": {
    "collapsed": false
   },
   "outputs": [
    {
     "name": "stderr",
     "output_type": "stream",
     "text": [
      "C:\\Users\\javier.santos\\AppData\\Local\\Continuum\\Anaconda3\\lib\\site-packages\\pandas\\core\\indexing.py:465: SettingWithCopyWarning: \n",
      "A value is trying to be set on a copy of a slice from a DataFrame.\n",
      "Try using .loc[row_indexer,col_indexer] = value instead\n",
      "\n",
      "See the caveats in the documentation: http://pandas.pydata.org/pandas-docs/stable/indexing.html#indexing-view-versus-copy\n",
      "  self.obj[item] = s\n"
     ]
    }
   ],
   "source": [
    "mGDP.ix[2,[\"GDP1\",\"GDP2\"]] = [\"Javier\", \"Marcos\"]"
   ]
  },
  {
   "cell_type": "code",
   "execution_count": 111,
   "metadata": {
    "collapsed": false
   },
   "outputs": [
    {
     "data": {
      "text/html": [
       "<div>\n",
       "<table border=\"1\" class=\"dataframe\">\n",
       "  <thead>\n",
       "    <tr style=\"text-align: right;\">\n",
       "      <th></th>\n",
       "      <th>QuarterYear</th>\n",
       "      <th>GDP</th>\n",
       "      <th>Year</th>\n",
       "      <th>LastQuarters</th>\n",
       "      <th>GDP1</th>\n",
       "      <th>GDP2</th>\n",
       "    </tr>\n",
       "  </thead>\n",
       "  <tbody>\n",
       "    <tr>\n",
       "      <th>0</th>\n",
       "      <td>1947q1</td>\n",
       "      <td>1934.5</td>\n",
       "      <td>1947</td>\n",
       "      <td>NaN</td>\n",
       "      <td>Hola</td>\n",
       "      <td>Adios</td>\n",
       "    </tr>\n",
       "    <tr>\n",
       "      <th>1</th>\n",
       "      <td>1947q2</td>\n",
       "      <td>1932.3</td>\n",
       "      <td>1947</td>\n",
       "      <td>NaN</td>\n",
       "      <td>Hola</td>\n",
       "      <td>Adios</td>\n",
       "    </tr>\n",
       "    <tr>\n",
       "      <th>2</th>\n",
       "      <td>1947q3</td>\n",
       "      <td>1930.3</td>\n",
       "      <td>1947</td>\n",
       "      <td>NaN</td>\n",
       "      <td>Javier</td>\n",
       "      <td>Marcos</td>\n",
       "    </tr>\n",
       "    <tr>\n",
       "      <th>3</th>\n",
       "      <td>1947q4</td>\n",
       "      <td>1960.7</td>\n",
       "      <td>1947</td>\n",
       "      <td>NaN</td>\n",
       "      <td>Hola</td>\n",
       "      <td>Adios</td>\n",
       "    </tr>\n",
       "    <tr>\n",
       "      <th>4</th>\n",
       "      <td>1948q1</td>\n",
       "      <td>1989.5</td>\n",
       "      <td>1948</td>\n",
       "      <td>Test</td>\n",
       "      <td>Hola</td>\n",
       "      <td>Adios</td>\n",
       "    </tr>\n",
       "  </tbody>\n",
       "</table>\n",
       "</div>"
      ],
      "text/plain": [
       "  QuarterYear     GDP  Year LastQuarters    GDP1    GDP2\n",
       "0      1947q1  1934.5  1947          NaN    Hola   Adios\n",
       "1      1947q2  1932.3  1947          NaN    Hola   Adios\n",
       "2      1947q3  1930.3  1947          NaN  Javier  Marcos\n",
       "3      1947q4  1960.7  1947          NaN    Hola   Adios\n",
       "4      1948q1  1989.5  1948         Test    Hola   Adios"
      ]
     },
     "execution_count": 111,
     "metadata": {},
     "output_type": "execute_result"
    }
   ],
   "source": [
    "mGDP.head()"
   ]
  },
  {
   "cell_type": "code",
   "execution_count": 88,
   "metadata": {
    "collapsed": false
   },
   "outputs": [
    {
     "data": {
      "text/html": [
       "<div>\n",
       "<table border=\"1\" class=\"dataframe\">\n",
       "  <thead>\n",
       "    <tr style=\"text-align: right;\">\n",
       "      <th></th>\n",
       "      <th>QuarterYear</th>\n",
       "      <th>GDP</th>\n",
       "      <th>Year</th>\n",
       "      <th>LastQuarters</th>\n",
       "    </tr>\n",
       "  </thead>\n",
       "  <tbody>\n",
       "    <tr>\n",
       "      <th>0</th>\n",
       "      <td>1947q1</td>\n",
       "      <td>1934.5</td>\n",
       "      <td>1947</td>\n",
       "      <td>NaN</td>\n",
       "    </tr>\n",
       "    <tr>\n",
       "      <th>1</th>\n",
       "      <td>1947q2</td>\n",
       "      <td>1932.3</td>\n",
       "      <td>1947</td>\n",
       "      <td>NaN</td>\n",
       "    </tr>\n",
       "    <tr>\n",
       "      <th>2</th>\n",
       "      <td>1947q3</td>\n",
       "      <td>1930.3</td>\n",
       "      <td>1947</td>\n",
       "      <td>NaN</td>\n",
       "    </tr>\n",
       "    <tr>\n",
       "      <th>3</th>\n",
       "      <td>1947q4</td>\n",
       "      <td>1960.7</td>\n",
       "      <td>1947</td>\n",
       "      <td>NaN</td>\n",
       "    </tr>\n",
       "    <tr>\n",
       "      <th>4</th>\n",
       "      <td>1948q1</td>\n",
       "      <td>1989.5</td>\n",
       "      <td>1948</td>\n",
       "      <td>Test</td>\n",
       "    </tr>\n",
       "    <tr>\n",
       "      <th>5</th>\n",
       "      <td>1948q2</td>\n",
       "      <td>2021.9</td>\n",
       "      <td>1948</td>\n",
       "      <td>Test</td>\n",
       "    </tr>\n",
       "    <tr>\n",
       "      <th>6</th>\n",
       "      <td>1948q3</td>\n",
       "      <td>2033.2</td>\n",
       "      <td>1948</td>\n",
       "      <td>Test</td>\n",
       "    </tr>\n",
       "    <tr>\n",
       "      <th>7</th>\n",
       "      <td>1948q4</td>\n",
       "      <td>2035.3</td>\n",
       "      <td>1948</td>\n",
       "      <td>Test</td>\n",
       "    </tr>\n",
       "    <tr>\n",
       "      <th>8</th>\n",
       "      <td>1949q1</td>\n",
       "      <td>2007.5</td>\n",
       "      <td>1949</td>\n",
       "      <td>Test</td>\n",
       "    </tr>\n",
       "    <tr>\n",
       "      <th>9</th>\n",
       "      <td>1949q2</td>\n",
       "      <td>2000.8</td>\n",
       "      <td>1949</td>\n",
       "      <td>Test</td>\n",
       "    </tr>\n",
       "  </tbody>\n",
       "</table>\n",
       "</div>"
      ],
      "text/plain": [
       "  QuarterYear     GDP  Year LastQuarters\n",
       "0      1947q1  1934.5  1947          NaN\n",
       "1      1947q2  1932.3  1947          NaN\n",
       "2      1947q3  1930.3  1947          NaN\n",
       "3      1947q4  1960.7  1947          NaN\n",
       "4      1948q1  1989.5  1948         Test\n",
       "5      1948q2  2021.9  1948         Test\n",
       "6      1948q3  2033.2  1948         Test\n",
       "7      1948q4  2035.3  1948         Test\n",
       "8      1949q1  2007.5  1949         Test\n",
       "9      1949q2  2000.8  1949         Test"
      ]
     },
     "execution_count": 88,
     "metadata": {},
     "output_type": "execute_result"
    }
   ],
   "source": [
    "GDP.head(10)"
   ]
  },
  {
   "cell_type": "markdown",
   "metadata": {},
   "source": [
    "It seems Pandas doesn't allow to set a list into the cells so the data must be cplitted into columns"
   ]
  },
  {
   "cell_type": "code",
   "execution_count": 115,
   "metadata": {
    "collapsed": true
   },
   "outputs": [],
   "source": [
    "values = "
   ]
  },
  {
   "cell_type": "code",
   "execution_count": 119,
   "metadata": {
    "collapsed": false
   },
   "outputs": [
    {
     "name": "stdout",
     "output_type": "stream",
     "text": [
      "[[0, 1, 2, 3, 4, 5, 6, 7, 8, 9, 10, 11, 12, 13, 14, 15, 16, 17, 18, 19, 20, 21, 22], [0, 1, 2, 3, 4, 5, 6, 7, 8, 9, 10, 11, 12, 13, 14, 15, 16, 17, 18, 19, 20, 21, 22], [0, 1, 2, 3, 4, 5, 6, 7, 8, 9, 10, 11, 12, 13, 14, 15, 16, 17, 18, 19, 20, 21, 22]]\n"
     ]
    }
   ],
   "source": [
    "print([list(values)]*4)"
   ]
  },
  {
   "cell_type": "code",
   "execution_count": 133,
   "metadata": {
    "collapsed": false
   },
   "outputs": [],
   "source": [
    "# First I need to create the columns. \n",
    "# In order to do this I will create a new data frame with the four columns to check\n",
    "columns = [\"i-4\",\"i-3\",\"i-2\",\"i-1\"]\n",
    "values = [[np.NaN,np.NaN,np.NaN,np.NaN]] * (len(GDP[\"GDP\"]) )\n",
    "new_columns = pd.DataFrame(values, columns = columns)\n",
    "\n",
    "\n",
    "\n",
    "  "
   ]
  },
  {
   "cell_type": "code",
   "execution_count": 134,
   "metadata": {
    "collapsed": false
   },
   "outputs": [
    {
     "data": {
      "text/html": [
       "<div>\n",
       "<table border=\"1\" class=\"dataframe\">\n",
       "  <thead>\n",
       "    <tr style=\"text-align: right;\">\n",
       "      <th></th>\n",
       "      <th>i-4</th>\n",
       "      <th>i-3</th>\n",
       "      <th>i-2</th>\n",
       "      <th>i-1</th>\n",
       "    </tr>\n",
       "  </thead>\n",
       "  <tbody>\n",
       "    <tr>\n",
       "      <th>0</th>\n",
       "      <td>NaN</td>\n",
       "      <td>NaN</td>\n",
       "      <td>NaN</td>\n",
       "      <td>NaN</td>\n",
       "    </tr>\n",
       "    <tr>\n",
       "      <th>1</th>\n",
       "      <td>NaN</td>\n",
       "      <td>NaN</td>\n",
       "      <td>NaN</td>\n",
       "      <td>NaN</td>\n",
       "    </tr>\n",
       "    <tr>\n",
       "      <th>2</th>\n",
       "      <td>NaN</td>\n",
       "      <td>NaN</td>\n",
       "      <td>NaN</td>\n",
       "      <td>NaN</td>\n",
       "    </tr>\n",
       "    <tr>\n",
       "      <th>3</th>\n",
       "      <td>NaN</td>\n",
       "      <td>NaN</td>\n",
       "      <td>NaN</td>\n",
       "      <td>NaN</td>\n",
       "    </tr>\n",
       "    <tr>\n",
       "      <th>4</th>\n",
       "      <td>NaN</td>\n",
       "      <td>NaN</td>\n",
       "      <td>NaN</td>\n",
       "      <td>NaN</td>\n",
       "    </tr>\n",
       "  </tbody>\n",
       "</table>\n",
       "</div>"
      ],
      "text/plain": [
       "   i-4  i-3  i-2  i-1\n",
       "0  NaN  NaN  NaN  NaN\n",
       "1  NaN  NaN  NaN  NaN\n",
       "2  NaN  NaN  NaN  NaN\n",
       "3  NaN  NaN  NaN  NaN\n",
       "4  NaN  NaN  NaN  NaN"
      ]
     },
     "execution_count": 134,
     "metadata": {},
     "output_type": "execute_result"
    }
   ],
   "source": [
    "new_columns.head()"
   ]
  },
  {
   "cell_type": "code",
   "execution_count": 136,
   "metadata": {
    "collapsed": false
   },
   "outputs": [],
   "source": [
    "for i in range(4, len(GDP[\"GDP\"])):\n",
    "    new_columns.ix[i, columns] = GDP[\"GDP\"].iloc[i-4:i].values  "
   ]
  },
  {
   "cell_type": "code",
   "execution_count": 138,
   "metadata": {
    "collapsed": false
   },
   "outputs": [
    {
     "data": {
      "text/html": [
       "<div>\n",
       "<table border=\"1\" class=\"dataframe\">\n",
       "  <thead>\n",
       "    <tr style=\"text-align: right;\">\n",
       "      <th></th>\n",
       "      <th>i-4</th>\n",
       "      <th>i-3</th>\n",
       "      <th>i-2</th>\n",
       "      <th>i-1</th>\n",
       "    </tr>\n",
       "  </thead>\n",
       "  <tbody>\n",
       "    <tr>\n",
       "      <th>0</th>\n",
       "      <td>NaN</td>\n",
       "      <td>NaN</td>\n",
       "      <td>NaN</td>\n",
       "      <td>NaN</td>\n",
       "    </tr>\n",
       "    <tr>\n",
       "      <th>1</th>\n",
       "      <td>NaN</td>\n",
       "      <td>NaN</td>\n",
       "      <td>NaN</td>\n",
       "      <td>NaN</td>\n",
       "    </tr>\n",
       "    <tr>\n",
       "      <th>2</th>\n",
       "      <td>NaN</td>\n",
       "      <td>NaN</td>\n",
       "      <td>NaN</td>\n",
       "      <td>NaN</td>\n",
       "    </tr>\n",
       "    <tr>\n",
       "      <th>3</th>\n",
       "      <td>NaN</td>\n",
       "      <td>NaN</td>\n",
       "      <td>NaN</td>\n",
       "      <td>NaN</td>\n",
       "    </tr>\n",
       "    <tr>\n",
       "      <th>4</th>\n",
       "      <td>1934.5</td>\n",
       "      <td>1932.3</td>\n",
       "      <td>1930.3</td>\n",
       "      <td>1960.7</td>\n",
       "    </tr>\n",
       "  </tbody>\n",
       "</table>\n",
       "</div>"
      ],
      "text/plain": [
       "      i-4     i-3     i-2     i-1\n",
       "0     NaN     NaN     NaN     NaN\n",
       "1     NaN     NaN     NaN     NaN\n",
       "2     NaN     NaN     NaN     NaN\n",
       "3     NaN     NaN     NaN     NaN\n",
       "4  1934.5  1932.3  1930.3  1960.7"
      ]
     },
     "execution_count": 138,
     "metadata": {},
     "output_type": "execute_result"
    }
   ],
   "source": [
    "new_columns.head()"
   ]
  },
  {
   "cell_type": "code",
   "execution_count": 144,
   "metadata": {
    "collapsed": false
   },
   "outputs": [],
   "source": [
    "merged = pd.concat([GDP,new_columns], axis = 1 )"
   ]
  },
  {
   "cell_type": "code",
   "execution_count": 146,
   "metadata": {
    "collapsed": false
   },
   "outputs": [
    {
     "data": {
      "text/html": [
       "<div>\n",
       "<table border=\"1\" class=\"dataframe\">\n",
       "  <thead>\n",
       "    <tr style=\"text-align: right;\">\n",
       "      <th></th>\n",
       "      <th>QuarterYear</th>\n",
       "      <th>GDP</th>\n",
       "      <th>Year</th>\n",
       "      <th>LastQuarters</th>\n",
       "      <th>i-4</th>\n",
       "      <th>i-3</th>\n",
       "      <th>i-2</th>\n",
       "      <th>i-1</th>\n",
       "    </tr>\n",
       "  </thead>\n",
       "  <tbody>\n",
       "    <tr>\n",
       "      <th>0</th>\n",
       "      <td>1947q1</td>\n",
       "      <td>1934.5</td>\n",
       "      <td>1947</td>\n",
       "      <td>NaN</td>\n",
       "      <td>NaN</td>\n",
       "      <td>NaN</td>\n",
       "      <td>NaN</td>\n",
       "      <td>NaN</td>\n",
       "    </tr>\n",
       "    <tr>\n",
       "      <th>1</th>\n",
       "      <td>1947q2</td>\n",
       "      <td>1932.3</td>\n",
       "      <td>1947</td>\n",
       "      <td>NaN</td>\n",
       "      <td>NaN</td>\n",
       "      <td>NaN</td>\n",
       "      <td>NaN</td>\n",
       "      <td>NaN</td>\n",
       "    </tr>\n",
       "    <tr>\n",
       "      <th>2</th>\n",
       "      <td>1947q3</td>\n",
       "      <td>1930.3</td>\n",
       "      <td>1947</td>\n",
       "      <td>NaN</td>\n",
       "      <td>NaN</td>\n",
       "      <td>NaN</td>\n",
       "      <td>NaN</td>\n",
       "      <td>NaN</td>\n",
       "    </tr>\n",
       "    <tr>\n",
       "      <th>3</th>\n",
       "      <td>1947q4</td>\n",
       "      <td>1960.7</td>\n",
       "      <td>1947</td>\n",
       "      <td>NaN</td>\n",
       "      <td>NaN</td>\n",
       "      <td>NaN</td>\n",
       "      <td>NaN</td>\n",
       "      <td>NaN</td>\n",
       "    </tr>\n",
       "    <tr>\n",
       "      <th>4</th>\n",
       "      <td>1948q1</td>\n",
       "      <td>1989.5</td>\n",
       "      <td>1948</td>\n",
       "      <td>Test</td>\n",
       "      <td>1934.5</td>\n",
       "      <td>1932.3</td>\n",
       "      <td>1930.3</td>\n",
       "      <td>1960.7</td>\n",
       "    </tr>\n",
       "  </tbody>\n",
       "</table>\n",
       "</div>"
      ],
      "text/plain": [
       "  QuarterYear     GDP  Year LastQuarters     i-4     i-3     i-2     i-1\n",
       "0      1947q1  1934.5  1947          NaN     NaN     NaN     NaN     NaN\n",
       "1      1947q2  1932.3  1947          NaN     NaN     NaN     NaN     NaN\n",
       "2      1947q3  1930.3  1947          NaN     NaN     NaN     NaN     NaN\n",
       "3      1947q4  1960.7  1947          NaN     NaN     NaN     NaN     NaN\n",
       "4      1948q1  1989.5  1948         Test  1934.5  1932.3  1930.3  1960.7"
      ]
     },
     "execution_count": 146,
     "metadata": {},
     "output_type": "execute_result"
    }
   ],
   "source": [
    "merged.head()"
   ]
  },
  {
   "cell_type": "markdown",
   "metadata": {},
   "source": [
    "I have managed to create new columns with the last 4 quarters in order to cumpute the reccesion"
   ]
  },
  {
   "cell_type": "markdown",
   "metadata": {},
   "source": [
    "Now I should iterate over the rows and performing some iterations to compute the recession start. \n",
    "This will be done follwoing the pseudocode previously done."
   ]
  },
  {
   "cell_type": "markdown",
   "metadata": {},
   "source": [
    "http://stackoverflow.com/questions/41361537/find-two-consecutive-quarters-of-gdp-decline-and-ending-with-two-consecutive-qu\n",
    "\n",
    "http://stackoverflow.com/questions/41537655/pandas-determine-the-start-end-and-bottom-of-recession-based-on-gdp"
   ]
  },
  {
   "cell_type": "code",
   "execution_count": 160,
   "metadata": {
    "collapsed": false
   },
   "outputs": [],
   "source": [
    "printFunction = lambda x: print(x)"
   ]
  },
  {
   "cell_type": "code",
   "execution_count": 163,
   "metadata": {
    "collapsed": false
   },
   "outputs": [],
   "source": [
    "# Followning function will apply a function by row isntead by columns\n",
    "# the function will return a serie with the entire row\n",
    "#merged.apply(printFunction,axis = 1)"
   ]
  },
  {
   "cell_type": "code",
   "execution_count": 197,
   "metadata": {
    "collapsed": false
   },
   "outputs": [],
   "source": [
    "# Let's create a new colums\n",
    "merged[\"start\"] = False\n"
   ]
  },
  {
   "cell_type": "code",
   "execution_count": 214,
   "metadata": {
    "collapsed": false
   },
   "outputs": [],
   "source": [
    "def check_reccession(row):\n",
    "    \"\"\"\n",
    "       BY DEFAULT THE RECESION IS FALSE\n",
    "\n",
    "    if element[i-3] <  element[i-4] &&   element[i-2] <  element[i-3] ]:\n",
    "        Two quarters consecutively in GDP decline.\n",
    "\n",
    "        -> PART IIa : two consecutive quarters of GDP growth. Check wheter is growing from the previous quarter\n",
    "        if ( element[i-1 > i-2 ]):\n",
    "            -> This is the second part of the recession when it grows ups\n",
    "            -> PART IIb : two consecutive quarters of GDP growth.\n",
    "            if element[i-1] >  element[i] :\n",
    "                -> this means the recesion starts\n",
    "                START RECESION\n",
    "\n",
    "\n",
    "    -A SET RECESION FROM THIS QUARTER BEING COMPUTED.\n",
    "    \"\"\"\n",
    "    # By default the recesion is set to False\n",
    "    result = False\n",
    "    \n",
    "    if (row[\"i-3\"] < row[\"i-4\"]) and (row[\"i-2\"] < row[\"i-3\"]) and \\\n",
    "       (row[\"i-1\"] > row[\"i-2\"]) and (row[\"i-1\"] > row[\"GDP\"]):\n",
    "        result = True\n",
    "    \n",
    "    # Set the final result \n",
    "    row[\"start\"] = result\n",
    "    return row\n",
    "    #print(row)"
   ]
  },
  {
   "cell_type": "code",
   "execution_count": 215,
   "metadata": {
    "collapsed": false
   },
   "outputs": [
    {
     "data": {
      "text/html": [
       "<div>\n",
       "<table border=\"1\" class=\"dataframe\">\n",
       "  <thead>\n",
       "    <tr style=\"text-align: right;\">\n",
       "      <th></th>\n",
       "      <th>QuarterYear</th>\n",
       "      <th>GDP</th>\n",
       "      <th>Year</th>\n",
       "      <th>LastQuarters</th>\n",
       "      <th>i-4</th>\n",
       "      <th>i-3</th>\n",
       "      <th>i-2</th>\n",
       "      <th>i-1</th>\n",
       "      <th>start</th>\n",
       "    </tr>\n",
       "  </thead>\n",
       "  <tbody>\n",
       "    <tr>\n",
       "      <th>0</th>\n",
       "      <td>1947q1</td>\n",
       "      <td>1934.5</td>\n",
       "      <td>1947</td>\n",
       "      <td>NaN</td>\n",
       "      <td>NaN</td>\n",
       "      <td>NaN</td>\n",
       "      <td>NaN</td>\n",
       "      <td>NaN</td>\n",
       "      <td>False</td>\n",
       "    </tr>\n",
       "    <tr>\n",
       "      <th>1</th>\n",
       "      <td>1947q2</td>\n",
       "      <td>1932.3</td>\n",
       "      <td>1947</td>\n",
       "      <td>NaN</td>\n",
       "      <td>NaN</td>\n",
       "      <td>NaN</td>\n",
       "      <td>NaN</td>\n",
       "      <td>NaN</td>\n",
       "      <td>False</td>\n",
       "    </tr>\n",
       "    <tr>\n",
       "      <th>2</th>\n",
       "      <td>1947q3</td>\n",
       "      <td>1930.3</td>\n",
       "      <td>1947</td>\n",
       "      <td>NaN</td>\n",
       "      <td>NaN</td>\n",
       "      <td>NaN</td>\n",
       "      <td>NaN</td>\n",
       "      <td>NaN</td>\n",
       "      <td>False</td>\n",
       "    </tr>\n",
       "    <tr>\n",
       "      <th>3</th>\n",
       "      <td>1947q4</td>\n",
       "      <td>1960.7</td>\n",
       "      <td>1947</td>\n",
       "      <td>NaN</td>\n",
       "      <td>NaN</td>\n",
       "      <td>NaN</td>\n",
       "      <td>NaN</td>\n",
       "      <td>NaN</td>\n",
       "      <td>False</td>\n",
       "    </tr>\n",
       "    <tr>\n",
       "      <th>4</th>\n",
       "      <td>1948q1</td>\n",
       "      <td>1989.5</td>\n",
       "      <td>1948</td>\n",
       "      <td>Test</td>\n",
       "      <td>1934.5</td>\n",
       "      <td>1932.3</td>\n",
       "      <td>1930.3</td>\n",
       "      <td>1960.7</td>\n",
       "      <td>False</td>\n",
       "    </tr>\n",
       "  </tbody>\n",
       "</table>\n",
       "</div>"
      ],
      "text/plain": [
       "  QuarterYear     GDP  Year LastQuarters     i-4     i-3     i-2     i-1  \\\n",
       "0      1947q1  1934.5  1947          NaN     NaN     NaN     NaN     NaN   \n",
       "1      1947q2  1932.3  1947          NaN     NaN     NaN     NaN     NaN   \n",
       "2      1947q3  1930.3  1947          NaN     NaN     NaN     NaN     NaN   \n",
       "3      1947q4  1960.7  1947          NaN     NaN     NaN     NaN     NaN   \n",
       "4      1948q1  1989.5  1948         Test  1934.5  1932.3  1930.3  1960.7   \n",
       "\n",
       "   start  \n",
       "0  False  \n",
       "1  False  \n",
       "2  False  \n",
       "3  False  \n",
       "4  False  "
      ]
     },
     "execution_count": 215,
     "metadata": {},
     "output_type": "execute_result"
    }
   ],
   "source": [
    "merged.head()"
   ]
  },
  {
   "cell_type": "code",
   "execution_count": 225,
   "metadata": {
    "collapsed": false
   },
   "outputs": [
    {
     "data": {
      "text/html": [
       "<div>\n",
       "<table border=\"1\" class=\"dataframe\">\n",
       "  <thead>\n",
       "    <tr style=\"text-align: right;\">\n",
       "      <th></th>\n",
       "      <th>QuarterYear</th>\n",
       "      <th>GDP</th>\n",
       "      <th>Year</th>\n",
       "      <th>LastQuarters</th>\n",
       "      <th>i-4</th>\n",
       "      <th>i-3</th>\n",
       "      <th>i-2</th>\n",
       "      <th>i-1</th>\n",
       "      <th>start</th>\n",
       "    </tr>\n",
       "  </thead>\n",
       "  <tbody>\n",
       "    <tr>\n",
       "      <th>0</th>\n",
       "      <td>1947q1</td>\n",
       "      <td>1934.5</td>\n",
       "      <td>1947</td>\n",
       "      <td>NaN</td>\n",
       "      <td>NaN</td>\n",
       "      <td>NaN</td>\n",
       "      <td>NaN</td>\n",
       "      <td>NaN</td>\n",
       "      <td>False</td>\n",
       "    </tr>\n",
       "    <tr>\n",
       "      <th>1</th>\n",
       "      <td>1947q2</td>\n",
       "      <td>1932.3</td>\n",
       "      <td>1947</td>\n",
       "      <td>NaN</td>\n",
       "      <td>NaN</td>\n",
       "      <td>NaN</td>\n",
       "      <td>NaN</td>\n",
       "      <td>NaN</td>\n",
       "      <td>False</td>\n",
       "    </tr>\n",
       "    <tr>\n",
       "      <th>2</th>\n",
       "      <td>1947q3</td>\n",
       "      <td>1930.3</td>\n",
       "      <td>1947</td>\n",
       "      <td>NaN</td>\n",
       "      <td>NaN</td>\n",
       "      <td>NaN</td>\n",
       "      <td>NaN</td>\n",
       "      <td>NaN</td>\n",
       "      <td>False</td>\n",
       "    </tr>\n",
       "    <tr>\n",
       "      <th>3</th>\n",
       "      <td>1947q4</td>\n",
       "      <td>1960.7</td>\n",
       "      <td>1947</td>\n",
       "      <td>NaN</td>\n",
       "      <td>NaN</td>\n",
       "      <td>NaN</td>\n",
       "      <td>NaN</td>\n",
       "      <td>NaN</td>\n",
       "      <td>False</td>\n",
       "    </tr>\n",
       "    <tr>\n",
       "      <th>4</th>\n",
       "      <td>1948q1</td>\n",
       "      <td>1989.5</td>\n",
       "      <td>1948</td>\n",
       "      <td>Test</td>\n",
       "      <td>1934.5</td>\n",
       "      <td>1932.3</td>\n",
       "      <td>1930.3</td>\n",
       "      <td>1960.7</td>\n",
       "      <td>False</td>\n",
       "    </tr>\n",
       "    <tr>\n",
       "      <th>5</th>\n",
       "      <td>1948q2</td>\n",
       "      <td>2021.9</td>\n",
       "      <td>1948</td>\n",
       "      <td>Test</td>\n",
       "      <td>1932.3</td>\n",
       "      <td>1930.3</td>\n",
       "      <td>1960.7</td>\n",
       "      <td>1989.5</td>\n",
       "      <td>False</td>\n",
       "    </tr>\n",
       "    <tr>\n",
       "      <th>6</th>\n",
       "      <td>1948q3</td>\n",
       "      <td>2033.2</td>\n",
       "      <td>1948</td>\n",
       "      <td>Test</td>\n",
       "      <td>1930.3</td>\n",
       "      <td>1960.7</td>\n",
       "      <td>1989.5</td>\n",
       "      <td>2021.9</td>\n",
       "      <td>False</td>\n",
       "    </tr>\n",
       "    <tr>\n",
       "      <th>7</th>\n",
       "      <td>1948q4</td>\n",
       "      <td>2035.3</td>\n",
       "      <td>1948</td>\n",
       "      <td>Test</td>\n",
       "      <td>1960.7</td>\n",
       "      <td>1989.5</td>\n",
       "      <td>2021.9</td>\n",
       "      <td>2033.2</td>\n",
       "      <td>False</td>\n",
       "    </tr>\n",
       "    <tr>\n",
       "      <th>8</th>\n",
       "      <td>1949q1</td>\n",
       "      <td>2007.5</td>\n",
       "      <td>1949</td>\n",
       "      <td>Test</td>\n",
       "      <td>1989.5</td>\n",
       "      <td>2021.9</td>\n",
       "      <td>2033.2</td>\n",
       "      <td>2035.3</td>\n",
       "      <td>False</td>\n",
       "    </tr>\n",
       "    <tr>\n",
       "      <th>9</th>\n",
       "      <td>1949q2</td>\n",
       "      <td>2000.8</td>\n",
       "      <td>1949</td>\n",
       "      <td>Test</td>\n",
       "      <td>2021.9</td>\n",
       "      <td>2033.2</td>\n",
       "      <td>2035.3</td>\n",
       "      <td>2007.5</td>\n",
       "      <td>False</td>\n",
       "    </tr>\n",
       "    <tr>\n",
       "      <th>10</th>\n",
       "      <td>1949q3</td>\n",
       "      <td>2022.8</td>\n",
       "      <td>1949</td>\n",
       "      <td>Test</td>\n",
       "      <td>2033.2</td>\n",
       "      <td>2035.3</td>\n",
       "      <td>2007.5</td>\n",
       "      <td>2000.8</td>\n",
       "      <td>False</td>\n",
       "    </tr>\n",
       "    <tr>\n",
       "      <th>11</th>\n",
       "      <td>1949q4</td>\n",
       "      <td>2004.7</td>\n",
       "      <td>1949</td>\n",
       "      <td>Test</td>\n",
       "      <td>2035.3</td>\n",
       "      <td>2007.5</td>\n",
       "      <td>2000.8</td>\n",
       "      <td>2022.8</td>\n",
       "      <td>True</td>\n",
       "    </tr>\n",
       "    <tr>\n",
       "      <th>12</th>\n",
       "      <td>1950q1</td>\n",
       "      <td>2084.6</td>\n",
       "      <td>1950</td>\n",
       "      <td>Test</td>\n",
       "      <td>2007.5</td>\n",
       "      <td>2000.8</td>\n",
       "      <td>2022.8</td>\n",
       "      <td>2004.7</td>\n",
       "      <td>False</td>\n",
       "    </tr>\n",
       "    <tr>\n",
       "      <th>13</th>\n",
       "      <td>1950q2</td>\n",
       "      <td>2147.6</td>\n",
       "      <td>1950</td>\n",
       "      <td>Test</td>\n",
       "      <td>2000.8</td>\n",
       "      <td>2022.8</td>\n",
       "      <td>2004.7</td>\n",
       "      <td>2084.6</td>\n",
       "      <td>False</td>\n",
       "    </tr>\n",
       "    <tr>\n",
       "      <th>14</th>\n",
       "      <td>1950q3</td>\n",
       "      <td>2230.4</td>\n",
       "      <td>1950</td>\n",
       "      <td>Test</td>\n",
       "      <td>2022.8</td>\n",
       "      <td>2004.7</td>\n",
       "      <td>2084.6</td>\n",
       "      <td>2147.6</td>\n",
       "      <td>False</td>\n",
       "    </tr>\n",
       "    <tr>\n",
       "      <th>15</th>\n",
       "      <td>1950q4</td>\n",
       "      <td>2273.4</td>\n",
       "      <td>1950</td>\n",
       "      <td>Test</td>\n",
       "      <td>2004.7</td>\n",
       "      <td>2084.6</td>\n",
       "      <td>2147.6</td>\n",
       "      <td>2230.4</td>\n",
       "      <td>False</td>\n",
       "    </tr>\n",
       "    <tr>\n",
       "      <th>16</th>\n",
       "      <td>1951q1</td>\n",
       "      <td>2304.5</td>\n",
       "      <td>1951</td>\n",
       "      <td>Test</td>\n",
       "      <td>2084.6</td>\n",
       "      <td>2147.6</td>\n",
       "      <td>2230.4</td>\n",
       "      <td>2273.4</td>\n",
       "      <td>False</td>\n",
       "    </tr>\n",
       "    <tr>\n",
       "      <th>17</th>\n",
       "      <td>1951q2</td>\n",
       "      <td>2344.5</td>\n",
       "      <td>1951</td>\n",
       "      <td>Test</td>\n",
       "      <td>2147.6</td>\n",
       "      <td>2230.4</td>\n",
       "      <td>2273.4</td>\n",
       "      <td>2304.5</td>\n",
       "      <td>False</td>\n",
       "    </tr>\n",
       "    <tr>\n",
       "      <th>18</th>\n",
       "      <td>1951q3</td>\n",
       "      <td>2392.8</td>\n",
       "      <td>1951</td>\n",
       "      <td>Test</td>\n",
       "      <td>2230.4</td>\n",
       "      <td>2273.4</td>\n",
       "      <td>2304.5</td>\n",
       "      <td>2344.5</td>\n",
       "      <td>False</td>\n",
       "    </tr>\n",
       "    <tr>\n",
       "      <th>19</th>\n",
       "      <td>1951q4</td>\n",
       "      <td>2398.1</td>\n",
       "      <td>1951</td>\n",
       "      <td>Test</td>\n",
       "      <td>2273.4</td>\n",
       "      <td>2304.5</td>\n",
       "      <td>2344.5</td>\n",
       "      <td>2392.8</td>\n",
       "      <td>False</td>\n",
       "    </tr>\n",
       "    <tr>\n",
       "      <th>20</th>\n",
       "      <td>1952q1</td>\n",
       "      <td>2423.5</td>\n",
       "      <td>1952</td>\n",
       "      <td>Test</td>\n",
       "      <td>2304.5</td>\n",
       "      <td>2344.5</td>\n",
       "      <td>2392.8</td>\n",
       "      <td>2398.1</td>\n",
       "      <td>False</td>\n",
       "    </tr>\n",
       "    <tr>\n",
       "      <th>21</th>\n",
       "      <td>1952q2</td>\n",
       "      <td>2428.5</td>\n",
       "      <td>1952</td>\n",
       "      <td>Test</td>\n",
       "      <td>2344.5</td>\n",
       "      <td>2392.8</td>\n",
       "      <td>2398.1</td>\n",
       "      <td>2423.5</td>\n",
       "      <td>False</td>\n",
       "    </tr>\n",
       "    <tr>\n",
       "      <th>22</th>\n",
       "      <td>1952q3</td>\n",
       "      <td>2446.1</td>\n",
       "      <td>1952</td>\n",
       "      <td>Test</td>\n",
       "      <td>2392.8</td>\n",
       "      <td>2398.1</td>\n",
       "      <td>2423.5</td>\n",
       "      <td>2428.5</td>\n",
       "      <td>False</td>\n",
       "    </tr>\n",
       "    <tr>\n",
       "      <th>23</th>\n",
       "      <td>1952q4</td>\n",
       "      <td>2526.4</td>\n",
       "      <td>1952</td>\n",
       "      <td>Test</td>\n",
       "      <td>2398.1</td>\n",
       "      <td>2423.5</td>\n",
       "      <td>2428.5</td>\n",
       "      <td>2446.1</td>\n",
       "      <td>False</td>\n",
       "    </tr>\n",
       "    <tr>\n",
       "      <th>24</th>\n",
       "      <td>1953q1</td>\n",
       "      <td>2573.4</td>\n",
       "      <td>1953</td>\n",
       "      <td>Test</td>\n",
       "      <td>2423.5</td>\n",
       "      <td>2428.5</td>\n",
       "      <td>2446.1</td>\n",
       "      <td>2526.4</td>\n",
       "      <td>False</td>\n",
       "    </tr>\n",
       "    <tr>\n",
       "      <th>25</th>\n",
       "      <td>1953q2</td>\n",
       "      <td>2593.5</td>\n",
       "      <td>1953</td>\n",
       "      <td>Test</td>\n",
       "      <td>2428.5</td>\n",
       "      <td>2446.1</td>\n",
       "      <td>2526.4</td>\n",
       "      <td>2573.4</td>\n",
       "      <td>False</td>\n",
       "    </tr>\n",
       "    <tr>\n",
       "      <th>26</th>\n",
       "      <td>1953q3</td>\n",
       "      <td>2578.9</td>\n",
       "      <td>1953</td>\n",
       "      <td>Test</td>\n",
       "      <td>2446.1</td>\n",
       "      <td>2526.4</td>\n",
       "      <td>2573.4</td>\n",
       "      <td>2593.5</td>\n",
       "      <td>False</td>\n",
       "    </tr>\n",
       "    <tr>\n",
       "      <th>27</th>\n",
       "      <td>1953q4</td>\n",
       "      <td>2539.8</td>\n",
       "      <td>1953</td>\n",
       "      <td>Test</td>\n",
       "      <td>2526.4</td>\n",
       "      <td>2573.4</td>\n",
       "      <td>2593.5</td>\n",
       "      <td>2578.9</td>\n",
       "      <td>False</td>\n",
       "    </tr>\n",
       "    <tr>\n",
       "      <th>28</th>\n",
       "      <td>1954q1</td>\n",
       "      <td>2528.0</td>\n",
       "      <td>1954</td>\n",
       "      <td>Test</td>\n",
       "      <td>2573.4</td>\n",
       "      <td>2593.5</td>\n",
       "      <td>2578.9</td>\n",
       "      <td>2539.8</td>\n",
       "      <td>False</td>\n",
       "    </tr>\n",
       "    <tr>\n",
       "      <th>29</th>\n",
       "      <td>1954q2</td>\n",
       "      <td>2530.7</td>\n",
       "      <td>1954</td>\n",
       "      <td>Test</td>\n",
       "      <td>2593.5</td>\n",
       "      <td>2578.9</td>\n",
       "      <td>2539.8</td>\n",
       "      <td>2528.0</td>\n",
       "      <td>False</td>\n",
       "    </tr>\n",
       "    <tr>\n",
       "      <th>...</th>\n",
       "      <td>...</td>\n",
       "      <td>...</td>\n",
       "      <td>...</td>\n",
       "      <td>...</td>\n",
       "      <td>...</td>\n",
       "      <td>...</td>\n",
       "      <td>...</td>\n",
       "      <td>...</td>\n",
       "      <td>...</td>\n",
       "    </tr>\n",
       "    <tr>\n",
       "      <th>248</th>\n",
       "      <td>2009q1</td>\n",
       "      <td>14375.0</td>\n",
       "      <td>2009</td>\n",
       "      <td>Test</td>\n",
       "      <td>14889.5</td>\n",
       "      <td>14963.4</td>\n",
       "      <td>14891.6</td>\n",
       "      <td>14577.0</td>\n",
       "      <td>False</td>\n",
       "    </tr>\n",
       "    <tr>\n",
       "      <th>249</th>\n",
       "      <td>2009q2</td>\n",
       "      <td>14355.6</td>\n",
       "      <td>2009</td>\n",
       "      <td>Test</td>\n",
       "      <td>14963.4</td>\n",
       "      <td>14891.6</td>\n",
       "      <td>14577.0</td>\n",
       "      <td>14375.0</td>\n",
       "      <td>False</td>\n",
       "    </tr>\n",
       "    <tr>\n",
       "      <th>250</th>\n",
       "      <td>2009q3</td>\n",
       "      <td>14402.5</td>\n",
       "      <td>2009</td>\n",
       "      <td>Test</td>\n",
       "      <td>14891.6</td>\n",
       "      <td>14577.0</td>\n",
       "      <td>14375.0</td>\n",
       "      <td>14355.6</td>\n",
       "      <td>False</td>\n",
       "    </tr>\n",
       "    <tr>\n",
       "      <th>251</th>\n",
       "      <td>2009q4</td>\n",
       "      <td>14541.9</td>\n",
       "      <td>2009</td>\n",
       "      <td>Test</td>\n",
       "      <td>14577.0</td>\n",
       "      <td>14375.0</td>\n",
       "      <td>14355.6</td>\n",
       "      <td>14402.5</td>\n",
       "      <td>False</td>\n",
       "    </tr>\n",
       "    <tr>\n",
       "      <th>252</th>\n",
       "      <td>2010q1</td>\n",
       "      <td>14604.8</td>\n",
       "      <td>2010</td>\n",
       "      <td>Test</td>\n",
       "      <td>14375.0</td>\n",
       "      <td>14355.6</td>\n",
       "      <td>14402.5</td>\n",
       "      <td>14541.9</td>\n",
       "      <td>False</td>\n",
       "    </tr>\n",
       "    <tr>\n",
       "      <th>253</th>\n",
       "      <td>2010q2</td>\n",
       "      <td>14745.9</td>\n",
       "      <td>2010</td>\n",
       "      <td>Test</td>\n",
       "      <td>14355.6</td>\n",
       "      <td>14402.5</td>\n",
       "      <td>14541.9</td>\n",
       "      <td>14604.8</td>\n",
       "      <td>False</td>\n",
       "    </tr>\n",
       "    <tr>\n",
       "      <th>254</th>\n",
       "      <td>2010q3</td>\n",
       "      <td>14845.5</td>\n",
       "      <td>2010</td>\n",
       "      <td>Test</td>\n",
       "      <td>14402.5</td>\n",
       "      <td>14541.9</td>\n",
       "      <td>14604.8</td>\n",
       "      <td>14745.9</td>\n",
       "      <td>False</td>\n",
       "    </tr>\n",
       "    <tr>\n",
       "      <th>255</th>\n",
       "      <td>2010q4</td>\n",
       "      <td>14939.0</td>\n",
       "      <td>2010</td>\n",
       "      <td>Test</td>\n",
       "      <td>14541.9</td>\n",
       "      <td>14604.8</td>\n",
       "      <td>14745.9</td>\n",
       "      <td>14845.5</td>\n",
       "      <td>False</td>\n",
       "    </tr>\n",
       "    <tr>\n",
       "      <th>256</th>\n",
       "      <td>2011q1</td>\n",
       "      <td>14881.3</td>\n",
       "      <td>2011</td>\n",
       "      <td>Test</td>\n",
       "      <td>14604.8</td>\n",
       "      <td>14745.9</td>\n",
       "      <td>14845.5</td>\n",
       "      <td>14939.0</td>\n",
       "      <td>False</td>\n",
       "    </tr>\n",
       "    <tr>\n",
       "      <th>257</th>\n",
       "      <td>2011q2</td>\n",
       "      <td>14989.6</td>\n",
       "      <td>2011</td>\n",
       "      <td>Test</td>\n",
       "      <td>14745.9</td>\n",
       "      <td>14845.5</td>\n",
       "      <td>14939.0</td>\n",
       "      <td>14881.3</td>\n",
       "      <td>False</td>\n",
       "    </tr>\n",
       "    <tr>\n",
       "      <th>258</th>\n",
       "      <td>2011q3</td>\n",
       "      <td>15021.1</td>\n",
       "      <td>2011</td>\n",
       "      <td>Test</td>\n",
       "      <td>14845.5</td>\n",
       "      <td>14939.0</td>\n",
       "      <td>14881.3</td>\n",
       "      <td>14989.6</td>\n",
       "      <td>False</td>\n",
       "    </tr>\n",
       "    <tr>\n",
       "      <th>259</th>\n",
       "      <td>2011q4</td>\n",
       "      <td>15190.3</td>\n",
       "      <td>2011</td>\n",
       "      <td>Test</td>\n",
       "      <td>14939.0</td>\n",
       "      <td>14881.3</td>\n",
       "      <td>14989.6</td>\n",
       "      <td>15021.1</td>\n",
       "      <td>False</td>\n",
       "    </tr>\n",
       "    <tr>\n",
       "      <th>260</th>\n",
       "      <td>2012q1</td>\n",
       "      <td>15291.0</td>\n",
       "      <td>2012</td>\n",
       "      <td>Test</td>\n",
       "      <td>14881.3</td>\n",
       "      <td>14989.6</td>\n",
       "      <td>15021.1</td>\n",
       "      <td>15190.3</td>\n",
       "      <td>False</td>\n",
       "    </tr>\n",
       "    <tr>\n",
       "      <th>261</th>\n",
       "      <td>2012q2</td>\n",
       "      <td>15362.4</td>\n",
       "      <td>2012</td>\n",
       "      <td>Test</td>\n",
       "      <td>14989.6</td>\n",
       "      <td>15021.1</td>\n",
       "      <td>15190.3</td>\n",
       "      <td>15291.0</td>\n",
       "      <td>False</td>\n",
       "    </tr>\n",
       "    <tr>\n",
       "      <th>262</th>\n",
       "      <td>2012q3</td>\n",
       "      <td>15380.8</td>\n",
       "      <td>2012</td>\n",
       "      <td>Test</td>\n",
       "      <td>15021.1</td>\n",
       "      <td>15190.3</td>\n",
       "      <td>15291.0</td>\n",
       "      <td>15362.4</td>\n",
       "      <td>False</td>\n",
       "    </tr>\n",
       "    <tr>\n",
       "      <th>263</th>\n",
       "      <td>2012q4</td>\n",
       "      <td>15384.3</td>\n",
       "      <td>2012</td>\n",
       "      <td>Test</td>\n",
       "      <td>15190.3</td>\n",
       "      <td>15291.0</td>\n",
       "      <td>15362.4</td>\n",
       "      <td>15380.8</td>\n",
       "      <td>False</td>\n",
       "    </tr>\n",
       "    <tr>\n",
       "      <th>264</th>\n",
       "      <td>2013q1</td>\n",
       "      <td>15491.9</td>\n",
       "      <td>2013</td>\n",
       "      <td>Test</td>\n",
       "      <td>15291.0</td>\n",
       "      <td>15362.4</td>\n",
       "      <td>15380.8</td>\n",
       "      <td>15384.3</td>\n",
       "      <td>False</td>\n",
       "    </tr>\n",
       "    <tr>\n",
       "      <th>265</th>\n",
       "      <td>2013q2</td>\n",
       "      <td>15521.6</td>\n",
       "      <td>2013</td>\n",
       "      <td>Test</td>\n",
       "      <td>15362.4</td>\n",
       "      <td>15380.8</td>\n",
       "      <td>15384.3</td>\n",
       "      <td>15491.9</td>\n",
       "      <td>False</td>\n",
       "    </tr>\n",
       "    <tr>\n",
       "      <th>266</th>\n",
       "      <td>2013q3</td>\n",
       "      <td>15641.3</td>\n",
       "      <td>2013</td>\n",
       "      <td>Test</td>\n",
       "      <td>15380.8</td>\n",
       "      <td>15384.3</td>\n",
       "      <td>15491.9</td>\n",
       "      <td>15521.6</td>\n",
       "      <td>False</td>\n",
       "    </tr>\n",
       "    <tr>\n",
       "      <th>267</th>\n",
       "      <td>2013q4</td>\n",
       "      <td>15793.9</td>\n",
       "      <td>2013</td>\n",
       "      <td>Test</td>\n",
       "      <td>15384.3</td>\n",
       "      <td>15491.9</td>\n",
       "      <td>15521.6</td>\n",
       "      <td>15641.3</td>\n",
       "      <td>False</td>\n",
       "    </tr>\n",
       "    <tr>\n",
       "      <th>268</th>\n",
       "      <td>2014q1</td>\n",
       "      <td>15747.0</td>\n",
       "      <td>2014</td>\n",
       "      <td>Test</td>\n",
       "      <td>15491.9</td>\n",
       "      <td>15521.6</td>\n",
       "      <td>15641.3</td>\n",
       "      <td>15793.9</td>\n",
       "      <td>False</td>\n",
       "    </tr>\n",
       "    <tr>\n",
       "      <th>269</th>\n",
       "      <td>2014q2</td>\n",
       "      <td>15900.8</td>\n",
       "      <td>2014</td>\n",
       "      <td>Test</td>\n",
       "      <td>15521.6</td>\n",
       "      <td>15641.3</td>\n",
       "      <td>15793.9</td>\n",
       "      <td>15747.0</td>\n",
       "      <td>False</td>\n",
       "    </tr>\n",
       "    <tr>\n",
       "      <th>270</th>\n",
       "      <td>2014q3</td>\n",
       "      <td>16094.5</td>\n",
       "      <td>2014</td>\n",
       "      <td>Test</td>\n",
       "      <td>15641.3</td>\n",
       "      <td>15793.9</td>\n",
       "      <td>15747.0</td>\n",
       "      <td>15900.8</td>\n",
       "      <td>False</td>\n",
       "    </tr>\n",
       "    <tr>\n",
       "      <th>271</th>\n",
       "      <td>2014q4</td>\n",
       "      <td>16186.7</td>\n",
       "      <td>2014</td>\n",
       "      <td>Test</td>\n",
       "      <td>15793.9</td>\n",
       "      <td>15747.0</td>\n",
       "      <td>15900.8</td>\n",
       "      <td>16094.5</td>\n",
       "      <td>False</td>\n",
       "    </tr>\n",
       "    <tr>\n",
       "      <th>272</th>\n",
       "      <td>2015q1</td>\n",
       "      <td>16269.0</td>\n",
       "      <td>2015</td>\n",
       "      <td>Test</td>\n",
       "      <td>15747.0</td>\n",
       "      <td>15900.8</td>\n",
       "      <td>16094.5</td>\n",
       "      <td>16186.7</td>\n",
       "      <td>False</td>\n",
       "    </tr>\n",
       "    <tr>\n",
       "      <th>273</th>\n",
       "      <td>2015q2</td>\n",
       "      <td>16374.2</td>\n",
       "      <td>2015</td>\n",
       "      <td>Test</td>\n",
       "      <td>15900.8</td>\n",
       "      <td>16094.5</td>\n",
       "      <td>16186.7</td>\n",
       "      <td>16269.0</td>\n",
       "      <td>False</td>\n",
       "    </tr>\n",
       "    <tr>\n",
       "      <th>274</th>\n",
       "      <td>2015q3</td>\n",
       "      <td>16454.9</td>\n",
       "      <td>2015</td>\n",
       "      <td>Test</td>\n",
       "      <td>16094.5</td>\n",
       "      <td>16186.7</td>\n",
       "      <td>16269.0</td>\n",
       "      <td>16374.2</td>\n",
       "      <td>False</td>\n",
       "    </tr>\n",
       "    <tr>\n",
       "      <th>275</th>\n",
       "      <td>2015q4</td>\n",
       "      <td>16490.7</td>\n",
       "      <td>2015</td>\n",
       "      <td>Test</td>\n",
       "      <td>16186.7</td>\n",
       "      <td>16269.0</td>\n",
       "      <td>16374.2</td>\n",
       "      <td>16454.9</td>\n",
       "      <td>False</td>\n",
       "    </tr>\n",
       "    <tr>\n",
       "      <th>276</th>\n",
       "      <td>2016q1</td>\n",
       "      <td>16525.0</td>\n",
       "      <td>2016</td>\n",
       "      <td>Test</td>\n",
       "      <td>16269.0</td>\n",
       "      <td>16374.2</td>\n",
       "      <td>16454.9</td>\n",
       "      <td>16490.7</td>\n",
       "      <td>False</td>\n",
       "    </tr>\n",
       "    <tr>\n",
       "      <th>277</th>\n",
       "      <td>2016q2</td>\n",
       "      <td>16583.1</td>\n",
       "      <td>2016</td>\n",
       "      <td>Test</td>\n",
       "      <td>16374.2</td>\n",
       "      <td>16454.9</td>\n",
       "      <td>16490.7</td>\n",
       "      <td>16525.0</td>\n",
       "      <td>False</td>\n",
       "    </tr>\n",
       "  </tbody>\n",
       "</table>\n",
       "<p>278 rows × 9 columns</p>\n",
       "</div>"
      ],
      "text/plain": [
       "    QuarterYear      GDP  Year LastQuarters      i-4      i-3      i-2  \\\n",
       "0        1947q1   1934.5  1947          NaN      NaN      NaN      NaN   \n",
       "1        1947q2   1932.3  1947          NaN      NaN      NaN      NaN   \n",
       "2        1947q3   1930.3  1947          NaN      NaN      NaN      NaN   \n",
       "3        1947q4   1960.7  1947          NaN      NaN      NaN      NaN   \n",
       "4        1948q1   1989.5  1948         Test   1934.5   1932.3   1930.3   \n",
       "5        1948q2   2021.9  1948         Test   1932.3   1930.3   1960.7   \n",
       "6        1948q3   2033.2  1948         Test   1930.3   1960.7   1989.5   \n",
       "7        1948q4   2035.3  1948         Test   1960.7   1989.5   2021.9   \n",
       "8        1949q1   2007.5  1949         Test   1989.5   2021.9   2033.2   \n",
       "9        1949q2   2000.8  1949         Test   2021.9   2033.2   2035.3   \n",
       "10       1949q3   2022.8  1949         Test   2033.2   2035.3   2007.5   \n",
       "11       1949q4   2004.7  1949         Test   2035.3   2007.5   2000.8   \n",
       "12       1950q1   2084.6  1950         Test   2007.5   2000.8   2022.8   \n",
       "13       1950q2   2147.6  1950         Test   2000.8   2022.8   2004.7   \n",
       "14       1950q3   2230.4  1950         Test   2022.8   2004.7   2084.6   \n",
       "15       1950q4   2273.4  1950         Test   2004.7   2084.6   2147.6   \n",
       "16       1951q1   2304.5  1951         Test   2084.6   2147.6   2230.4   \n",
       "17       1951q2   2344.5  1951         Test   2147.6   2230.4   2273.4   \n",
       "18       1951q3   2392.8  1951         Test   2230.4   2273.4   2304.5   \n",
       "19       1951q4   2398.1  1951         Test   2273.4   2304.5   2344.5   \n",
       "20       1952q1   2423.5  1952         Test   2304.5   2344.5   2392.8   \n",
       "21       1952q2   2428.5  1952         Test   2344.5   2392.8   2398.1   \n",
       "22       1952q3   2446.1  1952         Test   2392.8   2398.1   2423.5   \n",
       "23       1952q4   2526.4  1952         Test   2398.1   2423.5   2428.5   \n",
       "24       1953q1   2573.4  1953         Test   2423.5   2428.5   2446.1   \n",
       "25       1953q2   2593.5  1953         Test   2428.5   2446.1   2526.4   \n",
       "26       1953q3   2578.9  1953         Test   2446.1   2526.4   2573.4   \n",
       "27       1953q4   2539.8  1953         Test   2526.4   2573.4   2593.5   \n",
       "28       1954q1   2528.0  1954         Test   2573.4   2593.5   2578.9   \n",
       "29       1954q2   2530.7  1954         Test   2593.5   2578.9   2539.8   \n",
       "..          ...      ...   ...          ...      ...      ...      ...   \n",
       "248      2009q1  14375.0  2009         Test  14889.5  14963.4  14891.6   \n",
       "249      2009q2  14355.6  2009         Test  14963.4  14891.6  14577.0   \n",
       "250      2009q3  14402.5  2009         Test  14891.6  14577.0  14375.0   \n",
       "251      2009q4  14541.9  2009         Test  14577.0  14375.0  14355.6   \n",
       "252      2010q1  14604.8  2010         Test  14375.0  14355.6  14402.5   \n",
       "253      2010q2  14745.9  2010         Test  14355.6  14402.5  14541.9   \n",
       "254      2010q3  14845.5  2010         Test  14402.5  14541.9  14604.8   \n",
       "255      2010q4  14939.0  2010         Test  14541.9  14604.8  14745.9   \n",
       "256      2011q1  14881.3  2011         Test  14604.8  14745.9  14845.5   \n",
       "257      2011q2  14989.6  2011         Test  14745.9  14845.5  14939.0   \n",
       "258      2011q3  15021.1  2011         Test  14845.5  14939.0  14881.3   \n",
       "259      2011q4  15190.3  2011         Test  14939.0  14881.3  14989.6   \n",
       "260      2012q1  15291.0  2012         Test  14881.3  14989.6  15021.1   \n",
       "261      2012q2  15362.4  2012         Test  14989.6  15021.1  15190.3   \n",
       "262      2012q3  15380.8  2012         Test  15021.1  15190.3  15291.0   \n",
       "263      2012q4  15384.3  2012         Test  15190.3  15291.0  15362.4   \n",
       "264      2013q1  15491.9  2013         Test  15291.0  15362.4  15380.8   \n",
       "265      2013q2  15521.6  2013         Test  15362.4  15380.8  15384.3   \n",
       "266      2013q3  15641.3  2013         Test  15380.8  15384.3  15491.9   \n",
       "267      2013q4  15793.9  2013         Test  15384.3  15491.9  15521.6   \n",
       "268      2014q1  15747.0  2014         Test  15491.9  15521.6  15641.3   \n",
       "269      2014q2  15900.8  2014         Test  15521.6  15641.3  15793.9   \n",
       "270      2014q3  16094.5  2014         Test  15641.3  15793.9  15747.0   \n",
       "271      2014q4  16186.7  2014         Test  15793.9  15747.0  15900.8   \n",
       "272      2015q1  16269.0  2015         Test  15747.0  15900.8  16094.5   \n",
       "273      2015q2  16374.2  2015         Test  15900.8  16094.5  16186.7   \n",
       "274      2015q3  16454.9  2015         Test  16094.5  16186.7  16269.0   \n",
       "275      2015q4  16490.7  2015         Test  16186.7  16269.0  16374.2   \n",
       "276      2016q1  16525.0  2016         Test  16269.0  16374.2  16454.9   \n",
       "277      2016q2  16583.1  2016         Test  16374.2  16454.9  16490.7   \n",
       "\n",
       "         i-1  start  \n",
       "0        NaN  False  \n",
       "1        NaN  False  \n",
       "2        NaN  False  \n",
       "3        NaN  False  \n",
       "4     1960.7  False  \n",
       "5     1989.5  False  \n",
       "6     2021.9  False  \n",
       "7     2033.2  False  \n",
       "8     2035.3  False  \n",
       "9     2007.5  False  \n",
       "10    2000.8  False  \n",
       "11    2022.8   True  \n",
       "12    2004.7  False  \n",
       "13    2084.6  False  \n",
       "14    2147.6  False  \n",
       "15    2230.4  False  \n",
       "16    2273.4  False  \n",
       "17    2304.5  False  \n",
       "18    2344.5  False  \n",
       "19    2392.8  False  \n",
       "20    2398.1  False  \n",
       "21    2423.5  False  \n",
       "22    2428.5  False  \n",
       "23    2446.1  False  \n",
       "24    2526.4  False  \n",
       "25    2573.4  False  \n",
       "26    2593.5  False  \n",
       "27    2578.9  False  \n",
       "28    2539.8  False  \n",
       "29    2528.0  False  \n",
       "..       ...    ...  \n",
       "248  14577.0  False  \n",
       "249  14375.0  False  \n",
       "250  14355.6  False  \n",
       "251  14402.5  False  \n",
       "252  14541.9  False  \n",
       "253  14604.8  False  \n",
       "254  14745.9  False  \n",
       "255  14845.5  False  \n",
       "256  14939.0  False  \n",
       "257  14881.3  False  \n",
       "258  14989.6  False  \n",
       "259  15021.1  False  \n",
       "260  15190.3  False  \n",
       "261  15291.0  False  \n",
       "262  15362.4  False  \n",
       "263  15380.8  False  \n",
       "264  15384.3  False  \n",
       "265  15491.9  False  \n",
       "266  15521.6  False  \n",
       "267  15641.3  False  \n",
       "268  15793.9  False  \n",
       "269  15747.0  False  \n",
       "270  15900.8  False  \n",
       "271  16094.5  False  \n",
       "272  16186.7  False  \n",
       "273  16269.0  False  \n",
       "274  16374.2  False  \n",
       "275  16454.9  False  \n",
       "276  16490.7  False  \n",
       "277  16525.0  False  \n",
       "\n",
       "[278 rows x 9 columns]"
      ]
     },
     "execution_count": 225,
     "metadata": {},
     "output_type": "execute_result"
    }
   ],
   "source": [
    "merged.apply(check_reccession,axis = 1)"
   ]
  },
  {
   "cell_type": "code",
   "execution_count": 228,
   "metadata": {
    "collapsed": false
   },
   "outputs": [
    {
     "data": {
      "text/html": [
       "<div>\n",
       "<table border=\"1\" class=\"dataframe\">\n",
       "  <thead>\n",
       "    <tr style=\"text-align: right;\">\n",
       "      <th></th>\n",
       "      <th>QuarterYear</th>\n",
       "      <th>GDP</th>\n",
       "      <th>Year</th>\n",
       "      <th>LastQuarters</th>\n",
       "      <th>i-4</th>\n",
       "      <th>i-3</th>\n",
       "      <th>i-2</th>\n",
       "      <th>i-1</th>\n",
       "      <th>start</th>\n",
       "    </tr>\n",
       "  </thead>\n",
       "  <tbody>\n",
       "    <tr>\n",
       "      <th>11</th>\n",
       "      <td>1949q4</td>\n",
       "      <td>2004.7</td>\n",
       "      <td>1949</td>\n",
       "      <td>Test</td>\n",
       "      <td>2035.3</td>\n",
       "      <td>2007.5</td>\n",
       "      <td>2000.8</td>\n",
       "      <td>2022.8</td>\n",
       "      <td>True</td>\n",
       "    </tr>\n",
       "    <tr>\n",
       "      <th>142</th>\n",
       "      <td>1982q3</td>\n",
       "      <td>6486.8</td>\n",
       "      <td>1982</td>\n",
       "      <td>Test</td>\n",
       "      <td>6662.9</td>\n",
       "      <td>6585.1</td>\n",
       "      <td>6475.0</td>\n",
       "      <td>6510.2</td>\n",
       "      <td>True</td>\n",
       "    </tr>\n",
       "  </tbody>\n",
       "</table>\n",
       "</div>"
      ],
      "text/plain": [
       "    QuarterYear     GDP  Year LastQuarters     i-4     i-3     i-2     i-1  \\\n",
       "11       1949q4  2004.7  1949         Test  2035.3  2007.5  2000.8  2022.8   \n",
       "142      1982q3  6486.8  1982         Test  6662.9  6585.1  6475.0  6510.2   \n",
       "\n",
       "    start  \n",
       "11   True  \n",
       "142  True  "
      ]
     },
     "execution_count": 228,
     "metadata": {},
     "output_type": "execute_result"
    }
   ],
   "source": [
    "mymerged = merged.apply(check_reccession,axis = 1)\n",
    "mymerged[mymerged[\"start\"]==True]"
   ]
  },
  {
   "cell_type": "code",
   "execution_count": 254,
   "metadata": {
    "collapsed": false
   },
   "outputs": [
    {
     "data": {
      "text/html": [
       "<div>\n",
       "<table border=\"1\" class=\"dataframe\">\n",
       "  <thead>\n",
       "    <tr style=\"text-align: right;\">\n",
       "      <th></th>\n",
       "      <th>QuarterYear</th>\n",
       "      <th>GDP</th>\n",
       "      <th>Year</th>\n",
       "    </tr>\n",
       "  </thead>\n",
       "  <tbody>\n",
       "    <tr>\n",
       "      <th>0</th>\n",
       "      <td>1999q1</td>\n",
       "      <td>11864.7</td>\n",
       "      <td>1999</td>\n",
       "    </tr>\n",
       "    <tr>\n",
       "      <th>1</th>\n",
       "      <td>1999q2</td>\n",
       "      <td>11962.5</td>\n",
       "      <td>1999</td>\n",
       "    </tr>\n",
       "    <tr>\n",
       "      <th>2</th>\n",
       "      <td>1999q3</td>\n",
       "      <td>12113.1</td>\n",
       "      <td>1999</td>\n",
       "    </tr>\n",
       "    <tr>\n",
       "      <th>3</th>\n",
       "      <td>1999q4</td>\n",
       "      <td>12323.3</td>\n",
       "      <td>1999</td>\n",
       "    </tr>\n",
       "    <tr>\n",
       "      <th>4</th>\n",
       "      <td>2000q1</td>\n",
       "      <td>12359.1</td>\n",
       "      <td>2000</td>\n",
       "    </tr>\n",
       "    <tr>\n",
       "      <th>5</th>\n",
       "      <td>2000q2</td>\n",
       "      <td>12592.5</td>\n",
       "      <td>2000</td>\n",
       "    </tr>\n",
       "    <tr>\n",
       "      <th>6</th>\n",
       "      <td>2000q3</td>\n",
       "      <td>12607.7</td>\n",
       "      <td>2000</td>\n",
       "    </tr>\n",
       "    <tr>\n",
       "      <th>7</th>\n",
       "      <td>2000q4</td>\n",
       "      <td>12679.3</td>\n",
       "      <td>2000</td>\n",
       "    </tr>\n",
       "    <tr>\n",
       "      <th>8</th>\n",
       "      <td>2001q1</td>\n",
       "      <td>12643.3</td>\n",
       "      <td>2001</td>\n",
       "    </tr>\n",
       "    <tr>\n",
       "      <th>9</th>\n",
       "      <td>2001q2</td>\n",
       "      <td>12710.3</td>\n",
       "      <td>2001</td>\n",
       "    </tr>\n",
       "  </tbody>\n",
       "</table>\n",
       "</div>"
      ],
      "text/plain": [
       "  QuarterYear      GDP  Year\n",
       "0      1999q1  11864.7  1999\n",
       "1      1999q2  11962.5  1999\n",
       "2      1999q3  12113.1  1999\n",
       "3      1999q4  12323.3  1999\n",
       "4      2000q1  12359.1  2000\n",
       "5      2000q2  12592.5  2000\n",
       "6      2000q3  12607.7  2000\n",
       "7      2000q4  12679.3  2000\n",
       "8      2001q1  12643.3  2001\n",
       "9      2001q2  12710.3  2001"
      ]
     },
     "execution_count": 254,
     "metadata": {},
     "output_type": "execute_result"
    }
   ],
   "source": [
    "# Open the Excel file\n",
    "excel = pd.ExcelFile(\"gdplev.xls\")\n",
    "# Form the first sheet only take the columns E and G with the quarter and chained GDP \n",
    "GDP = excel.parse(excel.sheet_names[0],names=[\"QuarterYear\",\"GDP\"],skiprows=7, parse_cols=\"E,G\")\n",
    "# Split the columns quarter year into year\n",
    "GDP[\"Year\"] = GDP[\"QuarterYear\"].map(lambda cell: cell.split(\"q\")[0])\n",
    "# Convert to numeric (floa, integer or wathever) values from columns Year and Quarter\n",
    "GDP[\"Year\"] = pd.to_numeric(GDP[\"Year\"])\n",
    "GDP[\"GDP\"] = pd.to_numeric(GDP[\"GDP\"])\n",
    "# Filter the values from 2000 (we also need previous year to compute the recession for the first year)\n",
    "GDP = GDP[GDP[\"Year\"] >= 1999]\n",
    "# Reset the index and delete the old one.\n",
    "GDP.reset_index(drop=True,inplace=True)\n",
    "GDP.head(10)"
   ]
  },
  {
   "cell_type": "code",
   "execution_count": 255,
   "metadata": {
    "collapsed": false
   },
   "outputs": [
    {
     "data": {
      "text/html": [
       "<div>\n",
       "<table border=\"1\" class=\"dataframe\">\n",
       "  <thead>\n",
       "    <tr style=\"text-align: right;\">\n",
       "      <th></th>\n",
       "      <th>i-4</th>\n",
       "      <th>i-3</th>\n",
       "      <th>i-2</th>\n",
       "      <th>i-1</th>\n",
       "    </tr>\n",
       "  </thead>\n",
       "  <tbody>\n",
       "    <tr>\n",
       "      <th>0</th>\n",
       "      <td>NaN</td>\n",
       "      <td>NaN</td>\n",
       "      <td>NaN</td>\n",
       "      <td>NaN</td>\n",
       "    </tr>\n",
       "    <tr>\n",
       "      <th>1</th>\n",
       "      <td>NaN</td>\n",
       "      <td>NaN</td>\n",
       "      <td>NaN</td>\n",
       "      <td>NaN</td>\n",
       "    </tr>\n",
       "    <tr>\n",
       "      <th>2</th>\n",
       "      <td>NaN</td>\n",
       "      <td>NaN</td>\n",
       "      <td>NaN</td>\n",
       "      <td>NaN</td>\n",
       "    </tr>\n",
       "    <tr>\n",
       "      <th>3</th>\n",
       "      <td>NaN</td>\n",
       "      <td>NaN</td>\n",
       "      <td>NaN</td>\n",
       "      <td>NaN</td>\n",
       "    </tr>\n",
       "    <tr>\n",
       "      <th>4</th>\n",
       "      <td>NaN</td>\n",
       "      <td>NaN</td>\n",
       "      <td>NaN</td>\n",
       "      <td>NaN</td>\n",
       "    </tr>\n",
       "  </tbody>\n",
       "</table>\n",
       "</div>"
      ],
      "text/plain": [
       "   i-4  i-3  i-2  i-1\n",
       "0  NaN  NaN  NaN  NaN\n",
       "1  NaN  NaN  NaN  NaN\n",
       "2  NaN  NaN  NaN  NaN\n",
       "3  NaN  NaN  NaN  NaN\n",
       "4  NaN  NaN  NaN  NaN"
      ]
     },
     "execution_count": 255,
     "metadata": {},
     "output_type": "execute_result"
    }
   ],
   "source": [
    "# Create new columns with the last 4 quarters in order to cumpute the reccesion\n",
    "columns = [\"i-4\",\"i-3\",\"i-2\",\"i-1\"]\n",
    "values = [[np.NaN,np.NaN,np.NaN,np.NaN]] * (len(GDP[\"GDP\"]) )\n",
    "new_columns = pd.DataFrame(values, columns = columns)\n",
    "new_columns.head()"
   ]
  },
  {
   "cell_type": "code",
   "execution_count": 256,
   "metadata": {
    "collapsed": false
   },
   "outputs": [
    {
     "data": {
      "text/html": [
       "<div>\n",
       "<table border=\"1\" class=\"dataframe\">\n",
       "  <thead>\n",
       "    <tr style=\"text-align: right;\">\n",
       "      <th></th>\n",
       "      <th>QuarterYear</th>\n",
       "      <th>GDP</th>\n",
       "      <th>Year</th>\n",
       "      <th>i-4</th>\n",
       "      <th>i-3</th>\n",
       "      <th>i-2</th>\n",
       "      <th>i-1</th>\n",
       "    </tr>\n",
       "  </thead>\n",
       "  <tbody>\n",
       "    <tr>\n",
       "      <th>0</th>\n",
       "      <td>1999q1</td>\n",
       "      <td>11864.7</td>\n",
       "      <td>1999</td>\n",
       "      <td>NaN</td>\n",
       "      <td>NaN</td>\n",
       "      <td>NaN</td>\n",
       "      <td>NaN</td>\n",
       "    </tr>\n",
       "    <tr>\n",
       "      <th>1</th>\n",
       "      <td>1999q2</td>\n",
       "      <td>11962.5</td>\n",
       "      <td>1999</td>\n",
       "      <td>NaN</td>\n",
       "      <td>NaN</td>\n",
       "      <td>NaN</td>\n",
       "      <td>NaN</td>\n",
       "    </tr>\n",
       "    <tr>\n",
       "      <th>2</th>\n",
       "      <td>1999q3</td>\n",
       "      <td>12113.1</td>\n",
       "      <td>1999</td>\n",
       "      <td>NaN</td>\n",
       "      <td>NaN</td>\n",
       "      <td>NaN</td>\n",
       "      <td>NaN</td>\n",
       "    </tr>\n",
       "    <tr>\n",
       "      <th>3</th>\n",
       "      <td>1999q4</td>\n",
       "      <td>12323.3</td>\n",
       "      <td>1999</td>\n",
       "      <td>NaN</td>\n",
       "      <td>NaN</td>\n",
       "      <td>NaN</td>\n",
       "      <td>NaN</td>\n",
       "    </tr>\n",
       "    <tr>\n",
       "      <th>4</th>\n",
       "      <td>2000q1</td>\n",
       "      <td>12359.1</td>\n",
       "      <td>2000</td>\n",
       "      <td>11864.7</td>\n",
       "      <td>11962.5</td>\n",
       "      <td>12113.1</td>\n",
       "      <td>12323.3</td>\n",
       "    </tr>\n",
       "    <tr>\n",
       "      <th>5</th>\n",
       "      <td>2000q2</td>\n",
       "      <td>12592.5</td>\n",
       "      <td>2000</td>\n",
       "      <td>11962.5</td>\n",
       "      <td>12113.1</td>\n",
       "      <td>12323.3</td>\n",
       "      <td>12359.1</td>\n",
       "    </tr>\n",
       "    <tr>\n",
       "      <th>6</th>\n",
       "      <td>2000q3</td>\n",
       "      <td>12607.7</td>\n",
       "      <td>2000</td>\n",
       "      <td>12113.1</td>\n",
       "      <td>12323.3</td>\n",
       "      <td>12359.1</td>\n",
       "      <td>12592.5</td>\n",
       "    </tr>\n",
       "    <tr>\n",
       "      <th>7</th>\n",
       "      <td>2000q4</td>\n",
       "      <td>12679.3</td>\n",
       "      <td>2000</td>\n",
       "      <td>12323.3</td>\n",
       "      <td>12359.1</td>\n",
       "      <td>12592.5</td>\n",
       "      <td>12607.7</td>\n",
       "    </tr>\n",
       "    <tr>\n",
       "      <th>8</th>\n",
       "      <td>2001q1</td>\n",
       "      <td>12643.3</td>\n",
       "      <td>2001</td>\n",
       "      <td>12359.1</td>\n",
       "      <td>12592.5</td>\n",
       "      <td>12607.7</td>\n",
       "      <td>12679.3</td>\n",
       "    </tr>\n",
       "    <tr>\n",
       "      <th>9</th>\n",
       "      <td>2001q2</td>\n",
       "      <td>12710.3</td>\n",
       "      <td>2001</td>\n",
       "      <td>12592.5</td>\n",
       "      <td>12607.7</td>\n",
       "      <td>12679.3</td>\n",
       "      <td>12643.3</td>\n",
       "    </tr>\n",
       "  </tbody>\n",
       "</table>\n",
       "</div>"
      ],
      "text/plain": [
       "  QuarterYear      GDP  Year      i-4      i-3      i-2      i-1\n",
       "0      1999q1  11864.7  1999      NaN      NaN      NaN      NaN\n",
       "1      1999q2  11962.5  1999      NaN      NaN      NaN      NaN\n",
       "2      1999q3  12113.1  1999      NaN      NaN      NaN      NaN\n",
       "3      1999q4  12323.3  1999      NaN      NaN      NaN      NaN\n",
       "4      2000q1  12359.1  2000  11864.7  11962.5  12113.1  12323.3\n",
       "5      2000q2  12592.5  2000  11962.5  12113.1  12323.3  12359.1\n",
       "6      2000q3  12607.7  2000  12113.1  12323.3  12359.1  12592.5\n",
       "7      2000q4  12679.3  2000  12323.3  12359.1  12592.5  12607.7\n",
       "8      2001q1  12643.3  2001  12359.1  12592.5  12607.7  12679.3\n",
       "9      2001q2  12710.3  2001  12592.5  12607.7  12679.3  12643.3"
      ]
     },
     "execution_count": 256,
     "metadata": {},
     "output_type": "execute_result"
    }
   ],
   "source": [
    "# Add to the columns the data from GDP\n",
    "for i in range(4, len(GDP[\"GDP\"])):\n",
    "    new_columns.ix[i, columns] = GDP[\"GDP\"].iloc[i-4:i].values  \n",
    "#Merge the new columns with the GDO set from 2000\t\n",
    "GDP = pd.concat([GDP,new_columns], axis = 1 )\n",
    "GDP.head(10)"
   ]
  },
  {
   "cell_type": "code",
   "execution_count": 275,
   "metadata": {
    "collapsed": false
   },
   "outputs": [],
   "source": [
    "# Open the Excel file\n",
    "excel = pd.ExcelFile(\"gdplev.xls\")\n",
    "# Form the first sheet only take the columns E and G with the quarter and chained GDP \n",
    "GDP = excel.parse(excel.sheet_names[0],names=[\"QuarterYear\",\"GDP\"],skiprows=7, parse_cols=\"E,G\")\n",
    "# Split the columns quarter year into year\n",
    "GDP[\"Year\"] = GDP[\"QuarterYear\"].map(lambda cell: cell.split(\"q\")[0])\n",
    "# Convert to numeric (floa, integer or wathever) values from columns Year and Quarter\n",
    "GDP[\"Year\"] = pd.to_numeric(GDP[\"Year\"])\n",
    "GDP[\"GDP\"] = pd.to_numeric(GDP[\"GDP\"])\n",
    "# Filter the values from 2000 (we also need previous year to compute the recession for the first year)\n",
    "GDP = GDP[GDP[\"Year\"] >= 1999]\n",
    "# Reset the index and delete the old one.\n",
    "GDP.reset_index(drop=True,inplace=True)\n",
    "# Create new columns with the last 4 quarters in order to cumpute the reccesion\n",
    "columns = [\"i-4\",\"i-3\",\"i-2\",\"i-1\"]\n",
    "values = [[np.NaN,np.NaN,np.NaN,np.NaN]] * (len(GDP[\"GDP\"]) )\n",
    "new_columns = pd.DataFrame(values, columns = columns)\n",
    "# Add to the columns the data from GDP\n",
    "for i in range(4, len(GDP[\"GDP\"])):\n",
    "    new_columns.ix[i, columns] = GDP[\"GDP\"].iloc[i-4:i].values  \n",
    "#Merge the new columns with the GDO set from 2000\t\n",
    "GDP = pd.concat([GDP,new_columns], axis = 1 )\n",
    "\n",
    "## Let's create a new column with recession periods\n",
    "GDP[\"recession\"] = False\n"
   ]
  },
  {
   "cell_type": "code",
   "execution_count": 277,
   "metadata": {
    "collapsed": false
   },
   "outputs": [
    {
     "data": {
      "text/html": [
       "<div>\n",
       "<table border=\"1\" class=\"dataframe\">\n",
       "  <thead>\n",
       "    <tr style=\"text-align: right;\">\n",
       "      <th></th>\n",
       "      <th>QuarterYear</th>\n",
       "      <th>GDP</th>\n",
       "      <th>Year</th>\n",
       "      <th>i-4</th>\n",
       "      <th>i-3</th>\n",
       "      <th>i-2</th>\n",
       "      <th>i-1</th>\n",
       "      <th>recession</th>\n",
       "    </tr>\n",
       "  </thead>\n",
       "  <tbody>\n",
       "    <tr>\n",
       "      <th>41</th>\n",
       "      <td>2009q2</td>\n",
       "      <td>14355.6</td>\n",
       "      <td>2009</td>\n",
       "      <td>14963.4</td>\n",
       "      <td>14891.6</td>\n",
       "      <td>14577.0</td>\n",
       "      <td>14375.0</td>\n",
       "      <td>True</td>\n",
       "    </tr>\n",
       "    <tr>\n",
       "      <th>42</th>\n",
       "      <td>2009q3</td>\n",
       "      <td>14402.5</td>\n",
       "      <td>2009</td>\n",
       "      <td>14891.6</td>\n",
       "      <td>14577.0</td>\n",
       "      <td>14375.0</td>\n",
       "      <td>14355.6</td>\n",
       "      <td>True</td>\n",
       "    </tr>\n",
       "    <tr>\n",
       "      <th>43</th>\n",
       "      <td>2009q4</td>\n",
       "      <td>14541.9</td>\n",
       "      <td>2009</td>\n",
       "      <td>14577.0</td>\n",
       "      <td>14375.0</td>\n",
       "      <td>14355.6</td>\n",
       "      <td>14402.5</td>\n",
       "      <td>True</td>\n",
       "    </tr>\n",
       "  </tbody>\n",
       "</table>\n",
       "</div>"
      ],
      "text/plain": [
       "   QuarterYear      GDP  Year      i-4      i-3      i-2      i-1 recession\n",
       "41      2009q2  14355.6  2009  14963.4  14891.6  14577.0  14375.0      True\n",
       "42      2009q3  14402.5  2009  14891.6  14577.0  14375.0  14355.6      True\n",
       "43      2009q4  14541.9  2009  14577.0  14375.0  14355.6  14402.5      True"
      ]
     },
     "execution_count": 277,
     "metadata": {},
     "output_type": "execute_result"
    }
   ],
   "source": [
    "\n",
    "\n",
    "\n",
    "# Apply recession function to the dataframe by row\n",
    "GDP = GDP.apply(check_reccession,axis = 1)\n",
    "# Check the results\n",
    "#GDP.head(40)\n",
    "GDP[GDP[\"recession\"]==True]"
   ]
  },
  {
   "cell_type": "code",
   "execution_count": 291,
   "metadata": {
    "collapsed": true
   },
   "outputs": [],
   "source": [
    "## Recession definition\n",
    "def check_reccession(row):\n",
    "    # By default the recesion is set to False\n",
    "    result = False\n",
    "    if (row[\"i-3\"] < row[\"i-4\"]) and (row[\"i-2\"] < row[\"i-3\"]):\n",
    "        result = True\n",
    "    # Set the final result \n",
    "    row[\"recession\"] = result\n",
    "    return row\n",
    "\n",
    "def get_GDP():\n",
    "    # Open the Excel file\n",
    "    excel = pd.ExcelFile(\"gdplev.xls\")\n",
    "    # Form the first sheet only take the columns E and G with the quarter and chained GDP \n",
    "    GDP = excel.parse(excel.sheet_names[0],names=[\"QuarterYear\",\"GDP\"],skiprows=7, parse_cols=\"E,G\")\n",
    "    # Split the columns quarter year into year\n",
    "    GDP[\"Year\"] = GDP[\"QuarterYear\"].map(lambda cell: cell.split(\"q\")[0])\n",
    "    # Convert to numeric (floa, integer or wathever) values from columns Year and Quarter\n",
    "    GDP[\"Year\"] = pd.to_numeric(GDP[\"Year\"])\n",
    "    GDP[\"GDP\"] = pd.to_numeric(GDP[\"GDP\"])\n",
    "    # Filter the values from 2000 (we also need previous year to compute the recession for the first year)\n",
    "    GDP = GDP[GDP[\"Year\"] >= 1999]\n",
    "    # Reset the index and delete the old one.\n",
    "    GDP.reset_index(drop=True,inplace=True)\n",
    "    # Create new columns with the last 4 quarters in order to cumpute the reccesion\n",
    "    columns = [\"i-4\",\"i-3\",\"i-2\",\"i-1\"]\n",
    "    values = [[np.NaN,np.NaN,np.NaN,np.NaN]] * (len(GDP[\"GDP\"]) )\n",
    "    new_columns = pd.DataFrame(values, columns = columns)\n",
    "    # Add to the columns the data from GDP\n",
    "    for i in range(4, len(GDP[\"GDP\"])):\n",
    "        new_columns.ix[i, columns] = GDP[\"GDP\"].iloc[i-4:i].values  \n",
    "    #Merge the new columns with the GDO set from 2000\t\n",
    "    GDP = pd.concat([GDP,new_columns], axis = 1 )\n",
    "    #Once both set have been merged, et the index\n",
    "    GDP.set_index(\"QuarterYear\", inplace=True)\n",
    "    ## Let's create a new column with recession periods\n",
    "    GDP[\"recession\"] = False\n",
    "    # Apply recession function to the dataframe by row\n",
    "    return GDP.apply(check_reccession,axis = 1)\n"
   ]
  },
  {
   "cell_type": "code",
   "execution_count": 300,
   "metadata": {
    "collapsed": false
   },
   "outputs": [
    {
     "data": {
      "text/html": [
       "<div>\n",
       "<table border=\"1\" class=\"dataframe\">\n",
       "  <thead>\n",
       "    <tr style=\"text-align: right;\">\n",
       "      <th></th>\n",
       "      <th>GDP</th>\n",
       "      <th>Year</th>\n",
       "      <th>i-4</th>\n",
       "      <th>i-3</th>\n",
       "      <th>i-2</th>\n",
       "      <th>i-1</th>\n",
       "      <th>recession</th>\n",
       "    </tr>\n",
       "    <tr>\n",
       "      <th>QuarterYear</th>\n",
       "      <th></th>\n",
       "      <th></th>\n",
       "      <th></th>\n",
       "      <th></th>\n",
       "      <th></th>\n",
       "      <th></th>\n",
       "      <th></th>\n",
       "    </tr>\n",
       "  </thead>\n",
       "  <tbody>\n",
       "    <tr>\n",
       "      <th>2009q2</th>\n",
       "      <td>14355.6</td>\n",
       "      <td>2009</td>\n",
       "      <td>14963.4</td>\n",
       "      <td>14891.6</td>\n",
       "      <td>14577.0</td>\n",
       "      <td>14375.0</td>\n",
       "      <td>True</td>\n",
       "    </tr>\n",
       "    <tr>\n",
       "      <th>2009q3</th>\n",
       "      <td>14402.5</td>\n",
       "      <td>2009</td>\n",
       "      <td>14891.6</td>\n",
       "      <td>14577.0</td>\n",
       "      <td>14375.0</td>\n",
       "      <td>14355.6</td>\n",
       "      <td>True</td>\n",
       "    </tr>\n",
       "    <tr>\n",
       "      <th>2009q4</th>\n",
       "      <td>14541.9</td>\n",
       "      <td>2009</td>\n",
       "      <td>14577.0</td>\n",
       "      <td>14375.0</td>\n",
       "      <td>14355.6</td>\n",
       "      <td>14402.5</td>\n",
       "      <td>True</td>\n",
       "    </tr>\n",
       "  </tbody>\n",
       "</table>\n",
       "</div>"
      ],
      "text/plain": [
       "                 GDP  Year      i-4      i-3      i-2      i-1 recession\n",
       "QuarterYear                                                             \n",
       "2009q2       14355.6  2009  14963.4  14891.6  14577.0  14375.0      True\n",
       "2009q3       14402.5  2009  14891.6  14577.0  14375.0  14355.6      True\n",
       "2009q4       14541.9  2009  14577.0  14375.0  14355.6  14402.5      True"
      ]
     },
     "execution_count": 300,
     "metadata": {},
     "output_type": "execute_result"
    }
   ],
   "source": [
    "# Check the results\n",
    "GDP = get_GDP()\n",
    "GDP[GDP[\"recession\"]==True]"
   ]
  },
  {
   "cell_type": "code",
   "execution_count": 310,
   "metadata": {
    "collapsed": false
   },
   "outputs": [
    {
     "data": {
      "text/plain": [
       "'2008q3'"
      ]
     },
     "execution_count": 310,
     "metadata": {},
     "output_type": "execute_result"
    }
   ],
   "source": [
    "GDP = get_GDP()\n",
    "recGDP = GDP[GDP[\"recession\"]==True]\n",
    "bottom = GDP.index.get_loc(recGDP[\"GDP\"].argmin())\n",
    "GDP.index[bottom- 3]"
   ]
  },
  {
   "cell_type": "code",
   "execution_count": null,
   "metadata": {
    "collapsed": true
   },
   "outputs": [],
   "source": []
  },
  {
   "cell_type": "code",
   "execution_count": 306,
   "metadata": {
    "collapsed": false
   },
   "outputs": [
    {
     "data": {
      "text/plain": [
       "Index(['2009q2', '2009q3', '2009q4'], dtype='object', name='QuarterYear')"
      ]
     },
     "execution_count": 306,
     "metadata": {},
     "output_type": "execute_result"
    }
   ],
   "source": [
    "recGDP.index"
   ]
  },
  {
   "cell_type": "code",
   "execution_count": 311,
   "metadata": {
    "collapsed": false
   },
   "outputs": [],
   "source": [
    "def get_recession_start():\n",
    "    GDP = get_GDP()\n",
    "    recGDP = GDP[GDP[\"recession\"]==True]\n",
    "    bottom = GDP.index.get_loc(recGDP[\"GDP\"].argmin())\n",
    "    return GDP.index[bottom- 3]"
   ]
  },
  {
   "cell_type": "code",
   "execution_count": 312,
   "metadata": {
    "collapsed": false
   },
   "outputs": [
    {
     "data": {
      "text/plain": [
       "'2008q3'"
      ]
     },
     "execution_count": 312,
     "metadata": {},
     "output_type": "execute_result"
    }
   ],
   "source": [
    "get_recession_start()"
   ]
  },
  {
   "cell_type": "code",
   "execution_count": 298,
   "metadata": {
    "collapsed": false
   },
   "outputs": [],
   "source": [
    "def get_recession_end():\n",
    "    '''Returns the year and quarter of the recession bottom time as a \n",
    "    string value in a format such as 2005q3'''\n",
    "    GDP = get_GDP()\n",
    "    recGDP = GDP[GDP[\"recession\"]==True]\n",
    "    return recGDP[\"GDP\"].argmax()"
   ]
  },
  {
   "cell_type": "code",
   "execution_count": 299,
   "metadata": {
    "collapsed": false
   },
   "outputs": [
    {
     "data": {
      "text/plain": [
       "'2009q4'"
      ]
     },
     "execution_count": 299,
     "metadata": {},
     "output_type": "execute_result"
    }
   ],
   "source": [
    "get_recession_end()"
   ]
  },
  {
   "cell_type": "code",
   "execution_count": 295,
   "metadata": {
    "collapsed": false
   },
   "outputs": [],
   "source": [
    "def get_recession_bottom():\n",
    "    '''Returns the year and quarter of the recession bottom time as a \n",
    "    string value in a format such as 2005q3'''\n",
    "    GDP = get_GDP()\n",
    "    recGDP = GDP[GDP[\"recession\"]==True]\n",
    "    return recGDP[\"GDP\"].argmin()"
   ]
  },
  {
   "cell_type": "code",
   "execution_count": 296,
   "metadata": {
    "collapsed": false
   },
   "outputs": [
    {
     "data": {
      "text/plain": [
       "'2009q2'"
      ]
     },
     "execution_count": 296,
     "metadata": {},
     "output_type": "execute_result"
    }
   ],
   "source": [
    "get_recession_bottom()"
   ]
  },
  {
   "cell_type": "code",
   "execution_count": 313,
   "metadata": {
    "collapsed": false
   },
   "outputs": [],
   "source": [
    "def convert_housing_data_to_quarters():\n",
    "    '''Converts the housing data to quarters and returns it as mean \n",
    "    values in a dataframe. This dataframe should be a dataframe with\n",
    "    columns for 2000q1 through 2016q3, and should have a multi-index\n",
    "    in the shape of [\"State\",\"RegionName\"].\n",
    "    \n",
    "    Note: Quarters are defined in the assignment description, they are\n",
    "    not arbitrary three month periods.\n",
    "    \n",
    "    The resulting dataframe should have 67 columns, and 10,730 rows.\n",
    "    '''\n",
    "    \n",
    "    return \"ANSWER\""
   ]
  },
  {
   "cell_type": "markdown",
   "metadata": {},
   "source": [
    "## Now let's read the next file City_Zhvi_AllHomes.csv"
   ]
  },
  {
   "cell_type": "code",
   "execution_count": 60,
   "metadata": {
    "collapsed": false
   },
   "outputs": [],
   "source": [
    "homes = pd.read_csv(\"City_Zhvi_AllHomes.csv\")"
   ]
  },
  {
   "cell_type": "code",
   "execution_count": 61,
   "metadata": {
    "collapsed": false
   },
   "outputs": [
    {
     "data": {
      "text/html": [
       "<div>\n",
       "<table border=\"1\" class=\"dataframe\">\n",
       "  <thead>\n",
       "    <tr style=\"text-align: right;\">\n",
       "      <th></th>\n",
       "      <th>RegionID</th>\n",
       "      <th>RegionName</th>\n",
       "      <th>State</th>\n",
       "      <th>Metro</th>\n",
       "      <th>CountyName</th>\n",
       "      <th>SizeRank</th>\n",
       "      <th>1996-04</th>\n",
       "      <th>1996-05</th>\n",
       "      <th>1996-06</th>\n",
       "      <th>1996-07</th>\n",
       "      <th>...</th>\n",
       "      <th>2015-11</th>\n",
       "      <th>2015-12</th>\n",
       "      <th>2016-01</th>\n",
       "      <th>2016-02</th>\n",
       "      <th>2016-03</th>\n",
       "      <th>2016-04</th>\n",
       "      <th>2016-05</th>\n",
       "      <th>2016-06</th>\n",
       "      <th>2016-07</th>\n",
       "      <th>2016-08</th>\n",
       "    </tr>\n",
       "  </thead>\n",
       "  <tbody>\n",
       "    <tr>\n",
       "      <th>0</th>\n",
       "      <td>6181</td>\n",
       "      <td>New York</td>\n",
       "      <td>NY</td>\n",
       "      <td>New York</td>\n",
       "      <td>Queens</td>\n",
       "      <td>1</td>\n",
       "      <td>nan</td>\n",
       "      <td>nan</td>\n",
       "      <td>nan</td>\n",
       "      <td>nan</td>\n",
       "      <td>...</td>\n",
       "      <td>573600</td>\n",
       "      <td>576200</td>\n",
       "      <td>578400</td>\n",
       "      <td>582200</td>\n",
       "      <td>588000</td>\n",
       "      <td>592200</td>\n",
       "      <td>592500</td>\n",
       "      <td>590200</td>\n",
       "      <td>588000</td>\n",
       "      <td>586400</td>\n",
       "    </tr>\n",
       "    <tr>\n",
       "      <th>1</th>\n",
       "      <td>12447</td>\n",
       "      <td>Los Angeles</td>\n",
       "      <td>CA</td>\n",
       "      <td>Los Angeles-Long Beach-Anaheim</td>\n",
       "      <td>Los Angeles</td>\n",
       "      <td>2</td>\n",
       "      <td>155000.00</td>\n",
       "      <td>154600.00</td>\n",
       "      <td>154400.00</td>\n",
       "      <td>154200.00</td>\n",
       "      <td>...</td>\n",
       "      <td>558200</td>\n",
       "      <td>560800</td>\n",
       "      <td>562800</td>\n",
       "      <td>565600</td>\n",
       "      <td>569700</td>\n",
       "      <td>574000</td>\n",
       "      <td>577800</td>\n",
       "      <td>580600</td>\n",
       "      <td>583000</td>\n",
       "      <td>585100</td>\n",
       "    </tr>\n",
       "    <tr>\n",
       "      <th>2</th>\n",
       "      <td>17426</td>\n",
       "      <td>Chicago</td>\n",
       "      <td>IL</td>\n",
       "      <td>Chicago</td>\n",
       "      <td>Cook</td>\n",
       "      <td>3</td>\n",
       "      <td>109700.00</td>\n",
       "      <td>109400.00</td>\n",
       "      <td>109300.00</td>\n",
       "      <td>109300.00</td>\n",
       "      <td>...</td>\n",
       "      <td>207800</td>\n",
       "      <td>206900</td>\n",
       "      <td>206200</td>\n",
       "      <td>205800</td>\n",
       "      <td>206200</td>\n",
       "      <td>207300</td>\n",
       "      <td>208200</td>\n",
       "      <td>209100</td>\n",
       "      <td>211000</td>\n",
       "      <td>213000</td>\n",
       "    </tr>\n",
       "    <tr>\n",
       "      <th>3</th>\n",
       "      <td>13271</td>\n",
       "      <td>Philadelphia</td>\n",
       "      <td>PA</td>\n",
       "      <td>Philadelphia</td>\n",
       "      <td>Philadelphia</td>\n",
       "      <td>4</td>\n",
       "      <td>50000.00</td>\n",
       "      <td>49900.00</td>\n",
       "      <td>49600.00</td>\n",
       "      <td>49400.00</td>\n",
       "      <td>...</td>\n",
       "      <td>122300</td>\n",
       "      <td>121600</td>\n",
       "      <td>121800</td>\n",
       "      <td>123300</td>\n",
       "      <td>125200</td>\n",
       "      <td>126400</td>\n",
       "      <td>127000</td>\n",
       "      <td>127400</td>\n",
       "      <td>128300</td>\n",
       "      <td>129100</td>\n",
       "    </tr>\n",
       "    <tr>\n",
       "      <th>4</th>\n",
       "      <td>40326</td>\n",
       "      <td>Phoenix</td>\n",
       "      <td>AZ</td>\n",
       "      <td>Phoenix</td>\n",
       "      <td>Maricopa</td>\n",
       "      <td>5</td>\n",
       "      <td>87200.00</td>\n",
       "      <td>87700.00</td>\n",
       "      <td>88200.00</td>\n",
       "      <td>88400.00</td>\n",
       "      <td>...</td>\n",
       "      <td>183800</td>\n",
       "      <td>185300</td>\n",
       "      <td>186600</td>\n",
       "      <td>188000</td>\n",
       "      <td>189100</td>\n",
       "      <td>190200</td>\n",
       "      <td>191300</td>\n",
       "      <td>192800</td>\n",
       "      <td>194500</td>\n",
       "      <td>195900</td>\n",
       "    </tr>\n",
       "  </tbody>\n",
       "</table>\n",
       "<p>5 rows × 251 columns</p>\n",
       "</div>"
      ],
      "text/plain": [
       "   RegionID    RegionName State                           Metro    CountyName  \\\n",
       "0      6181      New York    NY                        New York        Queens   \n",
       "1     12447   Los Angeles    CA  Los Angeles-Long Beach-Anaheim   Los Angeles   \n",
       "2     17426       Chicago    IL                         Chicago          Cook   \n",
       "3     13271  Philadelphia    PA                    Philadelphia  Philadelphia   \n",
       "4     40326       Phoenix    AZ                         Phoenix      Maricopa   \n",
       "\n",
       "   SizeRank   1996-04   1996-05   1996-06   1996-07   ...     2015-11  \\\n",
       "0         1       nan       nan       nan       nan   ...      573600   \n",
       "1         2 155000.00 154600.00 154400.00 154200.00   ...      558200   \n",
       "2         3 109700.00 109400.00 109300.00 109300.00   ...      207800   \n",
       "3         4  50000.00  49900.00  49600.00  49400.00   ...      122300   \n",
       "4         5  87200.00  87700.00  88200.00  88400.00   ...      183800   \n",
       "\n",
       "   2015-12  2016-01  2016-02  2016-03  2016-04  2016-05  2016-06  2016-07  \\\n",
       "0   576200   578400   582200   588000   592200   592500   590200   588000   \n",
       "1   560800   562800   565600   569700   574000   577800   580600   583000   \n",
       "2   206900   206200   205800   206200   207300   208200   209100   211000   \n",
       "3   121600   121800   123300   125200   126400   127000   127400   128300   \n",
       "4   185300   186600   188000   189100   190200   191300   192800   194500   \n",
       "\n",
       "   2016-08  \n",
       "0   586400  \n",
       "1   585100  \n",
       "2   213000  \n",
       "3   129100  \n",
       "4   195900  \n",
       "\n",
       "[5 rows x 251 columns]"
      ]
     },
     "execution_count": 61,
     "metadata": {},
     "output_type": "execute_result"
    }
   ],
   "source": [
    "homes.head()"
   ]
  },
  {
   "cell_type": "code",
   "execution_count": 346,
   "metadata": {
    "collapsed": false
   },
   "outputs": [],
   "source": [
    "# Let's loop from 2000 to 2016\n",
    "for year in range(2000,2017):\n",
    "    # Let's loop over the four quarters per year\n",
    "    for quarter in range(0,4):\n",
    "        #Let's loop over the 12/4 = 3 mothns per quarter\n",
    "        for  month in range(0,3):\n",
    "            #print(\"{}-{}->{}\".format(year,(month+1)*(quarter+1),quarter))\n",
    "            #Check if data\n",
    "            pass     "
   ]
  },
  {
   "cell_type": "code",
   "execution_count": 33,
   "metadata": {
    "collapsed": false
   },
   "outputs": [
    {
     "name": "stdout",
     "output_type": "stream",
     "text": [
      "['2000-01', '2000-02', '2000-03']\n",
      "['2000-04', '2000-05', '2000-06']\n",
      "['2000-07', '2000-08', '2000-09']\n",
      "['2000-10', '2000-11', '2000-12']\n",
      "['2001-01', '2001-02', '2001-03']\n",
      "['2001-04', '2001-05', '2001-06']\n",
      "['2001-07', '2001-08', '2001-09']\n",
      "['2001-10', '2001-11', '2001-12']\n",
      "['2002-01', '2002-02', '2002-03']\n",
      "['2002-04', '2002-05', '2002-06']\n",
      "['2002-07', '2002-08', '2002-09']\n",
      "['2002-10', '2002-11', '2002-12']\n",
      "['2003-01', '2003-02', '2003-03']\n",
      "['2003-04', '2003-05', '2003-06']\n",
      "['2003-07', '2003-08', '2003-09']\n",
      "['2003-10', '2003-11', '2003-12']\n",
      "['2004-01', '2004-02', '2004-03']\n",
      "['2004-04', '2004-05', '2004-06']\n",
      "['2004-07', '2004-08', '2004-09']\n",
      "['2004-10', '2004-11', '2004-12']\n",
      "['2005-01', '2005-02', '2005-03']\n",
      "['2005-04', '2005-05', '2005-06']\n",
      "['2005-07', '2005-08', '2005-09']\n",
      "['2005-10', '2005-11', '2005-12']\n",
      "['2006-01', '2006-02', '2006-03']\n",
      "['2006-04', '2006-05', '2006-06']\n",
      "['2006-07', '2006-08', '2006-09']\n",
      "['2006-10', '2006-11', '2006-12']\n",
      "['2007-01', '2007-02', '2007-03']\n",
      "['2007-04', '2007-05', '2007-06']\n",
      "['2007-07', '2007-08', '2007-09']\n",
      "['2007-10', '2007-11', '2007-12']\n",
      "['2008-01', '2008-02', '2008-03']\n",
      "['2008-04', '2008-05', '2008-06']\n",
      "['2008-07', '2008-08', '2008-09']\n",
      "['2008-10', '2008-11', '2008-12']\n",
      "['2009-01', '2009-02', '2009-03']\n",
      "['2009-04', '2009-05', '2009-06']\n",
      "['2009-07', '2009-08', '2009-09']\n",
      "['2009-10', '2009-11', '2009-12']\n",
      "['2010-01', '2010-02', '2010-03']\n",
      "['2010-04', '2010-05', '2010-06']\n",
      "['2010-07', '2010-08', '2010-09']\n",
      "['2010-10', '2010-11', '2010-12']\n",
      "['2011-01', '2011-02', '2011-03']\n",
      "['2011-04', '2011-05', '2011-06']\n",
      "['2011-07', '2011-08', '2011-09']\n",
      "['2011-10', '2011-11', '2011-12']\n",
      "['2012-01', '2012-02', '2012-03']\n",
      "['2012-04', '2012-05', '2012-06']\n",
      "['2012-07', '2012-08', '2012-09']\n",
      "['2012-10', '2012-11', '2012-12']\n",
      "['2013-01', '2013-02', '2013-03']\n",
      "['2013-04', '2013-05', '2013-06']\n",
      "['2013-07', '2013-08', '2013-09']\n",
      "['2013-10', '2013-11', '2013-12']\n",
      "['2014-01', '2014-02', '2014-03']\n",
      "['2014-04', '2014-05', '2014-06']\n",
      "['2014-07', '2014-08', '2014-09']\n",
      "['2014-10', '2014-11', '2014-12']\n",
      "['2015-01', '2015-02', '2015-03']\n",
      "['2015-04', '2015-05', '2015-06']\n",
      "['2015-07', '2015-08', '2015-09']\n",
      "['2015-10', '2015-11', '2015-12']\n",
      "['2016-01', '2016-02', '2016-03']\n",
      "['2016-04', '2016-05', '2016-06']\n",
      "['2016-07', '2016-08', '2016-09']\n",
      "['2016-10', '2016-11', '2016-12']\n"
     ]
    }
   ],
   "source": [
    "# Let's loop from 2000 to 2016\n",
    "for year in range(2000,2017):\n",
    "    # Let's loop over the four quarters per year\n",
    "    for quarter in range(0,4):\n",
    "        # 12/4 = 3 mothns per quarter\n",
    "        #print( + \":\" + str(year)+\"-\"+str((quarter+1)*3).zfill(2))\n",
    "        # str(year)+\"-\"+str((quarter*3)+1).zfill(2):str(year)+\"-\"+str((quarter+1)*3).zfill(2)\n",
    "        months = [str(year)+\"-\"+str((quarter * 3) + month).zfill(2) for month in range(1,4)]\n",
    "        print(months)        "
   ]
  },
  {
   "cell_type": "code",
   "execution_count": 341,
   "metadata": {
    "collapsed": false
   },
   "outputs": [
    {
     "data": {
      "text/plain": [
       "(10730, 251)"
      ]
     },
     "execution_count": 341,
     "metadata": {},
     "output_type": "execute_result"
    }
   ],
   "source": [
    "homes.shape"
   ]
  },
  {
   "cell_type": "code",
   "execution_count": 342,
   "metadata": {
    "collapsed": false
   },
   "outputs": [
    {
     "data": {
      "text/plain": [
       "3"
      ]
     },
     "execution_count": 342,
     "metadata": {},
     "output_type": "execute_result"
    }
   ],
   "source": [
    "i = 1\n",
    "i += 2\n",
    "i"
   ]
  },
  {
   "cell_type": "code",
   "execution_count": 34,
   "metadata": {
    "collapsed": true
   },
   "outputs": [],
   "source": [
    "# From previous function I will create a new dataframe.\n",
    "#Previous  function will be iterate per row and it will return the data frame but with the new columns with the quarters"
   ]
  },
  {
   "cell_type": "code",
   "execution_count": 21,
   "metadata": {
    "collapsed": false
   },
   "outputs": [
    {
     "data": {
      "text/plain": [
       "1926-01    NaN\n",
       "1996-02    NaN\n",
       "1996-08    NaN\n",
       "Name: 0, dtype: object"
      ]
     },
     "execution_count": 21,
     "metadata": {},
     "output_type": "execute_result"
    }
   ],
   "source": [
    "homes.iloc[0,:].get([\"1926-01\",\"1996-02\",\"1996-08\"])"
   ]
  },
  {
   "cell_type": "code",
   "execution_count": 37,
   "metadata": {
    "collapsed": true
   },
   "outputs": [],
   "source": [
    "months = ['2009-04', '2009-05', '2009-06']\n",
    "months1 = ['2016-07', '2016-08', '2016-09']\n",
    "months2 = ['2016-10', '2016-11', '2016-12']"
   ]
  },
  {
   "cell_type": "code",
   "execution_count": 31,
   "metadata": {
    "collapsed": false
   },
   "outputs": [
    {
     "data": {
      "text/plain": [
       "array(['RegionID', 'RegionName', 'State', 'Metro', 'CountyName',\n",
       "       'SizeRank', '1996-04', '1996-05', '1996-06', '1996-07', '1996-08',\n",
       "       '1996-09', '1996-10', '1996-11', '1996-12', '1997-01', '1997-02',\n",
       "       '1997-03', '1997-04', '1997-05', '1997-06', '1997-07', '1997-08',\n",
       "       '1997-09', '1997-10', '1997-11', '1997-12', '1998-01', '1998-02',\n",
       "       '1998-03', '1998-04', '1998-05', '1998-06', '1998-07', '1998-08',\n",
       "       '1998-09', '1998-10', '1998-11', '1998-12', '1999-01', '1999-02',\n",
       "       '1999-03', '1999-04', '1999-05', '1999-06', '1999-07', '1999-08',\n",
       "       '1999-09', '1999-10', '1999-11', '1999-12', '2000-01', '2000-02',\n",
       "       '2000-03', '2000-04', '2000-05', '2000-06', '2000-07', '2000-08',\n",
       "       '2000-09', '2000-10', '2000-11', '2000-12', '2001-01', '2001-02',\n",
       "       '2001-03', '2001-04', '2001-05', '2001-06', '2001-07', '2001-08',\n",
       "       '2001-09', '2001-10', '2001-11', '2001-12', '2002-01', '2002-02',\n",
       "       '2002-03', '2002-04', '2002-05', '2002-06', '2002-07', '2002-08',\n",
       "       '2002-09', '2002-10', '2002-11', '2002-12', '2003-01', '2003-02',\n",
       "       '2003-03', '2003-04', '2003-05', '2003-06', '2003-07', '2003-08',\n",
       "       '2003-09', '2003-10', '2003-11', '2003-12', '2004-01', '2004-02',\n",
       "       '2004-03', '2004-04', '2004-05', '2004-06', '2004-07', '2004-08',\n",
       "       '2004-09', '2004-10', '2004-11', '2004-12', '2005-01', '2005-02',\n",
       "       '2005-03', '2005-04', '2005-05', '2005-06', '2005-07', '2005-08',\n",
       "       '2005-09', '2005-10', '2005-11', '2005-12', '2006-01', '2006-02',\n",
       "       '2006-03', '2006-04', '2006-05', '2006-06', '2006-07', '2006-08',\n",
       "       '2006-09', '2006-10', '2006-11', '2006-12', '2007-01', '2007-02',\n",
       "       '2007-03', '2007-04', '2007-05', '2007-06', '2007-07', '2007-08',\n",
       "       '2007-09', '2007-10', '2007-11', '2007-12', '2008-01', '2008-02',\n",
       "       '2008-03', '2008-04', '2008-05', '2008-06', '2008-07', '2008-08',\n",
       "       '2008-09', '2008-10', '2008-11', '2008-12', '2009-01', '2009-02',\n",
       "       '2009-03', '2009-04', '2009-05', '2009-06', '2009-07', '2009-08',\n",
       "       '2009-09', '2009-10', '2009-11', '2009-12', '2010-01', '2010-02',\n",
       "       '2010-03', '2010-04', '2010-05', '2010-06', '2010-07', '2010-08',\n",
       "       '2010-09', '2010-10', '2010-11', '2010-12', '2011-01', '2011-02',\n",
       "       '2011-03', '2011-04', '2011-05', '2011-06', '2011-07', '2011-08',\n",
       "       '2011-09', '2011-10', '2011-11', '2011-12', '2012-01', '2012-02',\n",
       "       '2012-03', '2012-04', '2012-05', '2012-06', '2012-07', '2012-08',\n",
       "       '2012-09', '2012-10', '2012-11', '2012-12', '2013-01', '2013-02',\n",
       "       '2013-03', '2013-04', '2013-05', '2013-06', '2013-07', '2013-08',\n",
       "       '2013-09', '2013-10', '2013-11', '2013-12', '2014-01', '2014-02',\n",
       "       '2014-03', '2014-04', '2014-05', '2014-06', '2014-07', '2014-08',\n",
       "       '2014-09', '2014-10', '2014-11', '2014-12', '2015-01', '2015-02',\n",
       "       '2015-03', '2015-04', '2015-05', '2015-06', '2015-07', '2015-08',\n",
       "       '2015-09', '2015-10', '2015-11', '2015-12', '2016-01', '2016-02',\n",
       "       '2016-03', '2016-04', '2016-05', '2016-06', '2016-07', '2016-08'], dtype=object)"
      ]
     },
     "execution_count": 31,
     "metadata": {},
     "output_type": "execute_result"
    }
   ],
   "source": [
    "homes.columns.values"
   ]
  },
  {
   "cell_type": "code",
   "execution_count": 42,
   "metadata": {
    "collapsed": false
   },
   "outputs": [
    {
     "name": "stdout",
     "output_type": "stream",
     "text": [
      "OK\n",
      "OK\n",
      "NOK\n"
     ]
    }
   ],
   "source": [
    "if (any((True for x in homes.columns.values if x in months))):\n",
    "        print(\"OK\")\n",
    "else:\n",
    "    print(\"NOK\")\n",
    "\n",
    "if (any((True for x in homes.columns.values if x in months1))):\n",
    "        print(\"OK\")\n",
    "else:\n",
    "    print(\"NOK\")\n",
    "    \n",
    "if (any((True for x in homes.columns.values if x in months2))):\n",
    "        print(\"OK\")\n",
    "else:\n",
    "    print(\"NOK\")"
   ]
  },
  {
   "cell_type": "code",
   "execution_count": 44,
   "metadata": {
    "collapsed": false
   },
   "outputs": [
    {
     "data": {
      "text/plain": [
       "Index(['RegionID', 'RegionName', 'State', 'Metro', 'CountyName', 'SizeRank',\n",
       "       '1996-04', '1996-05', '1996-06', '1996-07',\n",
       "       ...\n",
       "       '2015-11', '2015-12', '2016-01', '2016-02', '2016-03', '2016-04',\n",
       "       '2016-05', '2016-06', '2016-07', '2016-08'],\n",
       "      dtype='object', length=251)"
      ]
     },
     "execution_count": 44,
     "metadata": {},
     "output_type": "execute_result"
    }
   ],
   "source": [
    "homes.iloc[0,:].index"
   ]
  },
  {
   "cell_type": "code",
   "execution_count": 62,
   "metadata": {
    "collapsed": false
   },
   "outputs": [],
   "source": [
    "#Pandas don't dispaly (sometimes) float values)\n",
    "pd.options.display.float_format = '{:.2f}'.format\n",
    "def get_quarters(row):\n",
    "    new_row = row.loc[[\"RegionName\",\"State\"]]\n",
    "    # Let's loop from 2000 to 2016\n",
    "    for year in range(2000,2017):\n",
    "        # Let's loop over the four quarters per year\n",
    "        for quarter in range(0,4):\n",
    "            #Let's loop over the 12/4 = 3 mothns per quarter\n",
    "            months = [str(year)+\"-\"+str((quarter * 3) + month).zfill(2) for month in range(1,4)]\n",
    "            # Check if this quarter need to be added\n",
    "            if (any((True for x in row.index.values if x in months))):\n",
    "                new_row[str(year) + \"q\" + str(quarter+1)] = row.get(months).mean(skipna=True)\n",
    "                #print(type(new_row[str(year) + \"q\" + str(quarter+1)]))\n",
    "                #print( row.get(months).mean(skipna=True))\n",
    "    return new_row  "
   ]
  },
  {
   "cell_type": "code",
   "execution_count": 34,
   "metadata": {
    "collapsed": false,
    "scrolled": true
   },
   "outputs": [
    {
     "data": {
      "text/plain": [
       "RegionID          6181\n",
       "RegionName    New York\n",
       "State               NY\n",
       "Metro         New York\n",
       "CountyName      Queens\n",
       "SizeRank             1\n",
       "2000q1             NaN\n",
       "2000q2             NaN\n",
       "2000q3             NaN\n",
       "2000q4             NaN\n",
       "2001q1             NaN\n",
       "2001q2             NaN\n",
       "2001q3             NaN\n",
       "2001q4             NaN\n",
       "2002q1             NaN\n",
       "2002q2             NaN\n",
       "2002q3             NaN\n",
       "2002q4             NaN\n",
       "2003q1             NaN\n",
       "2003q2             NaN\n",
       "2003q3             NaN\n",
       "2003q4             NaN\n",
       "2004q1             NaN\n",
       "2004q2             NaN\n",
       "2004q3       435650.00\n",
       "2004q4       432133.33\n",
       "2005q1       422666.67\n",
       "2005q2       431800.00\n",
       "2005q3       438766.67\n",
       "2005q4       464500.00\n",
       "                ...   \n",
       "2009q3       455933.33\n",
       "2009q4       458366.67\n",
       "2010q1       469700.00\n",
       "2010q2       476933.33\n",
       "2010q3       478566.67\n",
       "2010q4       477266.67\n",
       "2011q1       476700.00\n",
       "2011q2       472133.33\n",
       "2011q3       469200.00\n",
       "2011q4       463700.00\n",
       "2012q1       460200.00\n",
       "2012q2       462700.00\n",
       "2012q3       467233.33\n",
       "2012q4       469166.67\n",
       "2013q1       469033.33\n",
       "2013q2       472233.33\n",
       "2013q3       481366.67\n",
       "2013q4       492433.33\n",
       "2014q1       503133.33\n",
       "2014q2       515466.67\n",
       "2014q3       522800.00\n",
       "2014q4       528066.67\n",
       "2015q1       532266.67\n",
       "2015q2       540800.00\n",
       "2015q3       557200.00\n",
       "2015q4       572833.33\n",
       "2016q1       582866.67\n",
       "2016q2       591633.33\n",
       "2016q3       587200.00\n",
       "2016q4             NaN\n",
       "Name: 0, dtype: object"
      ]
     },
     "execution_count": 34,
     "metadata": {},
     "output_type": "execute_result"
    }
   ],
   "source": [
    "get_quarters(homes.iloc[0,:])"
   ]
  },
  {
   "cell_type": "code",
   "execution_count": 63,
   "metadata": {
    "collapsed": false
   },
   "outputs": [],
   "source": [
    " # Apply recession function to the dataframe by row\n",
    "homes = homes.head(5).apply(get_quarters,axis = 1)"
   ]
  },
  {
   "cell_type": "code",
   "execution_count": 65,
   "metadata": {
    "collapsed": false
   },
   "outputs": [
    {
     "data": {
      "text/html": [
       "<div>\n",
       "<table border=\"1\" class=\"dataframe\">\n",
       "  <thead>\n",
       "    <tr style=\"text-align: right;\">\n",
       "      <th></th>\n",
       "      <th>RegionName</th>\n",
       "      <th>State</th>\n",
       "      <th>2000q1</th>\n",
       "      <th>2000q2</th>\n",
       "      <th>2000q3</th>\n",
       "      <th>2000q4</th>\n",
       "      <th>2001q1</th>\n",
       "      <th>2001q2</th>\n",
       "      <th>2001q3</th>\n",
       "      <th>2001q4</th>\n",
       "      <th>...</th>\n",
       "      <th>2014q2</th>\n",
       "      <th>2014q3</th>\n",
       "      <th>2014q4</th>\n",
       "      <th>2015q1</th>\n",
       "      <th>2015q2</th>\n",
       "      <th>2015q3</th>\n",
       "      <th>2015q4</th>\n",
       "      <th>2016q1</th>\n",
       "      <th>2016q2</th>\n",
       "      <th>2016q3</th>\n",
       "    </tr>\n",
       "  </thead>\n",
       "  <tbody>\n",
       "    <tr>\n",
       "      <th>0</th>\n",
       "      <td>New York</td>\n",
       "      <td>NY</td>\n",
       "      <td>nan</td>\n",
       "      <td>nan</td>\n",
       "      <td>nan</td>\n",
       "      <td>nan</td>\n",
       "      <td>nan</td>\n",
       "      <td>nan</td>\n",
       "      <td>nan</td>\n",
       "      <td>nan</td>\n",
       "      <td>...</td>\n",
       "      <td>515466.67</td>\n",
       "      <td>522800.00</td>\n",
       "      <td>528066.67</td>\n",
       "      <td>532266.67</td>\n",
       "      <td>540800.00</td>\n",
       "      <td>557200.00</td>\n",
       "      <td>572833.33</td>\n",
       "      <td>582866.67</td>\n",
       "      <td>591633.33</td>\n",
       "      <td>587200.00</td>\n",
       "    </tr>\n",
       "    <tr>\n",
       "      <th>1</th>\n",
       "      <td>Los Angeles</td>\n",
       "      <td>CA</td>\n",
       "      <td>207066.67</td>\n",
       "      <td>214466.67</td>\n",
       "      <td>220966.67</td>\n",
       "      <td>226166.67</td>\n",
       "      <td>233000.00</td>\n",
       "      <td>239100.00</td>\n",
       "      <td>245066.67</td>\n",
       "      <td>253033.33</td>\n",
       "      <td>...</td>\n",
       "      <td>498033.33</td>\n",
       "      <td>509066.67</td>\n",
       "      <td>518866.67</td>\n",
       "      <td>528800.00</td>\n",
       "      <td>538166.67</td>\n",
       "      <td>547266.67</td>\n",
       "      <td>557733.33</td>\n",
       "      <td>566033.33</td>\n",
       "      <td>577466.67</td>\n",
       "      <td>584050.00</td>\n",
       "    </tr>\n",
       "    <tr>\n",
       "      <th>2</th>\n",
       "      <td>Chicago</td>\n",
       "      <td>IL</td>\n",
       "      <td>138400.00</td>\n",
       "      <td>143633.33</td>\n",
       "      <td>147866.67</td>\n",
       "      <td>152133.33</td>\n",
       "      <td>156933.33</td>\n",
       "      <td>161800.00</td>\n",
       "      <td>166400.00</td>\n",
       "      <td>170433.33</td>\n",
       "      <td>...</td>\n",
       "      <td>192633.33</td>\n",
       "      <td>195766.67</td>\n",
       "      <td>201266.67</td>\n",
       "      <td>201066.67</td>\n",
       "      <td>206033.33</td>\n",
       "      <td>208300.00</td>\n",
       "      <td>207900.00</td>\n",
       "      <td>206066.67</td>\n",
       "      <td>208200.00</td>\n",
       "      <td>212000.00</td>\n",
       "    </tr>\n",
       "    <tr>\n",
       "      <th>3</th>\n",
       "      <td>Philadelphia</td>\n",
       "      <td>PA</td>\n",
       "      <td>53000.00</td>\n",
       "      <td>53633.33</td>\n",
       "      <td>54133.33</td>\n",
       "      <td>54700.00</td>\n",
       "      <td>55333.33</td>\n",
       "      <td>55533.33</td>\n",
       "      <td>56266.67</td>\n",
       "      <td>57533.33</td>\n",
       "      <td>...</td>\n",
       "      <td>113733.33</td>\n",
       "      <td>115300.00</td>\n",
       "      <td>115666.67</td>\n",
       "      <td>116200.00</td>\n",
       "      <td>117966.67</td>\n",
       "      <td>121233.33</td>\n",
       "      <td>122200.00</td>\n",
       "      <td>123433.33</td>\n",
       "      <td>126933.33</td>\n",
       "      <td>128700.00</td>\n",
       "    </tr>\n",
       "    <tr>\n",
       "      <th>4</th>\n",
       "      <td>Phoenix</td>\n",
       "      <td>AZ</td>\n",
       "      <td>111833.33</td>\n",
       "      <td>114366.67</td>\n",
       "      <td>116000.00</td>\n",
       "      <td>117400.00</td>\n",
       "      <td>119600.00</td>\n",
       "      <td>121566.67</td>\n",
       "      <td>122700.00</td>\n",
       "      <td>124300.00</td>\n",
       "      <td>...</td>\n",
       "      <td>164266.67</td>\n",
       "      <td>165366.67</td>\n",
       "      <td>168500.00</td>\n",
       "      <td>171533.33</td>\n",
       "      <td>174166.67</td>\n",
       "      <td>179066.67</td>\n",
       "      <td>183833.33</td>\n",
       "      <td>187900.00</td>\n",
       "      <td>191433.33</td>\n",
       "      <td>195200.00</td>\n",
       "    </tr>\n",
       "  </tbody>\n",
       "</table>\n",
       "<p>5 rows × 69 columns</p>\n",
       "</div>"
      ],
      "text/plain": [
       "     RegionName State    2000q1    2000q2    2000q3    2000q4    2001q1  \\\n",
       "0      New York    NY       nan       nan       nan       nan       nan   \n",
       "1   Los Angeles    CA 207066.67 214466.67 220966.67 226166.67 233000.00   \n",
       "2       Chicago    IL 138400.00 143633.33 147866.67 152133.33 156933.33   \n",
       "3  Philadelphia    PA  53000.00  53633.33  54133.33  54700.00  55333.33   \n",
       "4       Phoenix    AZ 111833.33 114366.67 116000.00 117400.00 119600.00   \n",
       "\n",
       "     2001q2    2001q3    2001q4    ...       2014q2    2014q3    2014q4  \\\n",
       "0       nan       nan       nan    ...    515466.67 522800.00 528066.67   \n",
       "1 239100.00 245066.67 253033.33    ...    498033.33 509066.67 518866.67   \n",
       "2 161800.00 166400.00 170433.33    ...    192633.33 195766.67 201266.67   \n",
       "3  55533.33  56266.67  57533.33    ...    113733.33 115300.00 115666.67   \n",
       "4 121566.67 122700.00 124300.00    ...    164266.67 165366.67 168500.00   \n",
       "\n",
       "     2015q1    2015q2    2015q3    2015q4    2016q1    2016q2    2016q3  \n",
       "0 532266.67 540800.00 557200.00 572833.33 582866.67 591633.33 587200.00  \n",
       "1 528800.00 538166.67 547266.67 557733.33 566033.33 577466.67 584050.00  \n",
       "2 201066.67 206033.33 208300.00 207900.00 206066.67 208200.00 212000.00  \n",
       "3 116200.00 117966.67 121233.33 122200.00 123433.33 126933.33 128700.00  \n",
       "4 171533.33 174166.67 179066.67 183833.33 187900.00 191433.33 195200.00  \n",
       "\n",
       "[5 rows x 69 columns]"
      ]
     },
     "execution_count": 65,
     "metadata": {},
     "output_type": "execute_result"
    }
   ],
   "source": [
    "homes.head()"
   ]
  },
  {
   "cell_type": "code",
   "execution_count": 67,
   "metadata": {
    "collapsed": false,
    "scrolled": true
   },
   "outputs": [
    {
     "data": {
      "text/html": [
       "<div>\n",
       "<table border=\"1\" class=\"dataframe\">\n",
       "  <thead>\n",
       "    <tr style=\"text-align: right;\">\n",
       "      <th></th>\n",
       "      <th></th>\n",
       "      <th>2000q1</th>\n",
       "      <th>2000q2</th>\n",
       "      <th>2000q3</th>\n",
       "      <th>2000q4</th>\n",
       "      <th>2001q1</th>\n",
       "      <th>2001q2</th>\n",
       "      <th>2001q3</th>\n",
       "      <th>2001q4</th>\n",
       "      <th>2002q1</th>\n",
       "      <th>2002q2</th>\n",
       "      <th>...</th>\n",
       "      <th>2014q2</th>\n",
       "      <th>2014q3</th>\n",
       "      <th>2014q4</th>\n",
       "      <th>2015q1</th>\n",
       "      <th>2015q2</th>\n",
       "      <th>2015q3</th>\n",
       "      <th>2015q4</th>\n",
       "      <th>2016q1</th>\n",
       "      <th>2016q2</th>\n",
       "      <th>2016q3</th>\n",
       "    </tr>\n",
       "    <tr>\n",
       "      <th>State</th>\n",
       "      <th>RegionName</th>\n",
       "      <th></th>\n",
       "      <th></th>\n",
       "      <th></th>\n",
       "      <th></th>\n",
       "      <th></th>\n",
       "      <th></th>\n",
       "      <th></th>\n",
       "      <th></th>\n",
       "      <th></th>\n",
       "      <th></th>\n",
       "      <th></th>\n",
       "      <th></th>\n",
       "      <th></th>\n",
       "      <th></th>\n",
       "      <th></th>\n",
       "      <th></th>\n",
       "      <th></th>\n",
       "      <th></th>\n",
       "      <th></th>\n",
       "      <th></th>\n",
       "      <th></th>\n",
       "    </tr>\n",
       "  </thead>\n",
       "  <tbody>\n",
       "    <tr>\n",
       "      <th>NY</th>\n",
       "      <th>New York</th>\n",
       "      <td>nan</td>\n",
       "      <td>nan</td>\n",
       "      <td>nan</td>\n",
       "      <td>nan</td>\n",
       "      <td>nan</td>\n",
       "      <td>nan</td>\n",
       "      <td>nan</td>\n",
       "      <td>nan</td>\n",
       "      <td>nan</td>\n",
       "      <td>nan</td>\n",
       "      <td>...</td>\n",
       "      <td>515466.67</td>\n",
       "      <td>522800.00</td>\n",
       "      <td>528066.67</td>\n",
       "      <td>532266.67</td>\n",
       "      <td>540800.00</td>\n",
       "      <td>557200.00</td>\n",
       "      <td>572833.33</td>\n",
       "      <td>582866.67</td>\n",
       "      <td>591633.33</td>\n",
       "      <td>587200.00</td>\n",
       "    </tr>\n",
       "    <tr>\n",
       "      <th>CA</th>\n",
       "      <th>Los Angeles</th>\n",
       "      <td>207066.67</td>\n",
       "      <td>214466.67</td>\n",
       "      <td>220966.67</td>\n",
       "      <td>226166.67</td>\n",
       "      <td>233000.00</td>\n",
       "      <td>239100.00</td>\n",
       "      <td>245066.67</td>\n",
       "      <td>253033.33</td>\n",
       "      <td>261966.67</td>\n",
       "      <td>272700.00</td>\n",
       "      <td>...</td>\n",
       "      <td>498033.33</td>\n",
       "      <td>509066.67</td>\n",
       "      <td>518866.67</td>\n",
       "      <td>528800.00</td>\n",
       "      <td>538166.67</td>\n",
       "      <td>547266.67</td>\n",
       "      <td>557733.33</td>\n",
       "      <td>566033.33</td>\n",
       "      <td>577466.67</td>\n",
       "      <td>584050.00</td>\n",
       "    </tr>\n",
       "    <tr>\n",
       "      <th>IL</th>\n",
       "      <th>Chicago</th>\n",
       "      <td>138400.00</td>\n",
       "      <td>143633.33</td>\n",
       "      <td>147866.67</td>\n",
       "      <td>152133.33</td>\n",
       "      <td>156933.33</td>\n",
       "      <td>161800.00</td>\n",
       "      <td>166400.00</td>\n",
       "      <td>170433.33</td>\n",
       "      <td>175500.00</td>\n",
       "      <td>177566.67</td>\n",
       "      <td>...</td>\n",
       "      <td>192633.33</td>\n",
       "      <td>195766.67</td>\n",
       "      <td>201266.67</td>\n",
       "      <td>201066.67</td>\n",
       "      <td>206033.33</td>\n",
       "      <td>208300.00</td>\n",
       "      <td>207900.00</td>\n",
       "      <td>206066.67</td>\n",
       "      <td>208200.00</td>\n",
       "      <td>212000.00</td>\n",
       "    </tr>\n",
       "    <tr>\n",
       "      <th>PA</th>\n",
       "      <th>Philadelphia</th>\n",
       "      <td>53000.00</td>\n",
       "      <td>53633.33</td>\n",
       "      <td>54133.33</td>\n",
       "      <td>54700.00</td>\n",
       "      <td>55333.33</td>\n",
       "      <td>55533.33</td>\n",
       "      <td>56266.67</td>\n",
       "      <td>57533.33</td>\n",
       "      <td>59133.33</td>\n",
       "      <td>60733.33</td>\n",
       "      <td>...</td>\n",
       "      <td>113733.33</td>\n",
       "      <td>115300.00</td>\n",
       "      <td>115666.67</td>\n",
       "      <td>116200.00</td>\n",
       "      <td>117966.67</td>\n",
       "      <td>121233.33</td>\n",
       "      <td>122200.00</td>\n",
       "      <td>123433.33</td>\n",
       "      <td>126933.33</td>\n",
       "      <td>128700.00</td>\n",
       "    </tr>\n",
       "    <tr>\n",
       "      <th>AZ</th>\n",
       "      <th>Phoenix</th>\n",
       "      <td>111833.33</td>\n",
       "      <td>114366.67</td>\n",
       "      <td>116000.00</td>\n",
       "      <td>117400.00</td>\n",
       "      <td>119600.00</td>\n",
       "      <td>121566.67</td>\n",
       "      <td>122700.00</td>\n",
       "      <td>124300.00</td>\n",
       "      <td>126533.33</td>\n",
       "      <td>128366.67</td>\n",
       "      <td>...</td>\n",
       "      <td>164266.67</td>\n",
       "      <td>165366.67</td>\n",
       "      <td>168500.00</td>\n",
       "      <td>171533.33</td>\n",
       "      <td>174166.67</td>\n",
       "      <td>179066.67</td>\n",
       "      <td>183833.33</td>\n",
       "      <td>187900.00</td>\n",
       "      <td>191433.33</td>\n",
       "      <td>195200.00</td>\n",
       "    </tr>\n",
       "  </tbody>\n",
       "</table>\n",
       "<p>5 rows × 67 columns</p>\n",
       "</div>"
      ],
      "text/plain": [
       "                      2000q1    2000q2    2000q3    2000q4    2001q1  \\\n",
       "State RegionName                                                       \n",
       "NY    New York           nan       nan       nan       nan       nan   \n",
       "CA    Los Angeles  207066.67 214466.67 220966.67 226166.67 233000.00   \n",
       "IL    Chicago      138400.00 143633.33 147866.67 152133.33 156933.33   \n",
       "PA    Philadelphia  53000.00  53633.33  54133.33  54700.00  55333.33   \n",
       "AZ    Phoenix      111833.33 114366.67 116000.00 117400.00 119600.00   \n",
       "\n",
       "                      2001q2    2001q3    2001q4    2002q1    2002q2  \\\n",
       "State RegionName                                                       \n",
       "NY    New York           nan       nan       nan       nan       nan   \n",
       "CA    Los Angeles  239100.00 245066.67 253033.33 261966.67 272700.00   \n",
       "IL    Chicago      161800.00 166400.00 170433.33 175500.00 177566.67   \n",
       "PA    Philadelphia  55533.33  56266.67  57533.33  59133.33  60733.33   \n",
       "AZ    Phoenix      121566.67 122700.00 124300.00 126533.33 128366.67   \n",
       "\n",
       "                      ...       2014q2    2014q3    2014q4    2015q1  \\\n",
       "State RegionName      ...                                              \n",
       "NY    New York        ...    515466.67 522800.00 528066.67 532266.67   \n",
       "CA    Los Angeles     ...    498033.33 509066.67 518866.67 528800.00   \n",
       "IL    Chicago         ...    192633.33 195766.67 201266.67 201066.67   \n",
       "PA    Philadelphia    ...    113733.33 115300.00 115666.67 116200.00   \n",
       "AZ    Phoenix         ...    164266.67 165366.67 168500.00 171533.33   \n",
       "\n",
       "                      2015q2    2015q3    2015q4    2016q1    2016q2    2016q3  \n",
       "State RegionName                                                                \n",
       "NY    New York     540800.00 557200.00 572833.33 582866.67 591633.33 587200.00  \n",
       "CA    Los Angeles  538166.67 547266.67 557733.33 566033.33 577466.67 584050.00  \n",
       "IL    Chicago      206033.33 208300.00 207900.00 206066.67 208200.00 212000.00  \n",
       "PA    Philadelphia 117966.67 121233.33 122200.00 123433.33 126933.33 128700.00  \n",
       "AZ    Phoenix      174166.67 179066.67 183833.33 187900.00 191433.33 195200.00  \n",
       "\n",
       "[5 rows x 67 columns]"
      ]
     },
     "execution_count": 67,
     "metadata": {},
     "output_type": "execute_result"
    }
   ],
   "source": [
    "homes.set_index([\"State\",\"RegionName\"])"
   ]
  },
  {
   "cell_type": "code",
   "execution_count": 13,
   "metadata": {
    "collapsed": true
   },
   "outputs": [],
   "source": [
    "def get_quarters(row):\n",
    "    new_row = row.loc[[\"RegionName\",\"State\"]]\n",
    "    # Let's loop from 2000 to 2016\n",
    "    for year in range(2000,2017):\n",
    "        # Let's loop over the four quarters per year\n",
    "        for quarter in range(0,4):\n",
    "            #Let's loop over the 12/4 = 3 mothns per quarter\n",
    "            months = [str(year)+\"-\"+str((quarter * 3) + month).zfill(2) for month in range(1,4)]\n",
    "            # Check if this quarter need to be added\n",
    "            if (any((True for x in row.index.values if x in months))):\n",
    "                new_row[str(year) + \"q\" + str(quarter+1)] = row.get(months).mean(skipna=True)\n",
    "    return new_row \n",
    "\n",
    "def convert_housing_data_to_quarters():\n",
    "    homes = pd.read_csv(\"City_Zhvi_AllHomes.csv\")\n",
    "    # Apply the ransfomration to moths to quarters\n",
    "    homes = homes.apply(get_quarters,axis = 1)\n",
    "    #SEt the new idnex\n",
    "    return homes.set_index([\"State\",\"RegionName\"])"
   ]
  },
  {
   "cell_type": "markdown",
   "metadata": {},
   "source": [
    "Testing for get only the columns and the mean to generate the quarters"
   ]
  },
  {
   "cell_type": "code",
   "execution_count": 44,
   "metadata": {
    "collapsed": false
   },
   "outputs": [
    {
     "data": {
      "text/html": [
       "<div>\n",
       "<table border=\"1\" class=\"dataframe\">\n",
       "  <thead>\n",
       "    <tr style=\"text-align: right;\">\n",
       "      <th></th>\n",
       "      <th>RegionName</th>\n",
       "      <th>State</th>\n",
       "      <th>2000q1</th>\n",
       "    </tr>\n",
       "  </thead>\n",
       "  <tbody>\n",
       "    <tr>\n",
       "      <th>0</th>\n",
       "      <td>New York</td>\n",
       "      <td>NY</td>\n",
       "      <td>NaN</td>\n",
       "    </tr>\n",
       "    <tr>\n",
       "      <th>1</th>\n",
       "      <td>Los Angeles</td>\n",
       "      <td>CA</td>\n",
       "      <td>220966.666667</td>\n",
       "    </tr>\n",
       "    <tr>\n",
       "      <th>2</th>\n",
       "      <td>Chicago</td>\n",
       "      <td>IL</td>\n",
       "      <td>147866.666667</td>\n",
       "    </tr>\n",
       "    <tr>\n",
       "      <th>3</th>\n",
       "      <td>Philadelphia</td>\n",
       "      <td>PA</td>\n",
       "      <td>54133.333333</td>\n",
       "    </tr>\n",
       "    <tr>\n",
       "      <th>4</th>\n",
       "      <td>Phoenix</td>\n",
       "      <td>AZ</td>\n",
       "      <td>116000.000000</td>\n",
       "    </tr>\n",
       "  </tbody>\n",
       "</table>\n",
       "</div>"
      ],
      "text/plain": [
       "     RegionName State         2000q1\n",
       "0      New York    NY            NaN\n",
       "1   Los Angeles    CA  220966.666667\n",
       "2       Chicago    IL  147866.666667\n",
       "3  Philadelphia    PA   54133.333333\n",
       "4       Phoenix    AZ  116000.000000"
      ]
     },
     "execution_count": 44,
     "metadata": {},
     "output_type": "execute_result"
    }
   ],
   "source": [
    "homes = pd.read_csv(\"City_Zhvi_AllHomes.csv\")\n",
    "hquarters = homes.loc[:,[\"RegionName\",\"State\"]]   \n",
    "columns = ['2000-07', '2000-08', '2000-09']\n",
    "quarter = \"2000q1\"\n",
    "hquarters[quarter] = homes.get(columns).mean(skipna=True, axis = 1)\n",
    "hquarters.head()"
   ]
  },
  {
   "cell_type": "code",
   "execution_count": 53,
   "metadata": {
    "collapsed": false
   },
   "outputs": [
    {
     "data": {
      "text/html": [
       "<div>\n",
       "<table border=\"1\" class=\"dataframe\">\n",
       "  <thead>\n",
       "    <tr style=\"text-align: right;\">\n",
       "      <th></th>\n",
       "      <th>RegionName</th>\n",
       "      <th>State</th>\n",
       "      <th>2000q1</th>\n",
       "    </tr>\n",
       "  </thead>\n",
       "  <tbody>\n",
       "    <tr>\n",
       "      <th>0</th>\n",
       "      <td>New York</td>\n",
       "      <td>NY</td>\n",
       "      <td>None</td>\n",
       "    </tr>\n",
       "    <tr>\n",
       "      <th>1</th>\n",
       "      <td>Los Angeles</td>\n",
       "      <td>CA</td>\n",
       "      <td>None</td>\n",
       "    </tr>\n",
       "    <tr>\n",
       "      <th>2</th>\n",
       "      <td>Chicago</td>\n",
       "      <td>IL</td>\n",
       "      <td>None</td>\n",
       "    </tr>\n",
       "    <tr>\n",
       "      <th>3</th>\n",
       "      <td>Philadelphia</td>\n",
       "      <td>PA</td>\n",
       "      <td>None</td>\n",
       "    </tr>\n",
       "    <tr>\n",
       "      <th>4</th>\n",
       "      <td>Phoenix</td>\n",
       "      <td>AZ</td>\n",
       "      <td>None</td>\n",
       "    </tr>\n",
       "  </tbody>\n",
       "</table>\n",
       "</div>"
      ],
      "text/plain": [
       "     RegionName State 2000q1\n",
       "0      New York    NY   None\n",
       "1   Los Angeles    CA   None\n",
       "2       Chicago    IL   None\n",
       "3  Philadelphia    PA   None\n",
       "4       Phoenix    AZ   None"
      ]
     },
     "execution_count": 53,
     "metadata": {},
     "output_type": "execute_result"
    }
   ],
   "source": [
    "# This doesn't seems to work fine, like get in Series where even if a columns doesnt exist tihs will be ignored\n",
    "columns1 = ['2016-01', '2016-02', '2016-03']\n",
    "columns2 = ['2016-07', '2016-08', '2016-09']\n",
    "columns3 = ['2016-10', '2016-11', '2016-12']\n",
    "quarter = \"2000q1\"\n",
    "hquarters[quarter] = homes.get(columns2)\n",
    "hquarters.head()"
   ]
  },
  {
   "cell_type": "code",
   "execution_count": 64,
   "metadata": {
    "collapsed": false
   },
   "outputs": [],
   "source": [
    "def convert_housing_data_to_quarters():\n",
    "    homes = pd.read_csv(\"City_Zhvi_AllHomes.csv\")\n",
    "    # Apply the ransfomration to moths to quarters\n",
    "    hquarters = homes.loc[:,[\"RegionName\",\"State\"]]\n",
    "    # Let's loop from 2000 to 2016\n",
    "    for year in range(2000,2017):\n",
    "        # Let's loop over the four quarters per year\n",
    "        for quarter in range(0,4):\n",
    "            #Let's loop over the 12/4 = 3 mothns per quarter\n",
    "            columns = [str(year)+\"-\"+str((quarter * 3) + month).zfill(2) for month in range(1,4)]\n",
    "            # Check if this quarter need to be added\n",
    "            if (any((True for x in homes.columns.values if x in columns))):\n",
    "                #Since get doesn't seems to work fine it the columns doesn't exist, check if a column need\n",
    "                #to be added\n",
    "                for column in columns:\n",
    "                    if not column in homes.columns.values:\n",
    "                        #Add the column with NaN values\n",
    "                        homes[column] = np.nan\n",
    "                hquarters[str(year) + \"q\" + str(quarter+1)] = homes.get(columns).mean(skipna=True, axis=1)\n",
    "    # Map the states\n",
    "    states = {'OH': 'Ohio', 'KY': 'Kentucky', 'AS': 'American Samoa', 'NV': 'Nevada', 'WY': 'Wyoming', \n",
    "              'NA': 'National', 'AL': 'Alabama', 'MD': 'Maryland', 'AK': 'Alaska', 'UT': 'Utah', \n",
    "              'OR': 'Oregon', 'MT': 'Montana', 'IL': 'Illinois', 'TN': 'Tennessee', 'DC': 'District of Columbia', \n",
    "              'VT': 'Vermont', 'ID': 'Idaho', 'AR': 'Arkansas', 'ME': 'Maine', 'WA': 'Washington', \n",
    "              'HI': 'Hawaii', 'WI': 'Wisconsin', 'MI': 'Michigan', 'IN': 'Indiana', 'NJ': 'New Jersey', \n",
    "              'AZ': 'Arizona', 'GU': 'Guam', 'MS': 'Mississippi', 'PR': 'Puerto Rico', 'NC': 'North Carolina', \n",
    "              'TX': 'Texas', 'SD': 'South Dakota', 'MP': 'Northern Mariana Islands', 'IA': 'Iowa',\n",
    "              'MO': 'Missouri', 'CT': 'Connecticut', 'WV': 'West Virginia', 'SC': 'South Carolina',\n",
    "              'LA': 'Louisiana', 'KS': 'Kansas', 'NY': 'New York', 'NE': 'Nebraska', 'OK': 'Oklahoma',\n",
    "              'FL': 'Florida', 'CA': 'California', 'CO': 'Colorado', 'PA': 'Pennsylvania', 'DE': 'Delaware',\n",
    "              'NM': 'New Mexico', 'RI': 'Rhode Island', 'MN': 'Minnesota', 'VI': 'Virgin Islands', \n",
    "              'NH': 'New Hampshire', 'MA': 'Massachusetts', 'GA': 'Georgia', 'ND': 'North Dakota', 'VA': 'Virginia'}\n",
    "    hquarters[\"State\"] = hquarters[\"State\"].map(states)\n",
    "    #Set the new idnex\n",
    "    return hquarters.set_index([\"State\",\"RegionName\"])"
   ]
  },
  {
   "cell_type": "code",
   "execution_count": 66,
   "metadata": {
    "collapsed": false
   },
   "outputs": [
    {
     "data": {
      "text/html": [
       "<div>\n",
       "<table border=\"1\" class=\"dataframe\">\n",
       "  <thead>\n",
       "    <tr style=\"text-align: right;\">\n",
       "      <th></th>\n",
       "      <th></th>\n",
       "      <th>2000q1</th>\n",
       "      <th>2000q2</th>\n",
       "      <th>2000q3</th>\n",
       "      <th>2000q4</th>\n",
       "      <th>2001q1</th>\n",
       "      <th>2001q2</th>\n",
       "      <th>2001q3</th>\n",
       "      <th>2001q4</th>\n",
       "      <th>2002q1</th>\n",
       "      <th>2002q2</th>\n",
       "      <th>...</th>\n",
       "      <th>2014q2</th>\n",
       "      <th>2014q3</th>\n",
       "      <th>2014q4</th>\n",
       "      <th>2015q1</th>\n",
       "      <th>2015q2</th>\n",
       "      <th>2015q3</th>\n",
       "      <th>2015q4</th>\n",
       "      <th>2016q1</th>\n",
       "      <th>2016q2</th>\n",
       "      <th>2016q3</th>\n",
       "    </tr>\n",
       "    <tr>\n",
       "      <th>State</th>\n",
       "      <th>RegionName</th>\n",
       "      <th></th>\n",
       "      <th></th>\n",
       "      <th></th>\n",
       "      <th></th>\n",
       "      <th></th>\n",
       "      <th></th>\n",
       "      <th></th>\n",
       "      <th></th>\n",
       "      <th></th>\n",
       "      <th></th>\n",
       "      <th></th>\n",
       "      <th></th>\n",
       "      <th></th>\n",
       "      <th></th>\n",
       "      <th></th>\n",
       "      <th></th>\n",
       "      <th></th>\n",
       "      <th></th>\n",
       "      <th></th>\n",
       "      <th></th>\n",
       "      <th></th>\n",
       "    </tr>\n",
       "  </thead>\n",
       "  <tbody>\n",
       "    <tr>\n",
       "      <th>New York</th>\n",
       "      <th>New York</th>\n",
       "      <td>NaN</td>\n",
       "      <td>NaN</td>\n",
       "      <td>NaN</td>\n",
       "      <td>NaN</td>\n",
       "      <td>NaN</td>\n",
       "      <td>NaN</td>\n",
       "      <td>NaN</td>\n",
       "      <td>NaN</td>\n",
       "      <td>NaN</td>\n",
       "      <td>NaN</td>\n",
       "      <td>...</td>\n",
       "      <td>515466.666667</td>\n",
       "      <td>522800.000000</td>\n",
       "      <td>528066.666667</td>\n",
       "      <td>532266.666667</td>\n",
       "      <td>540800.000000</td>\n",
       "      <td>557200.000000</td>\n",
       "      <td>572833.333333</td>\n",
       "      <td>582866.666667</td>\n",
       "      <td>591633.333333</td>\n",
       "      <td>587200.0</td>\n",
       "    </tr>\n",
       "    <tr>\n",
       "      <th>California</th>\n",
       "      <th>Los Angeles</th>\n",
       "      <td>207066.666667</td>\n",
       "      <td>214466.666667</td>\n",
       "      <td>220966.666667</td>\n",
       "      <td>226166.666667</td>\n",
       "      <td>233000.000000</td>\n",
       "      <td>239100.000000</td>\n",
       "      <td>245066.666667</td>\n",
       "      <td>253033.333333</td>\n",
       "      <td>261966.666667</td>\n",
       "      <td>272700.000000</td>\n",
       "      <td>...</td>\n",
       "      <td>498033.333333</td>\n",
       "      <td>509066.666667</td>\n",
       "      <td>518866.666667</td>\n",
       "      <td>528800.000000</td>\n",
       "      <td>538166.666667</td>\n",
       "      <td>547266.666667</td>\n",
       "      <td>557733.333333</td>\n",
       "      <td>566033.333333</td>\n",
       "      <td>577466.666667</td>\n",
       "      <td>584050.0</td>\n",
       "    </tr>\n",
       "    <tr>\n",
       "      <th>Illinois</th>\n",
       "      <th>Chicago</th>\n",
       "      <td>138400.000000</td>\n",
       "      <td>143633.333333</td>\n",
       "      <td>147866.666667</td>\n",
       "      <td>152133.333333</td>\n",
       "      <td>156933.333333</td>\n",
       "      <td>161800.000000</td>\n",
       "      <td>166400.000000</td>\n",
       "      <td>170433.333333</td>\n",
       "      <td>175500.000000</td>\n",
       "      <td>177566.666667</td>\n",
       "      <td>...</td>\n",
       "      <td>192633.333333</td>\n",
       "      <td>195766.666667</td>\n",
       "      <td>201266.666667</td>\n",
       "      <td>201066.666667</td>\n",
       "      <td>206033.333333</td>\n",
       "      <td>208300.000000</td>\n",
       "      <td>207900.000000</td>\n",
       "      <td>206066.666667</td>\n",
       "      <td>208200.000000</td>\n",
       "      <td>212000.0</td>\n",
       "    </tr>\n",
       "    <tr>\n",
       "      <th>Pennsylvania</th>\n",
       "      <th>Philadelphia</th>\n",
       "      <td>53000.000000</td>\n",
       "      <td>53633.333333</td>\n",
       "      <td>54133.333333</td>\n",
       "      <td>54700.000000</td>\n",
       "      <td>55333.333333</td>\n",
       "      <td>55533.333333</td>\n",
       "      <td>56266.666667</td>\n",
       "      <td>57533.333333</td>\n",
       "      <td>59133.333333</td>\n",
       "      <td>60733.333333</td>\n",
       "      <td>...</td>\n",
       "      <td>113733.333333</td>\n",
       "      <td>115300.000000</td>\n",
       "      <td>115666.666667</td>\n",
       "      <td>116200.000000</td>\n",
       "      <td>117966.666667</td>\n",
       "      <td>121233.333333</td>\n",
       "      <td>122200.000000</td>\n",
       "      <td>123433.333333</td>\n",
       "      <td>126933.333333</td>\n",
       "      <td>128700.0</td>\n",
       "    </tr>\n",
       "    <tr>\n",
       "      <th>Arizona</th>\n",
       "      <th>Phoenix</th>\n",
       "      <td>111833.333333</td>\n",
       "      <td>114366.666667</td>\n",
       "      <td>116000.000000</td>\n",
       "      <td>117400.000000</td>\n",
       "      <td>119600.000000</td>\n",
       "      <td>121566.666667</td>\n",
       "      <td>122700.000000</td>\n",
       "      <td>124300.000000</td>\n",
       "      <td>126533.333333</td>\n",
       "      <td>128366.666667</td>\n",
       "      <td>...</td>\n",
       "      <td>164266.666667</td>\n",
       "      <td>165366.666667</td>\n",
       "      <td>168500.000000</td>\n",
       "      <td>171533.333333</td>\n",
       "      <td>174166.666667</td>\n",
       "      <td>179066.666667</td>\n",
       "      <td>183833.333333</td>\n",
       "      <td>187900.000000</td>\n",
       "      <td>191433.333333</td>\n",
       "      <td>195200.0</td>\n",
       "    </tr>\n",
       "  </tbody>\n",
       "</table>\n",
       "<p>5 rows × 67 columns</p>\n",
       "</div>"
      ],
      "text/plain": [
       "                                  2000q1         2000q2         2000q3  \\\n",
       "State        RegionName                                                  \n",
       "New York     New York                NaN            NaN            NaN   \n",
       "California   Los Angeles   207066.666667  214466.666667  220966.666667   \n",
       "Illinois     Chicago       138400.000000  143633.333333  147866.666667   \n",
       "Pennsylvania Philadelphia   53000.000000   53633.333333   54133.333333   \n",
       "Arizona      Phoenix       111833.333333  114366.666667  116000.000000   \n",
       "\n",
       "                                  2000q4         2001q1         2001q2  \\\n",
       "State        RegionName                                                  \n",
       "New York     New York                NaN            NaN            NaN   \n",
       "California   Los Angeles   226166.666667  233000.000000  239100.000000   \n",
       "Illinois     Chicago       152133.333333  156933.333333  161800.000000   \n",
       "Pennsylvania Philadelphia   54700.000000   55333.333333   55533.333333   \n",
       "Arizona      Phoenix       117400.000000  119600.000000  121566.666667   \n",
       "\n",
       "                                  2001q3         2001q4         2002q1  \\\n",
       "State        RegionName                                                  \n",
       "New York     New York                NaN            NaN            NaN   \n",
       "California   Los Angeles   245066.666667  253033.333333  261966.666667   \n",
       "Illinois     Chicago       166400.000000  170433.333333  175500.000000   \n",
       "Pennsylvania Philadelphia   56266.666667   57533.333333   59133.333333   \n",
       "Arizona      Phoenix       122700.000000  124300.000000  126533.333333   \n",
       "\n",
       "                                  2002q2    ...            2014q2  \\\n",
       "State        RegionName                     ...                     \n",
       "New York     New York                NaN    ...     515466.666667   \n",
       "California   Los Angeles   272700.000000    ...     498033.333333   \n",
       "Illinois     Chicago       177566.666667    ...     192633.333333   \n",
       "Pennsylvania Philadelphia   60733.333333    ...     113733.333333   \n",
       "Arizona      Phoenix       128366.666667    ...     164266.666667   \n",
       "\n",
       "                                  2014q3         2014q4         2015q1  \\\n",
       "State        RegionName                                                  \n",
       "New York     New York      522800.000000  528066.666667  532266.666667   \n",
       "California   Los Angeles   509066.666667  518866.666667  528800.000000   \n",
       "Illinois     Chicago       195766.666667  201266.666667  201066.666667   \n",
       "Pennsylvania Philadelphia  115300.000000  115666.666667  116200.000000   \n",
       "Arizona      Phoenix       165366.666667  168500.000000  171533.333333   \n",
       "\n",
       "                                  2015q2         2015q3         2015q4  \\\n",
       "State        RegionName                                                  \n",
       "New York     New York      540800.000000  557200.000000  572833.333333   \n",
       "California   Los Angeles   538166.666667  547266.666667  557733.333333   \n",
       "Illinois     Chicago       206033.333333  208300.000000  207900.000000   \n",
       "Pennsylvania Philadelphia  117966.666667  121233.333333  122200.000000   \n",
       "Arizona      Phoenix       174166.666667  179066.666667  183833.333333   \n",
       "\n",
       "                                  2016q1         2016q2    2016q3  \n",
       "State        RegionName                                            \n",
       "New York     New York      582866.666667  591633.333333  587200.0  \n",
       "California   Los Angeles   566033.333333  577466.666667  584050.0  \n",
       "Illinois     Chicago       206066.666667  208200.000000  212000.0  \n",
       "Pennsylvania Philadelphia  123433.333333  126933.333333  128700.0  \n",
       "Arizona      Phoenix       187900.000000  191433.333333  195200.0  \n",
       "\n",
       "[5 rows x 67 columns]"
      ]
     },
     "execution_count": 66,
     "metadata": {},
     "output_type": "execute_result"
    }
   ],
   "source": [
    "convert_housing_data_to_quarters().head()"
   ]
  },
  {
   "cell_type": "code",
   "execution_count": 67,
   "metadata": {
    "collapsed": false
   },
   "outputs": [
    {
     "data": {
      "text/plain": [
       "202266.66666666666"
      ]
     },
     "execution_count": 67,
     "metadata": {},
     "output_type": "execute_result"
    }
   ],
   "source": [
    "convert_housing_data_to_quarters().loc[\"Texas\"].loc[\"Austin\"].loc[\"2010q3\"]"
   ]
  },
  {
   "cell_type": "code",
   "execution_count": 68,
   "metadata": {
    "collapsed": false
   },
   "outputs": [],
   "source": [
    "def run_ttest():\n",
    "    '''First creates new data showing the decline or growth of housing prices\n",
    "    between the recession start and the recession bottom. Then runs a ttest\n",
    "    comparing the university town values to the non-university towns values, \n",
    "    return whether the alternative hypothesis (that the two groups are the same)\n",
    "    is true or not as well as the p-value of the confidence. \n",
    "    \n",
    "    Return the tuple (different, p, better) where different=True if the t-test is\n",
    "    True at a p<0.01 (we reject the null hypothesis), or different=False if \n",
    "    otherwise (we cannot reject the null hypothesis). The variable p should\n",
    "    be equal to the exact p value returned from scipy.stats.ttest_ind(). The\n",
    "    value for better should be either \"university town\" or \"non-university town\"\n",
    "    depending on which has a lower mean price ratio (which is equivilent to a\n",
    "    reduced market loss).'''\n",
    "    \n",
    "    return \"ANSWER\""
   ]
  },
  {
   "cell_type": "markdown",
   "metadata": {},
   "source": [
    "# Finally the last big answer"
   ]
  },
  {
   "cell_type": "markdown",
   "metadata": {},
   "source": []
  },
  {
   "cell_type": "markdown",
   "metadata": {
    "collapsed": true
   },
   "source": [
    "## Statistical Hypothesis\n",
    "\n",
    "https://en.wikipedia.org/wiki/Statistical_hypothesis_testing\n",
    "\n",
    "A **Statistical Hypothesis** is a hypothesis that is testable on the basis of observing a process that is modeled via a set of random variables.\n",
    "\n",
    "A **statistical hypothesis test** is a method of statistical inference. Commonly, two statistical data sets are compared, or a data set obtained by sampling is compared against a synthetic data set from an idealized model. A hypothesis is proposed for the statistical relationship between the two data sets, and this is compared as an alternative to an idealized null hypothesis that proposes no relationship between two data sets.\n",
    "\n",
    "The comparison is deemed statistically significant if the relationship between the data sets would be an unlikely realization of the null hypothesis according to a threshold probability—the significance level. \n",
    "\n",
    "**Hypothesis tests** are used in determining what outcomes of a study would lead to a **rejection** of the null hypothesis for a pre-specified **level of significance**. The process of distinguishing between the **null hypothesis** and the **alternative hypothesis **is aided by identifying **two conceptual types of errors** (type 1 & type 2), and by specifying parametric limits on e.g. how much type 1 error will be permitted.\n",
    "\n",
    "An alternative framework for statistical hypothesis testing is to specify a set of statistical models, one for each candidate hypothesis, and then use model selection techniques to choose the most appropriate model.[2] The most common selection techniques are based on either Akaike information criterion or Bayes factor.\n",
    "\n",
    "\n"
   ]
  },
  {
   "cell_type": "markdown",
   "metadata": {},
   "source": [
    "## Hypothesis test\n",
    "\n",
    "A hypothesis test examines two opposing hypotheses about a population: the null hypothesis and the alternative hypothesis. How you set up these hypotheses depends on what you are trying to show.\n",
    "\n",
    "- **Null hypothesis** (H0)\n",
    "\n",
    "The null hypothesis states that a population parameter is equal to a value. The null hypothesis is often an initial claim that researchers specify using previous research or knowledge. \n",
    "\n",
    "- **Alternative Hypothesis** (H1)\n",
    "\n",
    "The alternative hypothesis states that the population parameter is different than the value of the population parameter in the null hypothesis. The alternative hypothesis is what you might believe to be true or hope to prove true. "
   ]
  },
  {
   "cell_type": "code",
   "execution_count": 83,
   "metadata": {
    "collapsed": true
   },
   "outputs": [],
   "source": [
    "import pandas as pd\n",
    "import numpy as np\n",
    "from scipy.stats import ttest_ind\n",
    "\n",
    "def get_list_of_university_towns():\n",
    "    # Let's create a new variable for all the values\n",
    "    towns = []\n",
    "    # Read the file\n",
    "    with open('university_towns.txt', 'r+') as file:\n",
    "        state = \"Unknown\"\n",
    "        # Read the \n",
    "        for line in file:\n",
    "            if \"[edit]\" in line:\n",
    "                state = line.split(\"[\")[0].strip()\n",
    "            else:\n",
    "                # Get the country and store into the Dictionary for the dataframe\n",
    "                towns.append([state, line.split(\"(\")[0].strip()])\n",
    "    # Create a dataframe using the data read\n",
    "    return pd.DataFrame(towns, columns=[\"State\", \"RegionName\"])\n",
    "\n",
    "## Recession definition\n",
    "def check_reccession(row):\n",
    "    # By default the recesion is set to False\n",
    "    result = False\n",
    "    if (row[\"i-3\"] < row[\"i-4\"]) and (row[\"i-2\"] < row[\"i-3\"]):\n",
    "        result = True\n",
    "    # Set the final result \n",
    "    row[\"recession\"] = result\n",
    "    return row\n",
    "\n",
    "def get_GDP():\n",
    "    # Open the Excel file\n",
    "    excel = pd.ExcelFile(\"gdplev.xls\")\n",
    "    # Form the first sheet only take the columns E and G with the quarter and chained GDP \n",
    "    GDP = excel.parse(excel.sheet_names[0],names=[\"QuarterYear\",\"GDP\"],skiprows=7, parse_cols=\"E,G\")\n",
    "    # Split the columns quarter year into year\n",
    "    GDP[\"Year\"] = GDP[\"QuarterYear\"].map(lambda cell: cell.split(\"q\")[0])\n",
    "    # Convert to numeric (floa, integer or wathever) values from columns Year and Quarter\n",
    "    GDP[\"Year\"] = pd.to_numeric(GDP[\"Year\"])\n",
    "    GDP[\"GDP\"] = pd.to_numeric(GDP[\"GDP\"])\n",
    "    # Filter the values from 2000 (we also need previous year to compute the recession for the first year)\n",
    "    GDP = GDP[GDP[\"Year\"] >= 1999]\n",
    "    # Reset the index and delete the old one.\n",
    "    GDP.reset_index(drop=True,inplace=True)\n",
    "    # Create new columns with the last 4 quarters in order to cumpute the reccesion\n",
    "    columns = [\"i-4\",\"i-3\",\"i-2\",\"i-1\"]\n",
    "    values = [[np.NaN,np.NaN,np.NaN,np.NaN]] * (len(GDP[\"GDP\"]) )\n",
    "    new_columns = pd.DataFrame(values, columns = columns)\n",
    "    # Add to the columns the data from GDP\n",
    "    for i in range(4, len(GDP[\"GDP\"])):\n",
    "        new_columns.ix[i, columns] = GDP[\"GDP\"].iloc[i-4:i].values  \n",
    "    #Merge the new columns with the GDO set from 2000\t\n",
    "    GDP = pd.concat([GDP,new_columns], axis = 1 )\n",
    "    #Once both set have been merged, et the index\n",
    "    GDP.set_index(\"QuarterYear\", inplace=True)\n",
    "    ## Let's create a new column with recession periods\n",
    "    GDP[\"recession\"] = False\n",
    "    # Apply recession function to the dataframe by row\n",
    "    return GDP.apply(check_reccession,axis = 1)\n",
    "\n",
    "def get_recession_start():\n",
    "    GDP = get_GDP()\n",
    "    recGDP = GDP[GDP[\"recession\"]==True]\n",
    "    bottom = GDP.index.get_loc(recGDP[\"GDP\"].argmin())\n",
    "    return GDP.index[bottom- 3]\n",
    "def get_recession_end():\n",
    "    GDP = get_GDP()\n",
    "    recGDP = GDP[GDP[\"recession\"]==True]\n",
    "    return recGDP[\"GDP\"].argmax()\n",
    "def get_recession_bottom():\n",
    "    GDP = get_GDP()\n",
    "    recGDP = GDP[GDP[\"recession\"]==True]\n",
    "    return recGDP[\"GDP\"].argmin()\n",
    "\n",
    "def convert_housing_data_to_quarters():\n",
    "    homes = pd.read_csv(\"City_Zhvi_AllHomes.csv\")\n",
    "    # Apply the ransfomration to moths to quarters\n",
    "    hquarters = homes.loc[:,[\"RegionName\",\"State\"]]\n",
    "    # Let's loop from 2000 to 2016\n",
    "    for year in range(2000,2017):\n",
    "        # Let's loop over the four quarters per year\n",
    "        for quarter in range(0,4):\n",
    "            #Let's loop over the 12/4 = 3 mothns per quarter\n",
    "            columns = [str(year)+\"-\"+str((quarter * 3) + month).zfill(2) for month in range(1,4)]\n",
    "            # Check if this quarter need to be added\n",
    "            if (any((True for x in homes.columns.values if x in columns))):\n",
    "                #Since get doesn't seems to work fine it the columns doesn't exist, check if a column need\n",
    "                #to be added\n",
    "                for column in columns:\n",
    "                    if not column in homes.columns.values:\n",
    "                        #Add the column with NaN values\n",
    "                        homes[column] = np.nan\n",
    "                hquarters[str(year) + \"q\" + str(quarter+1)] = homes.get(columns).mean(skipna=True, axis=1)\n",
    "    # Map the states\n",
    "    states = {'OH': 'Ohio', 'KY': 'Kentucky', 'AS': 'American Samoa', 'NV': 'Nevada', 'WY': 'Wyoming', \n",
    "              'NA': 'National', 'AL': 'Alabama', 'MD': 'Maryland', 'AK': 'Alaska', 'UT': 'Utah', \n",
    "              'OR': 'Oregon', 'MT': 'Montana', 'IL': 'Illinois', 'TN': 'Tennessee', 'DC': 'District of Columbia', \n",
    "              'VT': 'Vermont', 'ID': 'Idaho', 'AR': 'Arkansas', 'ME': 'Maine', 'WA': 'Washington', \n",
    "              'HI': 'Hawaii', 'WI': 'Wisconsin', 'MI': 'Michigan', 'IN': 'Indiana', 'NJ': 'New Jersey', \n",
    "              'AZ': 'Arizona', 'GU': 'Guam', 'MS': 'Mississippi', 'PR': 'Puerto Rico', 'NC': 'North Carolina', \n",
    "              'TX': 'Texas', 'SD': 'South Dakota', 'MP': 'Northern Mariana Islands', 'IA': 'Iowa',\n",
    "              'MO': 'Missouri', 'CT': 'Connecticut', 'WV': 'West Virginia', 'SC': 'South Carolina',\n",
    "              'LA': 'Louisiana', 'KS': 'Kansas', 'NY': 'New York', 'NE': 'Nebraska', 'OK': 'Oklahoma',\n",
    "              'FL': 'Florida', 'CA': 'California', 'CO': 'Colorado', 'PA': 'Pennsylvania', 'DE': 'Delaware',\n",
    "              'NM': 'New Mexico', 'RI': 'Rhode Island', 'MN': 'Minnesota', 'VI': 'Virgin Islands', \n",
    "              'NH': 'New Hampshire', 'MA': 'Massachusetts', 'GA': 'Georgia', 'ND': 'North Dakota', 'VA': 'Virginia'}\n",
    "    hquarters[\"State\"] = hquarters[\"State\"].map(states)\n",
    "    #Set the new idnex\n",
    "    return hquarters.set_index([\"State\",\"RegionName\"])"
   ]
  },
  {
   "cell_type": "markdown",
   "metadata": {},
   "source": [
    "First **creates** new data showing the **decline** or **growth** of **housing prices** between the **recession start** and the **recession bottom**. \n",
    "\n",
    "Then runs a **ttest** comparing the **university town values** to the **non-university towns values**, return whether the alternative hypothesis (that the two groups are the same) is true or not as well as the **p-value** of the confidence.     "
   ]
  },
  {
   "cell_type": "markdown",
   "metadata": {},
   "source": [
    "- Null Hypothesis (H0) = University town values\n",
    "- Alternative Hypothesis (H1) = Non-university towns values"
   ]
  },
  {
   "cell_type": "markdown",
   "metadata": {},
   "source": [
    "Let's get the decline or growth of housing prices by substracting the prices from the bottom of the recession to the starting."
   ]
  },
  {
   "cell_type": "code",
   "execution_count": 104,
   "metadata": {
    "collapsed": false
   },
   "outputs": [
    {
     "name": "stdout",
     "output_type": "stream",
     "text": [
      "From 2008q3 to 2009q2\n"
     ]
    }
   ],
   "source": [
    "#Let's\n",
    "fromDate = get_recession_start()\n",
    "toDate = get_recession_bottom()\n",
    "print (\"From {0} to {1}\".format(fromDate,toDate))\n"
   ]
  },
  {
   "cell_type": "code",
   "execution_count": 119,
   "metadata": {
    "collapsed": false
   },
   "outputs": [
    {
     "data": {
      "text/plain": [
       "(10730, 5)"
      ]
     },
     "execution_count": 119,
     "metadata": {},
     "output_type": "execute_result"
    }
   ],
   "source": [
    "housing = convert_housing_data_to_quarters()\n",
    "housing = housing.loc[:, fromDate:toDate]\n",
    "housing[\"Ratio\"] = housing.loc[:, toDate] - housing.loc[:, fromDate] \n",
    "housing.shape"
   ]
  },
  {
   "cell_type": "code",
   "execution_count": 158,
   "metadata": {
    "collapsed": false
   },
   "outputs": [
    {
     "data": {
      "text/html": [
       "<div>\n",
       "<table border=\"1\" class=\"dataframe\">\n",
       "  <thead>\n",
       "    <tr style=\"text-align: right;\">\n",
       "      <th></th>\n",
       "      <th></th>\n",
       "      <th>2008q3</th>\n",
       "      <th>2008q4</th>\n",
       "      <th>2009q1</th>\n",
       "      <th>2009q2</th>\n",
       "      <th>Ratio</th>\n",
       "    </tr>\n",
       "    <tr>\n",
       "      <th>State</th>\n",
       "      <th>RegionName</th>\n",
       "      <th></th>\n",
       "      <th></th>\n",
       "      <th></th>\n",
       "      <th></th>\n",
       "      <th></th>\n",
       "    </tr>\n",
       "  </thead>\n",
       "  <tbody>\n",
       "    <tr>\n",
       "      <th>New York</th>\n",
       "      <th>New York</th>\n",
       "      <td>499766.666667</td>\n",
       "      <td>487933.333333</td>\n",
       "      <td>477733.333333</td>\n",
       "      <td>465833.333333</td>\n",
       "      <td>-33933.333333</td>\n",
       "    </tr>\n",
       "    <tr>\n",
       "      <th>California</th>\n",
       "      <th>Los Angeles</th>\n",
       "      <td>469500.000000</td>\n",
       "      <td>443966.666667</td>\n",
       "      <td>426266.666667</td>\n",
       "      <td>413900.000000</td>\n",
       "      <td>-55600.000000</td>\n",
       "    </tr>\n",
       "    <tr>\n",
       "      <th>Illinois</th>\n",
       "      <th>Chicago</th>\n",
       "      <td>232000.000000</td>\n",
       "      <td>227033.333333</td>\n",
       "      <td>223766.666667</td>\n",
       "      <td>219700.000000</td>\n",
       "      <td>-12300.000000</td>\n",
       "    </tr>\n",
       "    <tr>\n",
       "      <th>Pennsylvania</th>\n",
       "      <th>Philadelphia</th>\n",
       "      <td>116933.333333</td>\n",
       "      <td>115866.666667</td>\n",
       "      <td>116200.000000</td>\n",
       "      <td>116166.666667</td>\n",
       "      <td>-766.666667</td>\n",
       "    </tr>\n",
       "    <tr>\n",
       "      <th>Arizona</th>\n",
       "      <th>Phoenix</th>\n",
       "      <td>193766.666667</td>\n",
       "      <td>183333.333333</td>\n",
       "      <td>177566.666667</td>\n",
       "      <td>168233.333333</td>\n",
       "      <td>-25533.333333</td>\n",
       "    </tr>\n",
       "  </tbody>\n",
       "</table>\n",
       "</div>"
      ],
      "text/plain": [
       "                                  2008q3         2008q4         2009q1  \\\n",
       "State        RegionName                                                  \n",
       "New York     New York      499766.666667  487933.333333  477733.333333   \n",
       "California   Los Angeles   469500.000000  443966.666667  426266.666667   \n",
       "Illinois     Chicago       232000.000000  227033.333333  223766.666667   \n",
       "Pennsylvania Philadelphia  116933.333333  115866.666667  116200.000000   \n",
       "Arizona      Phoenix       193766.666667  183333.333333  177566.666667   \n",
       "\n",
       "                                  2009q2         Ratio  \n",
       "State        RegionName                                 \n",
       "New York     New York      465833.333333 -33933.333333  \n",
       "California   Los Angeles   413900.000000 -55600.000000  \n",
       "Illinois     Chicago       219700.000000 -12300.000000  \n",
       "Pennsylvania Philadelphia  116166.666667   -766.666667  \n",
       "Arizona      Phoenix       168233.333333 -25533.333333  "
      ]
     },
     "execution_count": 158,
     "metadata": {},
     "output_type": "execute_result"
    }
   ],
   "source": [
    "housing.head()"
   ]
  },
  {
   "cell_type": "code",
   "execution_count": 159,
   "metadata": {
    "collapsed": false
   },
   "outputs": [
    {
     "data": {
      "text/plain": [
       "(10730, 5)"
      ]
     },
     "execution_count": 159,
     "metadata": {},
     "output_type": "execute_result"
    }
   ],
   "source": [
    "housing.shape"
   ]
  },
  {
   "cell_type": "code",
   "execution_count": 148,
   "metadata": {
    "collapsed": false
   },
   "outputs": [
    {
     "data": {
      "text/html": [
       "<div>\n",
       "<table border=\"1\" class=\"dataframe\">\n",
       "  <thead>\n",
       "    <tr style=\"text-align: right;\">\n",
       "      <th></th>\n",
       "      <th>2008q3</th>\n",
       "      <th>2008q4</th>\n",
       "      <th>2009q1</th>\n",
       "      <th>2009q2</th>\n",
       "      <th>Ratio</th>\n",
       "    </tr>\n",
       "    <tr>\n",
       "      <th>RegionName</th>\n",
       "      <th></th>\n",
       "      <th></th>\n",
       "      <th></th>\n",
       "      <th></th>\n",
       "      <th></th>\n",
       "    </tr>\n",
       "  </thead>\n",
       "  <tbody>\n",
       "    <tr>\n",
       "      <th>New York</th>\n",
       "      <td>499766.666667</td>\n",
       "      <td>487933.333333</td>\n",
       "      <td>477733.333333</td>\n",
       "      <td>465833.333333</td>\n",
       "      <td>-33933.333333</td>\n",
       "    </tr>\n",
       "    <tr>\n",
       "      <th>Rochester</th>\n",
       "      <td>58933.333333</td>\n",
       "      <td>59100.000000</td>\n",
       "      <td>58500.000000</td>\n",
       "      <td>58200.000000</td>\n",
       "      <td>-733.333333</td>\n",
       "    </tr>\n",
       "    <tr>\n",
       "      <th>Yonkers</th>\n",
       "      <td>456366.666667</td>\n",
       "      <td>445500.000000</td>\n",
       "      <td>434900.000000</td>\n",
       "      <td>429300.000000</td>\n",
       "      <td>-27066.666667</td>\n",
       "    </tr>\n",
       "    <tr>\n",
       "      <th>Syracuse</th>\n",
       "      <td>76900.000000</td>\n",
       "      <td>76900.000000</td>\n",
       "      <td>75400.000000</td>\n",
       "      <td>75033.333333</td>\n",
       "      <td>-1866.666667</td>\n",
       "    </tr>\n",
       "    <tr>\n",
       "      <th>Town of Greece</th>\n",
       "      <td>115466.666667</td>\n",
       "      <td>114966.666667</td>\n",
       "      <td>113300.000000</td>\n",
       "      <td>113100.000000</td>\n",
       "      <td>-2366.666667</td>\n",
       "    </tr>\n",
       "  </tbody>\n",
       "</table>\n",
       "</div>"
      ],
      "text/plain": [
       "                       2008q3         2008q4         2009q1         2009q2  \\\n",
       "RegionName                                                                   \n",
       "New York        499766.666667  487933.333333  477733.333333  465833.333333   \n",
       "Rochester        58933.333333   59100.000000   58500.000000   58200.000000   \n",
       "Yonkers         456366.666667  445500.000000  434900.000000  429300.000000   \n",
       "Syracuse         76900.000000   76900.000000   75400.000000   75033.333333   \n",
       "Town of Greece  115466.666667  114966.666667  113300.000000  113100.000000   \n",
       "\n",
       "                       Ratio  \n",
       "RegionName                    \n",
       "New York       -33933.333333  \n",
       "Rochester        -733.333333  \n",
       "Yonkers        -27066.666667  \n",
       "Syracuse        -1866.666667  \n",
       "Town of Greece  -2366.666667  "
      ]
     },
     "execution_count": 148,
     "metadata": {},
     "output_type": "execute_result"
    }
   ],
   "source": [
    "housing.loc[\"New York\",:].head()"
   ]
  },
  {
   "cell_type": "markdown",
   "metadata": {},
   "source": [
    "Now we have to divide the current series beween the housin in univeristy towns and the non university towns\n",
    "\n",
    "- University town: inner merge between the univeristy town dataframe to this one.\n",
    "- Non University town: outer merge between the univeristy town dataframe to this one.\n"
   ]
  },
  {
   "cell_type": "markdown",
   "metadata": {},
   "source": [
    "Get the Universisty towns "
   ]
  },
  {
   "cell_type": "code",
   "execution_count": 123,
   "metadata": {
    "collapsed": false
   },
   "outputs": [
    {
     "data": {
      "text/plain": [
       "(517, 2)"
      ]
     },
     "execution_count": 123,
     "metadata": {},
     "output_type": "execute_result"
    }
   ],
   "source": [
    "UTowns = get_list_of_university_towns()\n",
    "UTowns.shape"
   ]
  },
  {
   "cell_type": "code",
   "execution_count": 136,
   "metadata": {
    "collapsed": false
   },
   "outputs": [
    {
     "data": {
      "text/html": [
       "<div>\n",
       "<table border=\"1\" class=\"dataframe\">\n",
       "  <thead>\n",
       "    <tr style=\"text-align: right;\">\n",
       "      <th></th>\n",
       "      <th>State</th>\n",
       "      <th>RegionName</th>\n",
       "    </tr>\n",
       "  </thead>\n",
       "  <tbody>\n",
       "    <tr>\n",
       "      <th>0</th>\n",
       "      <td>Alabama</td>\n",
       "      <td>Auburn</td>\n",
       "    </tr>\n",
       "    <tr>\n",
       "      <th>1</th>\n",
       "      <td>Alabama</td>\n",
       "      <td>Florence</td>\n",
       "    </tr>\n",
       "    <tr>\n",
       "      <th>2</th>\n",
       "      <td>Alabama</td>\n",
       "      <td>Jacksonville</td>\n",
       "    </tr>\n",
       "    <tr>\n",
       "      <th>3</th>\n",
       "      <td>Alabama</td>\n",
       "      <td>Livingston</td>\n",
       "    </tr>\n",
       "    <tr>\n",
       "      <th>4</th>\n",
       "      <td>Alabama</td>\n",
       "      <td>Montevallo</td>\n",
       "    </tr>\n",
       "  </tbody>\n",
       "</table>\n",
       "</div>"
      ],
      "text/plain": [
       "     State    RegionName\n",
       "0  Alabama        Auburn\n",
       "1  Alabama      Florence\n",
       "2  Alabama  Jacksonville\n",
       "3  Alabama    Livingston\n",
       "4  Alabama    Montevallo"
      ]
     },
     "execution_count": 136,
     "metadata": {},
     "output_type": "execute_result"
    }
   ],
   "source": [
    "UTowns.head()"
   ]
  },
  {
   "cell_type": "code",
   "execution_count": 149,
   "metadata": {
    "collapsed": false
   },
   "outputs": [
    {
     "data": {
      "text/html": [
       "<div>\n",
       "<table border=\"1\" class=\"dataframe\">\n",
       "  <thead>\n",
       "    <tr style=\"text-align: right;\">\n",
       "      <th></th>\n",
       "      <th>State</th>\n",
       "      <th>RegionName</th>\n",
       "    </tr>\n",
       "  </thead>\n",
       "  <tbody>\n",
       "    <tr>\n",
       "      <th>276</th>\n",
       "      <td>New York</td>\n",
       "      <td>Alfred</td>\n",
       "    </tr>\n",
       "    <tr>\n",
       "      <th>277</th>\n",
       "      <td>New York</td>\n",
       "      <td>Albany</td>\n",
       "    </tr>\n",
       "    <tr>\n",
       "      <th>278</th>\n",
       "      <td>New York</td>\n",
       "      <td>Aurora</td>\n",
       "    </tr>\n",
       "    <tr>\n",
       "      <th>279</th>\n",
       "      <td>New York</td>\n",
       "      <td>Binghamton</td>\n",
       "    </tr>\n",
       "    <tr>\n",
       "      <th>280</th>\n",
       "      <td>New York</td>\n",
       "      <td>Brockport</td>\n",
       "    </tr>\n",
       "  </tbody>\n",
       "</table>\n",
       "</div>"
      ],
      "text/plain": [
       "        State  RegionName\n",
       "276  New York      Alfred\n",
       "277  New York      Albany\n",
       "278  New York      Aurora\n",
       "279  New York  Binghamton\n",
       "280  New York   Brockport"
      ]
     },
     "execution_count": 149,
     "metadata": {},
     "output_type": "execute_result"
    }
   ],
   "source": [
    "UTowns[UTowns[\"State\"] == \"New York\"].head()"
   ]
  },
  {
   "cell_type": "code",
   "execution_count": 151,
   "metadata": {
    "collapsed": false
   },
   "outputs": [],
   "source": [
    "?pd.merge"
   ]
  },
  {
   "cell_type": "code",
   "execution_count": 142,
   "metadata": {
    "collapsed": false
   },
   "outputs": [
    {
     "data": {
      "text/plain": [
       "(269, 7)"
      ]
     },
     "execution_count": 142,
     "metadata": {},
     "output_type": "execute_result"
    }
   ],
   "source": [
    "inUTowns = pd.merge(housing,UTowns,how='inner',left_index=True,right_on=[\"State\",\"RegionName\"])\n",
    "inUTowns.shape"
   ]
  },
  {
   "cell_type": "code",
   "execution_count": null,
   "metadata": {
    "collapsed": true
   },
   "outputs": [],
   "source": []
  },
  {
   "cell_type": "code",
   "execution_count": 130,
   "metadata": {
    "collapsed": false
   },
   "outputs": [
    {
     "data": {
      "text/html": [
       "<div>\n",
       "<table border=\"1\" class=\"dataframe\">\n",
       "  <thead>\n",
       "    <tr style=\"text-align: right;\">\n",
       "      <th></th>\n",
       "      <th>2008q3</th>\n",
       "      <th>2008q4</th>\n",
       "      <th>2009q1</th>\n",
       "      <th>2009q2</th>\n",
       "      <th>Ratio</th>\n",
       "      <th>State</th>\n",
       "      <th>RegionName</th>\n",
       "    </tr>\n",
       "  </thead>\n",
       "  <tbody>\n",
       "    <tr>\n",
       "      <th>252</th>\n",
       "      <td>213366.666667</td>\n",
       "      <td>194933.333333</td>\n",
       "      <td>181200.000000</td>\n",
       "      <td>164333.333333</td>\n",
       "      <td>-49033.333333</td>\n",
       "      <td>Nevada</td>\n",
       "      <td>Las Vegas</td>\n",
       "    </tr>\n",
       "    <tr>\n",
       "      <th>38</th>\n",
       "      <td>424666.666667</td>\n",
       "      <td>407633.333333</td>\n",
       "      <td>395700.000000</td>\n",
       "      <td>389500.000000</td>\n",
       "      <td>-35166.666667</td>\n",
       "      <td>California</td>\n",
       "      <td>San Diego</td>\n",
       "    </tr>\n",
       "    <tr>\n",
       "      <th>450</th>\n",
       "      <td>112166.666667</td>\n",
       "      <td>109900.000000</td>\n",
       "      <td>107666.666667</td>\n",
       "      <td>105100.000000</td>\n",
       "      <td>-7066.666667</td>\n",
       "      <td>Texas</td>\n",
       "      <td>Dallas</td>\n",
       "    </tr>\n",
       "    <tr>\n",
       "      <th>445</th>\n",
       "      <td>211033.333333</td>\n",
       "      <td>207466.666667</td>\n",
       "      <td>207000.000000</td>\n",
       "      <td>204000.000000</td>\n",
       "      <td>-7033.333333</td>\n",
       "      <td>Texas</td>\n",
       "      <td>Austin</td>\n",
       "    </tr>\n",
       "    <tr>\n",
       "      <th>335</th>\n",
       "      <td>112200.000000</td>\n",
       "      <td>111600.000000</td>\n",
       "      <td>110966.666667</td>\n",
       "      <td>109766.666667</td>\n",
       "      <td>-2433.333333</td>\n",
       "      <td>Ohio</td>\n",
       "      <td>Columbus</td>\n",
       "    </tr>\n",
       "  </tbody>\n",
       "</table>\n",
       "</div>"
      ],
      "text/plain": [
       "            2008q3         2008q4         2009q1         2009q2         Ratio  \\\n",
       "252  213366.666667  194933.333333  181200.000000  164333.333333 -49033.333333   \n",
       "38   424666.666667  407633.333333  395700.000000  389500.000000 -35166.666667   \n",
       "450  112166.666667  109900.000000  107666.666667  105100.000000  -7066.666667   \n",
       "445  211033.333333  207466.666667  207000.000000  204000.000000  -7033.333333   \n",
       "335  112200.000000  111600.000000  110966.666667  109766.666667  -2433.333333   \n",
       "\n",
       "          State RegionName  \n",
       "252      Nevada  Las Vegas  \n",
       "38   California  San Diego  \n",
       "450       Texas     Dallas  \n",
       "445       Texas     Austin  \n",
       "335        Ohio   Columbus  "
      ]
     },
     "execution_count": 130,
     "metadata": {},
     "output_type": "execute_result"
    }
   ],
   "source": [
    "inUTowns.head()"
   ]
  },
  {
   "cell_type": "code",
   "execution_count": null,
   "metadata": {
    "collapsed": false
   },
   "outputs": [],
   "source": [
    "inUTowns.set_index([\"State\",\"RegionName\"],inplace = True)"
   ]
  },
  {
   "cell_type": "code",
   "execution_count": 155,
   "metadata": {
    "collapsed": false
   },
   "outputs": [
    {
     "data": {
      "text/html": [
       "<div>\n",
       "<table border=\"1\" class=\"dataframe\">\n",
       "  <thead>\n",
       "    <tr style=\"text-align: right;\">\n",
       "      <th></th>\n",
       "      <th></th>\n",
       "      <th>2008q3</th>\n",
       "      <th>2008q4</th>\n",
       "      <th>2009q1</th>\n",
       "      <th>2009q2</th>\n",
       "      <th>Ratio</th>\n",
       "    </tr>\n",
       "    <tr>\n",
       "      <th>State</th>\n",
       "      <th>RegionName</th>\n",
       "      <th></th>\n",
       "      <th></th>\n",
       "      <th></th>\n",
       "      <th></th>\n",
       "      <th></th>\n",
       "    </tr>\n",
       "  </thead>\n",
       "  <tbody>\n",
       "    <tr>\n",
       "      <th>Nevada</th>\n",
       "      <th>Las Vegas</th>\n",
       "      <td>213366.666667</td>\n",
       "      <td>194933.333333</td>\n",
       "      <td>181200.000000</td>\n",
       "      <td>164333.333333</td>\n",
       "      <td>-49033.333333</td>\n",
       "    </tr>\n",
       "    <tr>\n",
       "      <th>California</th>\n",
       "      <th>San Diego</th>\n",
       "      <td>424666.666667</td>\n",
       "      <td>407633.333333</td>\n",
       "      <td>395700.000000</td>\n",
       "      <td>389500.000000</td>\n",
       "      <td>-35166.666667</td>\n",
       "    </tr>\n",
       "    <tr>\n",
       "      <th rowspan=\"2\" valign=\"top\">Texas</th>\n",
       "      <th>Dallas</th>\n",
       "      <td>112166.666667</td>\n",
       "      <td>109900.000000</td>\n",
       "      <td>107666.666667</td>\n",
       "      <td>105100.000000</td>\n",
       "      <td>-7066.666667</td>\n",
       "    </tr>\n",
       "    <tr>\n",
       "      <th>Austin</th>\n",
       "      <td>211033.333333</td>\n",
       "      <td>207466.666667</td>\n",
       "      <td>207000.000000</td>\n",
       "      <td>204000.000000</td>\n",
       "      <td>-7033.333333</td>\n",
       "    </tr>\n",
       "    <tr>\n",
       "      <th>Ohio</th>\n",
       "      <th>Columbus</th>\n",
       "      <td>112200.000000</td>\n",
       "      <td>111600.000000</td>\n",
       "      <td>110966.666667</td>\n",
       "      <td>109766.666667</td>\n",
       "      <td>-2433.333333</td>\n",
       "    </tr>\n",
       "  </tbody>\n",
       "</table>\n",
       "</div>"
      ],
      "text/plain": [
       "                              2008q3         2008q4         2009q1  \\\n",
       "State      RegionName                                                \n",
       "Nevada     Las Vegas   213366.666667  194933.333333  181200.000000   \n",
       "California San Diego   424666.666667  407633.333333  395700.000000   \n",
       "Texas      Dallas      112166.666667  109900.000000  107666.666667   \n",
       "           Austin      211033.333333  207466.666667  207000.000000   \n",
       "Ohio       Columbus    112200.000000  111600.000000  110966.666667   \n",
       "\n",
       "                              2009q2         Ratio  \n",
       "State      RegionName                               \n",
       "Nevada     Las Vegas   164333.333333 -49033.333333  \n",
       "California San Diego   389500.000000 -35166.666667  \n",
       "Texas      Dallas      105100.000000  -7066.666667  \n",
       "           Austin      204000.000000  -7033.333333  \n",
       "Ohio       Columbus    109766.666667  -2433.333333  "
      ]
     },
     "execution_count": 155,
     "metadata": {},
     "output_type": "execute_result"
    }
   ],
   "source": [
    "inUTowns.head()"
   ]
  },
  {
   "cell_type": "code",
   "execution_count": 156,
   "metadata": {
    "collapsed": false
   },
   "outputs": [
    {
     "data": {
      "text/plain": [
       "(269, 5)"
      ]
     },
     "execution_count": 156,
     "metadata": {},
     "output_type": "execute_result"
    }
   ],
   "source": [
    "inUTowns.shape"
   ]
  },
  {
   "cell_type": "code",
   "execution_count": 180,
   "metadata": {
    "collapsed": false
   },
   "outputs": [],
   "source": [
    "noUTowns = pd.merge(housing,UTowns,how='outer',left_index=True,right_on=[\"State\",\"RegionName\"], indicator=True)"
   ]
  },
  {
   "cell_type": "code",
   "execution_count": 174,
   "metadata": {
    "collapsed": false
   },
   "outputs": [
    {
     "data": {
      "text/html": [
       "<div>\n",
       "<table border=\"1\" class=\"dataframe\">\n",
       "  <thead>\n",
       "    <tr style=\"text-align: right;\">\n",
       "      <th></th>\n",
       "      <th>2008q3</th>\n",
       "      <th>2008q4</th>\n",
       "      <th>2009q1</th>\n",
       "      <th>2009q2</th>\n",
       "      <th>Ratio</th>\n",
       "      <th>State</th>\n",
       "      <th>RegionName</th>\n",
       "      <th>_merge</th>\n",
       "    </tr>\n",
       "  </thead>\n",
       "  <tbody>\n",
       "    <tr>\n",
       "      <th>516</th>\n",
       "      <td>499766.666667</td>\n",
       "      <td>487933.333333</td>\n",
       "      <td>477733.333333</td>\n",
       "      <td>465833.333333</td>\n",
       "      <td>-33933.333333</td>\n",
       "      <td>New York</td>\n",
       "      <td>New York</td>\n",
       "      <td>left_only</td>\n",
       "    </tr>\n",
       "    <tr>\n",
       "      <th>516</th>\n",
       "      <td>469500.000000</td>\n",
       "      <td>443966.666667</td>\n",
       "      <td>426266.666667</td>\n",
       "      <td>413900.000000</td>\n",
       "      <td>-55600.000000</td>\n",
       "      <td>California</td>\n",
       "      <td>Los Angeles</td>\n",
       "      <td>left_only</td>\n",
       "    </tr>\n",
       "    <tr>\n",
       "      <th>516</th>\n",
       "      <td>232000.000000</td>\n",
       "      <td>227033.333333</td>\n",
       "      <td>223766.666667</td>\n",
       "      <td>219700.000000</td>\n",
       "      <td>-12300.000000</td>\n",
       "      <td>Illinois</td>\n",
       "      <td>Chicago</td>\n",
       "      <td>left_only</td>\n",
       "    </tr>\n",
       "    <tr>\n",
       "      <th>516</th>\n",
       "      <td>116933.333333</td>\n",
       "      <td>115866.666667</td>\n",
       "      <td>116200.000000</td>\n",
       "      <td>116166.666667</td>\n",
       "      <td>-766.666667</td>\n",
       "      <td>Pennsylvania</td>\n",
       "      <td>Philadelphia</td>\n",
       "      <td>left_only</td>\n",
       "    </tr>\n",
       "    <tr>\n",
       "      <th>516</th>\n",
       "      <td>193766.666667</td>\n",
       "      <td>183333.333333</td>\n",
       "      <td>177566.666667</td>\n",
       "      <td>168233.333333</td>\n",
       "      <td>-25533.333333</td>\n",
       "      <td>Arizona</td>\n",
       "      <td>Phoenix</td>\n",
       "      <td>left_only</td>\n",
       "    </tr>\n",
       "  </tbody>\n",
       "</table>\n",
       "</div>"
      ],
      "text/plain": [
       "            2008q3         2008q4         2009q1         2009q2         Ratio  \\\n",
       "516  499766.666667  487933.333333  477733.333333  465833.333333 -33933.333333   \n",
       "516  469500.000000  443966.666667  426266.666667  413900.000000 -55600.000000   \n",
       "516  232000.000000  227033.333333  223766.666667  219700.000000 -12300.000000   \n",
       "516  116933.333333  115866.666667  116200.000000  116166.666667   -766.666667   \n",
       "516  193766.666667  183333.333333  177566.666667  168233.333333 -25533.333333   \n",
       "\n",
       "            State    RegionName     _merge  \n",
       "516      New York      New York  left_only  \n",
       "516    California   Los Angeles  left_only  \n",
       "516      Illinois       Chicago  left_only  \n",
       "516  Pennsylvania  Philadelphia  left_only  \n",
       "516       Arizona       Phoenix  left_only  "
      ]
     },
     "execution_count": 174,
     "metadata": {},
     "output_type": "execute_result"
    }
   ],
   "source": [
    "noUTowns.head()"
   ]
  },
  {
   "cell_type": "code",
   "execution_count": 175,
   "metadata": {
    "collapsed": false
   },
   "outputs": [
    {
     "data": {
      "text/plain": [
       "(10979, 8)"
      ]
     },
     "execution_count": 175,
     "metadata": {},
     "output_type": "execute_result"
    }
   ],
   "source": [
    "noUTowns.shape"
   ]
  },
  {
   "cell_type": "code",
   "execution_count": 178,
   "metadata": {
    "collapsed": false
   },
   "outputs": [
    {
     "data": {
      "text/html": [
       "<div>\n",
       "<table border=\"1\" class=\"dataframe\">\n",
       "  <thead>\n",
       "    <tr style=\"text-align: right;\">\n",
       "      <th></th>\n",
       "      <th>2008q3</th>\n",
       "      <th>2008q4</th>\n",
       "      <th>2009q1</th>\n",
       "      <th>2009q2</th>\n",
       "      <th>Ratio</th>\n",
       "      <th>State</th>\n",
       "      <th>RegionName</th>\n",
       "      <th>_merge</th>\n",
       "    </tr>\n",
       "  </thead>\n",
       "  <tbody>\n",
       "    <tr>\n",
       "      <th>516</th>\n",
       "      <td>499766.666667</td>\n",
       "      <td>487933.333333</td>\n",
       "      <td>477733.333333</td>\n",
       "      <td>465833.333333</td>\n",
       "      <td>-33933.333333</td>\n",
       "      <td>New York</td>\n",
       "      <td>New York</td>\n",
       "      <td>left_only</td>\n",
       "    </tr>\n",
       "    <tr>\n",
       "      <th>516</th>\n",
       "      <td>469500.000000</td>\n",
       "      <td>443966.666667</td>\n",
       "      <td>426266.666667</td>\n",
       "      <td>413900.000000</td>\n",
       "      <td>-55600.000000</td>\n",
       "      <td>California</td>\n",
       "      <td>Los Angeles</td>\n",
       "      <td>left_only</td>\n",
       "    </tr>\n",
       "    <tr>\n",
       "      <th>516</th>\n",
       "      <td>232000.000000</td>\n",
       "      <td>227033.333333</td>\n",
       "      <td>223766.666667</td>\n",
       "      <td>219700.000000</td>\n",
       "      <td>-12300.000000</td>\n",
       "      <td>Illinois</td>\n",
       "      <td>Chicago</td>\n",
       "      <td>left_only</td>\n",
       "    </tr>\n",
       "    <tr>\n",
       "      <th>516</th>\n",
       "      <td>116933.333333</td>\n",
       "      <td>115866.666667</td>\n",
       "      <td>116200.000000</td>\n",
       "      <td>116166.666667</td>\n",
       "      <td>-766.666667</td>\n",
       "      <td>Pennsylvania</td>\n",
       "      <td>Philadelphia</td>\n",
       "      <td>left_only</td>\n",
       "    </tr>\n",
       "    <tr>\n",
       "      <th>516</th>\n",
       "      <td>193766.666667</td>\n",
       "      <td>183333.333333</td>\n",
       "      <td>177566.666667</td>\n",
       "      <td>168233.333333</td>\n",
       "      <td>-25533.333333</td>\n",
       "      <td>Arizona</td>\n",
       "      <td>Phoenix</td>\n",
       "      <td>left_only</td>\n",
       "    </tr>\n",
       "  </tbody>\n",
       "</table>\n",
       "</div>"
      ],
      "text/plain": [
       "            2008q3         2008q4         2009q1         2009q2         Ratio  \\\n",
       "516  499766.666667  487933.333333  477733.333333  465833.333333 -33933.333333   \n",
       "516  469500.000000  443966.666667  426266.666667  413900.000000 -55600.000000   \n",
       "516  232000.000000  227033.333333  223766.666667  219700.000000 -12300.000000   \n",
       "516  116933.333333  115866.666667  116200.000000  116166.666667   -766.666667   \n",
       "516  193766.666667  183333.333333  177566.666667  168233.333333 -25533.333333   \n",
       "\n",
       "            State    RegionName     _merge  \n",
       "516      New York      New York  left_only  \n",
       "516    California   Los Angeles  left_only  \n",
       "516      Illinois       Chicago  left_only  \n",
       "516  Pennsylvania  Philadelphia  left_only  \n",
       "516       Arizona       Phoenix  left_only  "
      ]
     },
     "execution_count": 178,
     "metadata": {},
     "output_type": "execute_result"
    }
   ],
   "source": [
    "noUTowns[noUTowns._merge == 'left_only'].head()"
   ]
  },
  {
   "cell_type": "code",
   "execution_count": 182,
   "metadata": {
    "collapsed": true
   },
   "outputs": [],
   "source": [
    "noUTowns = noUTowns[noUTowns._merge == 'left_only']\n"
   ]
  },
  {
   "cell_type": "code",
   "execution_count": 183,
   "metadata": {
    "collapsed": false
   },
   "outputs": [
    {
     "data": {
      "text/plain": [
       "(10461, 8)"
      ]
     },
     "execution_count": 183,
     "metadata": {},
     "output_type": "execute_result"
    }
   ],
   "source": [
    "noUTowns.shape"
   ]
  },
  {
   "cell_type": "code",
   "execution_count": 184,
   "metadata": {
    "collapsed": false
   },
   "outputs": [],
   "source": [
    "noUTowns.set_index([\"State\",\"RegionName\"],inplace = True)"
   ]
  },
  {
   "cell_type": "code",
   "execution_count": 185,
   "metadata": {
    "collapsed": false
   },
   "outputs": [
    {
     "data": {
      "text/html": [
       "<div>\n",
       "<table border=\"1\" class=\"dataframe\">\n",
       "  <thead>\n",
       "    <tr style=\"text-align: right;\">\n",
       "      <th></th>\n",
       "      <th></th>\n",
       "      <th>2008q3</th>\n",
       "      <th>2008q4</th>\n",
       "      <th>2009q1</th>\n",
       "      <th>2009q2</th>\n",
       "      <th>Ratio</th>\n",
       "      <th>_merge</th>\n",
       "    </tr>\n",
       "    <tr>\n",
       "      <th>State</th>\n",
       "      <th>RegionName</th>\n",
       "      <th></th>\n",
       "      <th></th>\n",
       "      <th></th>\n",
       "      <th></th>\n",
       "      <th></th>\n",
       "      <th></th>\n",
       "    </tr>\n",
       "  </thead>\n",
       "  <tbody>\n",
       "    <tr>\n",
       "      <th>New York</th>\n",
       "      <th>New York</th>\n",
       "      <td>499766.666667</td>\n",
       "      <td>487933.333333</td>\n",
       "      <td>477733.333333</td>\n",
       "      <td>465833.333333</td>\n",
       "      <td>-33933.333333</td>\n",
       "      <td>left_only</td>\n",
       "    </tr>\n",
       "    <tr>\n",
       "      <th>California</th>\n",
       "      <th>Los Angeles</th>\n",
       "      <td>469500.000000</td>\n",
       "      <td>443966.666667</td>\n",
       "      <td>426266.666667</td>\n",
       "      <td>413900.000000</td>\n",
       "      <td>-55600.000000</td>\n",
       "      <td>left_only</td>\n",
       "    </tr>\n",
       "    <tr>\n",
       "      <th>Illinois</th>\n",
       "      <th>Chicago</th>\n",
       "      <td>232000.000000</td>\n",
       "      <td>227033.333333</td>\n",
       "      <td>223766.666667</td>\n",
       "      <td>219700.000000</td>\n",
       "      <td>-12300.000000</td>\n",
       "      <td>left_only</td>\n",
       "    </tr>\n",
       "    <tr>\n",
       "      <th>Pennsylvania</th>\n",
       "      <th>Philadelphia</th>\n",
       "      <td>116933.333333</td>\n",
       "      <td>115866.666667</td>\n",
       "      <td>116200.000000</td>\n",
       "      <td>116166.666667</td>\n",
       "      <td>-766.666667</td>\n",
       "      <td>left_only</td>\n",
       "    </tr>\n",
       "    <tr>\n",
       "      <th>Arizona</th>\n",
       "      <th>Phoenix</th>\n",
       "      <td>193766.666667</td>\n",
       "      <td>183333.333333</td>\n",
       "      <td>177566.666667</td>\n",
       "      <td>168233.333333</td>\n",
       "      <td>-25533.333333</td>\n",
       "      <td>left_only</td>\n",
       "    </tr>\n",
       "  </tbody>\n",
       "</table>\n",
       "</div>"
      ],
      "text/plain": [
       "                                  2008q3         2008q4         2009q1  \\\n",
       "State        RegionName                                                  \n",
       "New York     New York      499766.666667  487933.333333  477733.333333   \n",
       "California   Los Angeles   469500.000000  443966.666667  426266.666667   \n",
       "Illinois     Chicago       232000.000000  227033.333333  223766.666667   \n",
       "Pennsylvania Philadelphia  116933.333333  115866.666667  116200.000000   \n",
       "Arizona      Phoenix       193766.666667  183333.333333  177566.666667   \n",
       "\n",
       "                                  2009q2         Ratio     _merge  \n",
       "State        RegionName                                            \n",
       "New York     New York      465833.333333 -33933.333333  left_only  \n",
       "California   Los Angeles   413900.000000 -55600.000000  left_only  \n",
       "Illinois     Chicago       219700.000000 -12300.000000  left_only  \n",
       "Pennsylvania Philadelphia  116166.666667   -766.666667  left_only  \n",
       "Arizona      Phoenix       168233.333333 -25533.333333  left_only  "
      ]
     },
     "execution_count": 185,
     "metadata": {},
     "output_type": "execute_result"
    }
   ],
   "source": [
    "noUTowns.head()"
   ]
  },
  {
   "cell_type": "code",
   "execution_count": null,
   "metadata": {
    "collapsed": false
   },
   "outputs": [],
   "source": [
    "noUTowns = noUTowns.drop(\"_merge\",axis = 1)"
   ]
  },
  {
   "cell_type": "code",
   "execution_count": 191,
   "metadata": {
    "collapsed": false
   },
   "outputs": [
    {
     "data": {
      "text/plain": [
       "(10461, 5)"
      ]
     },
     "execution_count": 191,
     "metadata": {},
     "output_type": "execute_result"
    }
   ],
   "source": [
    "noUTowns.shape"
   ]
  },
  {
   "cell_type": "code",
   "execution_count": 198,
   "metadata": {
    "collapsed": false
   },
   "outputs": [
    {
     "data": {
      "text/plain": [
       "(269, 5)"
      ]
     },
     "execution_count": 198,
     "metadata": {},
     "output_type": "execute_result"
    }
   ],
   "source": [
    "inUTowns.shape"
   ]
  },
  {
   "cell_type": "code",
   "execution_count": null,
   "metadata": {
    "collapsed": false
   },
   "outputs": [],
   "source": []
  },
  {
   "cell_type": "code",
   "execution_count": null,
   "metadata": {
    "collapsed": true
   },
   "outputs": [],
   "source": []
  },
  {
   "cell_type": "code",
   "execution_count": 203,
   "metadata": {
    "collapsed": true
   },
   "outputs": [],
   "source": [
    "t, p = ttest_ind(inUTowns.Ratio.values, noUTowns.Ratio.values, equal_var=False)"
   ]
  },
  {
   "cell_type": "code",
   "execution_count": 3,
   "metadata": {
    "collapsed": false
   },
   "outputs": [],
   "source": [
    "?ttest_ind"
   ]
  },
  {
   "cell_type": "markdown",
   "metadata": {},
   "source": [
    "## Following hypothesis explanation is the key one."
   ]
  },
  {
   "cell_type": "markdown",
   "metadata": {},
   "source": [
    "**Hypothesis**: University towns have their mean housing prices less affected by recessions. We run a t-test to compare the ratio of the mean price of houses in university towns the quarter before the recession starts compared to the recession bottom. (price_ratio=quarter_before_recession/recession_bottom)"
   ]
  },
  {
   "cell_type": "markdown",
   "metadata": {},
   "source": [
    "http://danielbreen.net/projects/housing_prices_college_towns/"
   ]
  },
  {
   "cell_type": "code",
   "execution_count": 48,
   "metadata": {
    "collapsed": false
   },
   "outputs": [],
   "source": [
    "#Let's get the columns where the recession star and the bottom\n",
    "fromDate = get_recession_start()\n",
    "toDate = get_recession_end()\n",
    "\n",
    "# In the example takes the date of the end of the recession insted.. we will try.\n",
    "#  toDate = get_recession_bottom()\n",
    "\n",
    "# Get the housing data and the university towns\n",
    "data = convert_housing_data_to_quarters()\n",
    "towns = get_list_of_university_towns()\n",
    "\n",
    "#Let's use the same index as the data for the university Towns dataframe\n",
    "towns.set_index([\"State\",\"RegionName\"],inplace = True)\n",
    "\n",
    "#Compute the ratio housing prices from the bottom to the start recession period\n",
    "data = data.loc[:, fromDate:toDate]\n",
    "data[\"ratio\"] = data.loc[:, fromDate] / data.loc[:, toDate] "
   ]
  },
  {
   "cell_type": "code",
   "execution_count": 49,
   "metadata": {
    "collapsed": false
   },
   "outputs": [
    {
     "data": {
      "text/html": [
       "<div>\n",
       "<table border=\"1\" class=\"dataframe\">\n",
       "  <thead>\n",
       "    <tr style=\"text-align: right;\">\n",
       "      <th></th>\n",
       "      <th></th>\n",
       "    </tr>\n",
       "    <tr>\n",
       "      <th>State</th>\n",
       "      <th>RegionName</th>\n",
       "    </tr>\n",
       "  </thead>\n",
       "  <tbody>\n",
       "    <tr>\n",
       "      <th rowspan=\"5\" valign=\"top\">Alabama</th>\n",
       "      <th>Auburn</th>\n",
       "    </tr>\n",
       "    <tr>\n",
       "      <th>Florence</th>\n",
       "    </tr>\n",
       "    <tr>\n",
       "      <th>Jacksonville</th>\n",
       "    </tr>\n",
       "    <tr>\n",
       "      <th>Livingston</th>\n",
       "    </tr>\n",
       "    <tr>\n",
       "      <th>Montevallo</th>\n",
       "    </tr>\n",
       "  </tbody>\n",
       "</table>\n",
       "</div>"
      ],
      "text/plain": [
       "Empty DataFrame\n",
       "Columns: []\n",
       "Index: [(Alabama, Auburn), (Alabama, Florence), (Alabama, Jacksonville), (Alabama, Livingston), (Alabama, Montevallo)]"
      ]
     },
     "execution_count": 49,
     "metadata": {},
     "output_type": "execute_result"
    }
   ],
   "source": [
    "towns.head()"
   ]
  },
  {
   "cell_type": "code",
   "execution_count": 50,
   "metadata": {
    "collapsed": false
   },
   "outputs": [
    {
     "data": {
      "text/html": [
       "<div>\n",
       "<table border=\"1\" class=\"dataframe\">\n",
       "  <thead>\n",
       "    <tr style=\"text-align: right;\">\n",
       "      <th></th>\n",
       "      <th></th>\n",
       "      <th>2008q3</th>\n",
       "      <th>2008q4</th>\n",
       "      <th>2009q1</th>\n",
       "      <th>2009q2</th>\n",
       "      <th>2009q3</th>\n",
       "      <th>2009q4</th>\n",
       "      <th>ratio</th>\n",
       "    </tr>\n",
       "    <tr>\n",
       "      <th>State</th>\n",
       "      <th>RegionName</th>\n",
       "      <th></th>\n",
       "      <th></th>\n",
       "      <th></th>\n",
       "      <th></th>\n",
       "      <th></th>\n",
       "      <th></th>\n",
       "      <th></th>\n",
       "    </tr>\n",
       "  </thead>\n",
       "  <tbody>\n",
       "    <tr>\n",
       "      <th>New York</th>\n",
       "      <th>New York</th>\n",
       "      <td>499766.666667</td>\n",
       "      <td>487933.333333</td>\n",
       "      <td>477733.333333</td>\n",
       "      <td>465833.333333</td>\n",
       "      <td>455933.333333</td>\n",
       "      <td>458366.666667</td>\n",
       "      <td>1.090321</td>\n",
       "    </tr>\n",
       "    <tr>\n",
       "      <th>California</th>\n",
       "      <th>Los Angeles</th>\n",
       "      <td>469500.000000</td>\n",
       "      <td>443966.666667</td>\n",
       "      <td>426266.666667</td>\n",
       "      <td>413900.000000</td>\n",
       "      <td>406366.666667</td>\n",
       "      <td>404333.333333</td>\n",
       "      <td>1.161171</td>\n",
       "    </tr>\n",
       "    <tr>\n",
       "      <th>Illinois</th>\n",
       "      <th>Chicago</th>\n",
       "      <td>232000.000000</td>\n",
       "      <td>227033.333333</td>\n",
       "      <td>223766.666667</td>\n",
       "      <td>219700.000000</td>\n",
       "      <td>214100.000000</td>\n",
       "      <td>211666.666667</td>\n",
       "      <td>1.096063</td>\n",
       "    </tr>\n",
       "    <tr>\n",
       "      <th>Pennsylvania</th>\n",
       "      <th>Philadelphia</th>\n",
       "      <td>116933.333333</td>\n",
       "      <td>115866.666667</td>\n",
       "      <td>116200.000000</td>\n",
       "      <td>116166.666667</td>\n",
       "      <td>116733.333333</td>\n",
       "      <td>118566.666667</td>\n",
       "      <td>0.986224</td>\n",
       "    </tr>\n",
       "    <tr>\n",
       "      <th>Arizona</th>\n",
       "      <th>Phoenix</th>\n",
       "      <td>193766.666667</td>\n",
       "      <td>183333.333333</td>\n",
       "      <td>177566.666667</td>\n",
       "      <td>168233.333333</td>\n",
       "      <td>155933.333333</td>\n",
       "      <td>143466.666667</td>\n",
       "      <td>1.350604</td>\n",
       "    </tr>\n",
       "  </tbody>\n",
       "</table>\n",
       "</div>"
      ],
      "text/plain": [
       "                                  2008q3         2008q4         2009q1  \\\n",
       "State        RegionName                                                  \n",
       "New York     New York      499766.666667  487933.333333  477733.333333   \n",
       "California   Los Angeles   469500.000000  443966.666667  426266.666667   \n",
       "Illinois     Chicago       232000.000000  227033.333333  223766.666667   \n",
       "Pennsylvania Philadelphia  116933.333333  115866.666667  116200.000000   \n",
       "Arizona      Phoenix       193766.666667  183333.333333  177566.666667   \n",
       "\n",
       "                                  2009q2         2009q3         2009q4  \\\n",
       "State        RegionName                                                  \n",
       "New York     New York      465833.333333  455933.333333  458366.666667   \n",
       "California   Los Angeles   413900.000000  406366.666667  404333.333333   \n",
       "Illinois     Chicago       219700.000000  214100.000000  211666.666667   \n",
       "Pennsylvania Philadelphia  116166.666667  116733.333333  118566.666667   \n",
       "Arizona      Phoenix       168233.333333  155933.333333  143466.666667   \n",
       "\n",
       "                              ratio  \n",
       "State        RegionName              \n",
       "New York     New York      1.090321  \n",
       "California   Los Angeles   1.161171  \n",
       "Illinois     Chicago       1.096063  \n",
       "Pennsylvania Philadelphia  0.986224  \n",
       "Arizona      Phoenix       1.350604  "
      ]
     },
     "execution_count": 50,
     "metadata": {},
     "output_type": "execute_result"
    }
   ],
   "source": [
    "data.head()"
   ]
  },
  {
   "cell_type": "code",
   "execution_count": 51,
   "metadata": {
    "collapsed": false
   },
   "outputs": [
    {
     "name": "stdout",
     "output_type": "stream",
     "text": [
      "(10730, 7)\n",
      "(517, 0)\n"
     ]
    }
   ],
   "source": [
    "print(data.shape)\n",
    "print(towns.shape)"
   ]
  },
  {
   "cell_type": "code",
   "execution_count": 52,
   "metadata": {
    "collapsed": false
   },
   "outputs": [],
   "source": [
    "dataRatio  = data[\"ratio\"].dropna()"
   ]
  },
  {
   "cell_type": "code",
   "execution_count": 53,
   "metadata": {
    "collapsed": false
   },
   "outputs": [
    {
     "data": {
      "text/plain": [
       "(9884,)"
      ]
     },
     "execution_count": 53,
     "metadata": {},
     "output_type": "execute_result"
    }
   ],
   "source": [
    "dataRatio.shape"
   ]
  },
  {
   "cell_type": "code",
   "execution_count": 54,
   "metadata": {
    "collapsed": true
   },
   "outputs": [],
   "source": [
    "#Get the universisty towns\n",
    "university = pd.merge(data,towns,how='inner',left_index=True,right_index=True)"
   ]
  },
  {
   "cell_type": "code",
   "execution_count": 55,
   "metadata": {
    "collapsed": false
   },
   "outputs": [
    {
     "data": {
      "text/html": [
       "<div>\n",
       "<table border=\"1\" class=\"dataframe\">\n",
       "  <thead>\n",
       "    <tr style=\"text-align: right;\">\n",
       "      <th></th>\n",
       "      <th></th>\n",
       "      <th>2008q3</th>\n",
       "      <th>2008q4</th>\n",
       "      <th>2009q1</th>\n",
       "      <th>2009q2</th>\n",
       "      <th>2009q3</th>\n",
       "      <th>2009q4</th>\n",
       "      <th>ratio</th>\n",
       "    </tr>\n",
       "    <tr>\n",
       "      <th>State</th>\n",
       "      <th>RegionName</th>\n",
       "      <th></th>\n",
       "      <th></th>\n",
       "      <th></th>\n",
       "      <th></th>\n",
       "      <th></th>\n",
       "      <th></th>\n",
       "      <th></th>\n",
       "    </tr>\n",
       "  </thead>\n",
       "  <tbody>\n",
       "    <tr>\n",
       "      <th rowspan=\"2\" valign=\"top\">Alabama</th>\n",
       "      <th>Montevallo</th>\n",
       "      <td>127266.666667</td>\n",
       "      <td>125800.000000</td>\n",
       "      <td>124033.333333</td>\n",
       "      <td>125200.000000</td>\n",
       "      <td>122666.666667</td>\n",
       "      <td>124133.333333</td>\n",
       "      <td>1.025242</td>\n",
       "    </tr>\n",
       "    <tr>\n",
       "      <th>Tuscaloosa</th>\n",
       "      <td>139600.000000</td>\n",
       "      <td>140100.000000</td>\n",
       "      <td>139133.333333</td>\n",
       "      <td>136933.333333</td>\n",
       "      <td>137233.333333</td>\n",
       "      <td>136533.333333</td>\n",
       "      <td>1.022461</td>\n",
       "    </tr>\n",
       "    <tr>\n",
       "      <th>Alaska</th>\n",
       "      <th>Fairbanks</th>\n",
       "      <td>249966.666667</td>\n",
       "      <td>242900.000000</td>\n",
       "      <td>234966.666667</td>\n",
       "      <td>225833.333333</td>\n",
       "      <td>225766.666667</td>\n",
       "      <td>224033.333333</td>\n",
       "      <td>1.115757</td>\n",
       "    </tr>\n",
       "    <tr>\n",
       "      <th rowspan=\"2\" valign=\"top\">Arizona</th>\n",
       "      <th>Flagstaff</th>\n",
       "      <td>322633.333333</td>\n",
       "      <td>318733.333333</td>\n",
       "      <td>309400.000000</td>\n",
       "      <td>299600.000000</td>\n",
       "      <td>290900.000000</td>\n",
       "      <td>284000.000000</td>\n",
       "      <td>1.136033</td>\n",
       "    </tr>\n",
       "    <tr>\n",
       "      <th>Tempe</th>\n",
       "      <td>228133.333333</td>\n",
       "      <td>219766.666667</td>\n",
       "      <td>214666.666667</td>\n",
       "      <td>207500.000000</td>\n",
       "      <td>196300.000000</td>\n",
       "      <td>189133.333333</td>\n",
       "      <td>1.206204</td>\n",
       "    </tr>\n",
       "  </tbody>\n",
       "</table>\n",
       "</div>"
      ],
      "text/plain": [
       "                           2008q3         2008q4         2009q1  \\\n",
       "State   RegionName                                                \n",
       "Alabama Montevallo  127266.666667  125800.000000  124033.333333   \n",
       "        Tuscaloosa  139600.000000  140100.000000  139133.333333   \n",
       "Alaska  Fairbanks   249966.666667  242900.000000  234966.666667   \n",
       "Arizona Flagstaff   322633.333333  318733.333333  309400.000000   \n",
       "        Tempe       228133.333333  219766.666667  214666.666667   \n",
       "\n",
       "                           2009q2         2009q3         2009q4     ratio  \n",
       "State   RegionName                                                         \n",
       "Alabama Montevallo  125200.000000  122666.666667  124133.333333  1.025242  \n",
       "        Tuscaloosa  136933.333333  137233.333333  136533.333333  1.022461  \n",
       "Alaska  Fairbanks   225833.333333  225766.666667  224033.333333  1.115757  \n",
       "Arizona Flagstaff   299600.000000  290900.000000  284000.000000  1.136033  \n",
       "        Tempe       207500.000000  196300.000000  189133.333333  1.206204  "
      ]
     },
     "execution_count": 55,
     "metadata": {},
     "output_type": "execute_result"
    }
   ],
   "source": [
    "university.head()"
   ]
  },
  {
   "cell_type": "code",
   "execution_count": 56,
   "metadata": {
    "collapsed": false
   },
   "outputs": [
    {
     "data": {
      "text/plain": [
       "(269, 7)"
      ]
     },
     "execution_count": 56,
     "metadata": {},
     "output_type": "execute_result"
    }
   ],
   "source": [
    "university.shape"
   ]
  },
  {
   "cell_type": "code",
   "execution_count": 57,
   "metadata": {
    "collapsed": true
   },
   "outputs": [],
   "source": [
    "non_university = pd.merge(data, towns,how='outer',left_index=True, right_index=True, indicator=True)"
   ]
  },
  {
   "cell_type": "code",
   "execution_count": 58,
   "metadata": {
    "collapsed": false
   },
   "outputs": [
    {
     "data": {
      "text/html": [
       "<div>\n",
       "<table border=\"1\" class=\"dataframe\">\n",
       "  <thead>\n",
       "    <tr style=\"text-align: right;\">\n",
       "      <th></th>\n",
       "      <th></th>\n",
       "      <th>2008q3</th>\n",
       "      <th>2008q4</th>\n",
       "      <th>2009q1</th>\n",
       "      <th>2009q2</th>\n",
       "      <th>2009q3</th>\n",
       "      <th>2009q4</th>\n",
       "      <th>ratio</th>\n",
       "      <th>_merge</th>\n",
       "    </tr>\n",
       "    <tr>\n",
       "      <th>State</th>\n",
       "      <th>RegionName</th>\n",
       "      <th></th>\n",
       "      <th></th>\n",
       "      <th></th>\n",
       "      <th></th>\n",
       "      <th></th>\n",
       "      <th></th>\n",
       "      <th></th>\n",
       "      <th></th>\n",
       "    </tr>\n",
       "  </thead>\n",
       "  <tbody>\n",
       "    <tr>\n",
       "      <th rowspan=\"5\" valign=\"top\">Alabama</th>\n",
       "      <th>Adamsville</th>\n",
       "      <td>84866.666667</td>\n",
       "      <td>85833.333333</td>\n",
       "      <td>85433.333333</td>\n",
       "      <td>85766.666667</td>\n",
       "      <td>84766.666667</td>\n",
       "      <td>82933.333333</td>\n",
       "      <td>1.023312</td>\n",
       "      <td>left_only</td>\n",
       "    </tr>\n",
       "    <tr>\n",
       "      <th>Alabaster</th>\n",
       "      <td>155333.333333</td>\n",
       "      <td>153200.000000</td>\n",
       "      <td>150533.333333</td>\n",
       "      <td>149666.666667</td>\n",
       "      <td>149600.000000</td>\n",
       "      <td>149266.666667</td>\n",
       "      <td>1.040643</td>\n",
       "      <td>left_only</td>\n",
       "    </tr>\n",
       "    <tr>\n",
       "      <th>Albertville</th>\n",
       "      <td>85333.333333</td>\n",
       "      <td>83766.666667</td>\n",
       "      <td>84200.000000</td>\n",
       "      <td>84333.333333</td>\n",
       "      <td>84666.666667</td>\n",
       "      <td>86900.000000</td>\n",
       "      <td>0.981972</td>\n",
       "      <td>left_only</td>\n",
       "    </tr>\n",
       "    <tr>\n",
       "      <th>Arab</th>\n",
       "      <td>108933.333333</td>\n",
       "      <td>107933.333333</td>\n",
       "      <td>113600.000000</td>\n",
       "      <td>115366.666667</td>\n",
       "      <td>113533.333333</td>\n",
       "      <td>110733.333333</td>\n",
       "      <td>0.983745</td>\n",
       "      <td>left_only</td>\n",
       "    </tr>\n",
       "    <tr>\n",
       "      <th>Ardmore</th>\n",
       "      <td>149100.000000</td>\n",
       "      <td>151200.000000</td>\n",
       "      <td>147133.333333</td>\n",
       "      <td>143900.000000</td>\n",
       "      <td>142800.000000</td>\n",
       "      <td>142466.666667</td>\n",
       "      <td>1.046561</td>\n",
       "      <td>left_only</td>\n",
       "    </tr>\n",
       "  </tbody>\n",
       "</table>\n",
       "</div>"
      ],
      "text/plain": [
       "                            2008q3         2008q4         2009q1  \\\n",
       "State   RegionName                                                 \n",
       "Alabama Adamsville    84866.666667   85833.333333   85433.333333   \n",
       "        Alabaster    155333.333333  153200.000000  150533.333333   \n",
       "        Albertville   85333.333333   83766.666667   84200.000000   \n",
       "        Arab         108933.333333  107933.333333  113600.000000   \n",
       "        Ardmore      149100.000000  151200.000000  147133.333333   \n",
       "\n",
       "                            2009q2         2009q3         2009q4     ratio  \\\n",
       "State   RegionName                                                           \n",
       "Alabama Adamsville    85766.666667   84766.666667   82933.333333  1.023312   \n",
       "        Alabaster    149666.666667  149600.000000  149266.666667  1.040643   \n",
       "        Albertville   84333.333333   84666.666667   86900.000000  0.981972   \n",
       "        Arab         115366.666667  113533.333333  110733.333333  0.983745   \n",
       "        Ardmore      143900.000000  142800.000000  142466.666667  1.046561   \n",
       "\n",
       "                        _merge  \n",
       "State   RegionName              \n",
       "Alabama Adamsville   left_only  \n",
       "        Alabaster    left_only  \n",
       "        Albertville  left_only  \n",
       "        Arab         left_only  \n",
       "        Ardmore      left_only  "
      ]
     },
     "execution_count": 58,
     "metadata": {},
     "output_type": "execute_result"
    }
   ],
   "source": [
    "non_university.head()"
   ]
  },
  {
   "cell_type": "code",
   "execution_count": 59,
   "metadata": {
    "collapsed": false
   },
   "outputs": [
    {
     "data": {
      "text/plain": [
       "(10979, 8)"
      ]
     },
     "execution_count": 59,
     "metadata": {},
     "output_type": "execute_result"
    }
   ],
   "source": [
    "non_university.shape"
   ]
  },
  {
   "cell_type": "code",
   "execution_count": 61,
   "metadata": {
    "collapsed": false
   },
   "outputs": [],
   "source": [
    "non_university = non_university[non_university._merge == 'left_only']"
   ]
  },
  {
   "cell_type": "code",
   "execution_count": 63,
   "metadata": {
    "collapsed": false
   },
   "outputs": [
    {
     "data": {
      "text/plain": [
       "(10461, 8)"
      ]
     },
     "execution_count": 63,
     "metadata": {},
     "output_type": "execute_result"
    }
   ],
   "source": [
    "non_university.shape"
   ]
  },
  {
   "cell_type": "code",
   "execution_count": 76,
   "metadata": {
    "collapsed": true
   },
   "outputs": [],
   "source": [
    "# In order to delete the indicator columns\n",
    "#noUTowns = non_university.drop(\"_merge\",axis = 1)"
   ]
  },
  {
   "cell_type": "code",
   "execution_count": 79,
   "metadata": {
    "collapsed": false
   },
   "outputs": [
    {
     "name": "stdout",
     "output_type": "stream",
     "text": [
      "(258,)\n",
      "(9626,)\n"
     ]
    }
   ],
   "source": [
    "values_university = university[\"ratio\"].dropna()\n",
    "print (values_university.shape)\n",
    "values_non_university = non_university[\"ratio\"].dropna()\n",
    "print (values_non_university.shape)"
   ]
  },
  {
   "cell_type": "code",
   "execution_count": 73,
   "metadata": {
    "collapsed": false
   },
   "outputs": [],
   "source": [
    "statistic, p_value = tuple(ttest_ind(university[\"ratio\"].dropna(), non_university[\"ratio\"].dropna()))"
   ]
  },
  {
   "cell_type": "code",
   "execution_count": 74,
   "metadata": {
    "collapsed": false
   },
   "outputs": [
    {
     "data": {
      "text/plain": [
       "-3.0622180432091022"
      ]
     },
     "execution_count": 74,
     "metadata": {},
     "output_type": "execute_result"
    }
   ],
   "source": [
    "statistic"
   ]
  },
  {
   "cell_type": "code",
   "execution_count": 80,
   "metadata": {
    "collapsed": false
   },
   "outputs": [
    {
     "data": {
      "text/plain": [
       "0.0022029387845876542"
      ]
     },
     "execution_count": 80,
     "metadata": {},
     "output_type": "execute_result"
    }
   ],
   "source": [
    "p_value\n"
   ]
  },
  {
   "cell_type": "code",
   "execution_count": 82,
   "metadata": {
    "collapsed": false
   },
   "outputs": [
    {
     "data": {
      "text/plain": [
       "(True, 0.0022029387845876542, 'university town')"
      ]
     },
     "execution_count": 82,
     "metadata": {},
     "output_type": "execute_result"
    }
   ],
   "source": [
    "outcome = statistic < 0\n",
    "    \n",
    "different = p_value < 0.05\n",
    "    \n",
    "better = [\"non-university town\", \"university town\"]\n",
    "    \n",
    "(different, p_value, better[outcome])"
   ]
  },
  {
   "cell_type": "code",
   "execution_count": 91,
   "metadata": {
    "collapsed": false
   },
   "outputs": [],
   "source": [
    "def run_ttest():\n",
    "    #Let's get the columns where the recession star and the bottom\n",
    "    fromDate = get_recession_start()\n",
    "    toDate = get_recession_end()\n",
    "    # Get the housing data and the university towns\n",
    "    data = convert_housing_data_to_quarters()\n",
    "    towns = get_list_of_university_towns()\n",
    "    #Let's use the same index as the data for the university Towns dataframe\n",
    "    towns.set_index([\"State\",\"RegionName\"],inplace = True)\n",
    "    #Compute the ratio housing prices from the bottom to the start recession period\n",
    "    data = data.loc[:, fromDate:toDate]\n",
    "    data[\"ratio\"] = data.loc[:, fromDate] / data.loc[:, toDate] \n",
    "    #Get the universisty towns\n",
    "    university = pd.merge(data,towns,how='inner',left_index=True,right_index=True)\n",
    "    #Left outter join\n",
    "    non_university = pd.merge(data, towns,how='outer',left_index=True, right_index=True, indicator=True)\n",
    "    non_university = non_university[non_university._merge == 'left_only']\n",
    "    #Call to ttest                                \n",
    "    statistic, p_value = tuple(ttest_ind(university[\"ratio\"].dropna(), non_university[\"ratio\"].dropna()))\n",
    "    outcome = statistic < 0\n",
    "    different = p_value < 0.05\n",
    "    better = [\"non-university town\", \"university town\"]\n",
    "    return (different, p_value, better[outcome])\n",
    "                                    "
   ]
  },
  {
   "cell_type": "code",
   "execution_count": 92,
   "metadata": {
    "collapsed": false
   },
   "outputs": [
    {
     "data": {
      "text/plain": [
       "(True, 0.0022029387845876542, 'university town')"
      ]
     },
     "execution_count": 92,
     "metadata": {},
     "output_type": "execute_result"
    }
   ],
   "source": [
    "run_ttest()"
   ]
  }
 ],
 "metadata": {
  "coursera": {
   "course_slug": "python-data-analysis",
   "graded_item_id": "Il9Fx",
   "launcher_item_id": "TeDW0",
   "part_id": "WGlun"
  },
  "kernelspec": {
   "display_name": "Python 3",
   "language": "python",
   "name": "python3"
  },
  "language_info": {
   "codemirror_mode": {
    "name": "ipython",
    "version": 3
   },
   "file_extension": ".py",
   "mimetype": "text/x-python",
   "name": "python",
   "nbconvert_exporter": "python",
   "pygments_lexer": "ipython3",
   "version": "3.5.1"
  }
 },
 "nbformat": 4,
 "nbformat_minor": 0
}
